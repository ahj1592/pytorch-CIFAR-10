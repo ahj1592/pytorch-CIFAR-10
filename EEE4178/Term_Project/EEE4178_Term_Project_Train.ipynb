{
  "nbformat": 4,
  "nbformat_minor": 0,
  "metadata": {
    "colab": {
      "name": "EEE4178_Term_Project_Train.ipynb",
      "provenance": [],
      "collapsed_sections": []
    },
    "kernelspec": {
      "name": "python3",
      "display_name": "Python 3"
    },
    "language_info": {
      "name": "python"
    },
    "accelerator": "GPU"
  },
  "cells": [
    {
      "cell_type": "markdown",
      "metadata": {
        "id": "D-cFJ1SE0dJU"
      },
      "source": [
        "# Google Drive Mount"
      ]
    },
    {
      "cell_type": "code",
      "metadata": {
        "colab": {
          "base_uri": "https://localhost:8080/"
        },
        "id": "XrOvhpgfzpkE",
        "outputId": "c499aebb-0c79-47b2-b8fa-c5b0e51e1634"
      },
      "source": [
        "from google.colab import drive\n",
        "drive.mount('/content/gdrive')"
      ],
      "execution_count": null,
      "outputs": [
        {
          "output_type": "stream",
          "name": "stdout",
          "text": [
            "Mounted at /content/gdrive\n"
          ]
        }
      ]
    },
    {
      "cell_type": "markdown",
      "metadata": {
        "id": "ND2Ky2T_0zm9"
      },
      "source": [
        "# Unzip the dataset\n",
        "- Train dataset\n",
        "- Valid dataset"
      ]
    },
    {
      "cell_type": "code",
      "metadata": {
        "id": "J6wyBI0E0ZMu"
      },
      "source": [
        "!unzip /content/gdrive/MyDrive/Project_dataset/Font_npy_90_train.zip\n",
        "!unzip /content/gdrive/MyDrive/Project_dataset/Font_npy_90_val.zip\n",
        "#!unzip /content/gdrive/MyDrive/Project_dataset/Font_npy_90_test.zip"
      ],
      "execution_count": null,
      "outputs": []
    },
    {
      "cell_type": "code",
      "metadata": {
        "id": "I27SszX01NLG"
      },
      "source": [
        "import torch\n",
        "import torchvision\n",
        "import torch.nn as nn\n",
        "import torch.nn.functional as F\n",
        "from torch.utils.data import Dataset\n",
        "\n",
        "from torchvision import models, transforms\n",
        "\n",
        "from torchsummary import summary\n",
        "\n",
        "import matplotlib.pyplot as plt\n",
        "import random\n",
        "import time\n",
        "import os\n",
        "\n",
        "import numpy as np"
      ],
      "execution_count": null,
      "outputs": []
    },
    {
      "cell_type": "markdown",
      "metadata": {
        "id": "97dcArHj2eEP"
      },
      "source": [
        "# Utility functions\n",
        "- fix_seeds()\n",
        "- show_model_summary()\n",
        "- init_weights()"
      ]
    },
    {
      "cell_type": "code",
      "metadata": {
        "id": "VJLK_u3R2Xl3"
      },
      "source": [
        "def fix_seeds(seed=1234):\n",
        "    \"\"\" fix the seed for reproducibility \"\"\"\n",
        "    \n",
        "    os.environ['PYTHONHASHSEED'] = str(seed)\n",
        "    random.seed(seed)\n",
        "    np.random.seed(seed)\n",
        "    torch.manual_seed(seed) \n",
        "    torch.cuda.manual_seed(seed)\n",
        "    torch.backends.cudnn.deterministic = True"
      ],
      "execution_count": null,
      "outputs": []
    },
    {
      "cell_type": "code",
      "metadata": {
        "id": "l_YQEAH-2zdg"
      },
      "source": [
        "def show_model_summary(model):\n",
        "    \"\"\" print model parameters \"\"\"\n",
        "    \n",
        "    print('{:=^60}'.format(\"=\"))\n",
        "    print('{:^60}'.format(\"model summary\"))\n",
        "    print('{:=^60}'.format(\"=\"))\n",
        "    for param_tensor in model.state_dict():\n",
        "        print('%-30s'%param_tensor, '{:^30}'.format(str(model.state_dict()[param_tensor].size())))\n",
        "    print('{:=^60}'.format(\"=\"))\n",
        "    print()"
      ],
      "execution_count": null,
      "outputs": []
    },
    {
      "cell_type": "code",
      "metadata": {
        "id": "dXiFxIBS6ohg"
      },
      "source": [
        "def init_weights(m):\n",
        "    \"\"\"initialize the weights of model \"\"\"\n",
        "    \n",
        "    if isinstance(m, nn.Conv2d):\n",
        "        torch.nn.init.kaiming_uniform_(m.weight.data)\n",
        "        if m.bias is not None:\n",
        "            torch.nn.init.normal_(m.bias.data)\n",
        "    elif isinstance(m, nn.BatchNorm2d):\n",
        "        torch.nn.init.normal_(m.weight.data, mean=1, std=0.02)\n",
        "        torch.nn.init.constant_(m.bias.data, 0)\n",
        "    elif isinstance(m, nn.Linear):\n",
        "        torch.nn.init.kaiming_uniform_(m.weight.data)\n",
        "        torch.nn.init.normal_(m.bias.data)"
      ],
      "execution_count": null,
      "outputs": []
    },
    {
      "cell_type": "markdown",
      "metadata": {
        "id": "mpadLwC01eHe"
      },
      "source": [
        "# Load dataset"
      ]
    },
    {
      "cell_type": "code",
      "metadata": {
        "colab": {
          "base_uri": "https://localhost:8080/"
        },
        "id": "QcSn42VO1ZuF",
        "outputId": "1fb641f4-c2a6-4075-81ee-0f9e57fd5c50"
      },
      "source": [
        "# load dataset\n",
        "import glob\n",
        "class MyDataset(Dataset):\n",
        "    def __init__(self, npy_dir): # image file (*.npy) 들을 포함하고 있는 디렉토리 경로 npy_dir 로 받아야, \n",
        "        self.dir_path = npy_dir\n",
        "        self.to_tensor = transforms.ToTensor()\n",
        "\n",
        "        # all npy path\n",
        "        self.npy_path = glob.glob(os.path.join(npy_dir, '*','*.npy')) \n",
        "\n",
        "    def __getitem__(self, index):\n",
        "        # load data\n",
        "        single_data_path = self.npy_path[index]\n",
        "        data = np.load(single_data_path, allow_pickle=True)\n",
        "        \n",
        "        image = data[0]\n",
        "        image = self.to_tensor(image)\n",
        "        label = data[1]\n",
        "       \n",
        "        return (image, label)\n",
        "\n",
        "    def __len__(self):\n",
        "        return len(self.npy_path)\n",
        "\n",
        "\n",
        "\n",
        "# unzip 한 디렉토리 있는 path 그대로 넣어야, 디렉토리 옆 점 3개 누르면 '경로 복사' 있음 - 위의 사진 참조\n",
        "train_data = MyDataset(\"/content/Font_npy_90_train\") \n",
        "valid_data = MyDataset(\"/content/Font_npy_90_val\")\n",
        "#test_data = MyDataset(\"/content/Font_npy_90_test\")\n",
        "\n",
        "print(f'size of train data: {len(train_data)}')\n",
        "print(f'size of valid data: {len(valid_data)}')\n",
        "#print(len(test_data))"
      ],
      "execution_count": null,
      "outputs": [
        {
          "output_type": "stream",
          "name": "stdout",
          "text": [
            "size of train data: 37232\n",
            "size of valid data: 7800\n"
          ]
        }
      ]
    },
    {
      "cell_type": "code",
      "metadata": {
        "colab": {
          "base_uri": "https://localhost:8080/"
        },
        "id": "k4AJ0xLt12VJ",
        "outputId": "8d7c2e79-00a0-4a31-a507-53d1d012e130"
      },
      "source": [
        "batch_size = 50\n",
        "fix_seeds(seed=1234)\n",
        "train_loader = torch.utils.data.DataLoader(dataset=train_data,\n",
        "                                           batch_size=batch_size,\n",
        "                                           shuffle=True)\n",
        "\n",
        "fix_seeds(seed=1234)\n",
        "valid_loader = torch.utils.data.DataLoader(dataset=valid_data,\n",
        "                                           batch_size=batch_size,\n",
        "                                           shuffle=True)\n",
        "\"\"\"\n",
        "fix_seeds(seed=1234)\n",
        "test_loader = torch.utils.data.DataLoader(dataset=test_data,\n",
        "                                           batch_size=batch_size,\n",
        "                                           shuffle=False)\n",
        "\"\"\"\n",
        "\n",
        "\n",
        "# check dataloader\n",
        "image, label = next(iter(valid_loader))\n",
        "print(f'image shape: {image.shape}')\n",
        "print(f'label shape: {label.shape}')"
      ],
      "execution_count": null,
      "outputs": [
        {
          "output_type": "stream",
          "name": "stdout",
          "text": [
            "image shape: torch.Size([50, 1, 90, 90])\n",
            "label shape: torch.Size([50])\n"
          ]
        }
      ]
    },
    {
      "cell_type": "code",
      "metadata": {
        "colab": {
          "base_uri": "https://localhost:8080/",
          "height": 123
        },
        "id": "wyh8UloM2NAK",
        "outputId": "0023d8c7-33eb-4aae-8c96-d015f06cdaf2"
      },
      "source": [
        "# visualize data\n",
        "# character - encoded_label dict , 데이터 확인해보고 싶을 때 참조\n",
        "label_dict = {'0': 0, '1': 1, '2': 2, '3': 3, '4': 4, '5': 5, '6': 6, '7': 7, '8': 8, '9': 9, \n",
        "'A': 10, 'B': 11, 'C': 12, 'D': 13, 'E': 14, 'F': 15, 'G': 16, 'H': 17,\n",
        "'I': 18, 'J': 19, 'K': 20, 'L': 21, 'M': 22, 'N': 23, 'P': 24, 'Q': 25, \n",
        "'R': 26, 'S': 27, 'T': 28, 'U': 29, 'V': 30, 'W': 31, 'X': 32, 'Y': 33, \n",
        "'Z': 34, 'a': 35, 'b': 36, 'd': 37, 'e': 38, 'f': 39, 'g': 40, 'h': 41, \n",
        "'i': 42, 'j': 43, 'm': 44, 'n': 45, 'o': 46, 'q': 47, 'r': 48, 't': 49, 'u': 50, 'y': 51}\n",
        "\n",
        "# image_show function : num 수 만큼 dataset 내의 data를 보여주는 함수\n",
        "def image_show(dataset, num):\n",
        "  fig = plt.figure(figsize=(10,10))\n",
        "\n",
        "  for i in range(num):\n",
        "    plt.subplot(1, num, i+1)\n",
        "    plt.imshow(dataset[i+1200][0].squeeze(), cmap = \"gray\")\n",
        "    plt.title(dataset[i+1200][1])\n",
        "\n",
        "image_show(train_data, 8)"
      ],
      "execution_count": null,
      "outputs": [
        {
          "output_type": "display_data",
          "data": {
            "image/png": "[encoded data removed]",
            "text/plain": [
              "<Figure size 720x720 with 8 Axes>"
            ]
          },
          "metadata": {
            "needs_background": "light"
          }
        }
      ]
    },
    {
      "cell_type": "markdown",
      "metadata": {
        "id": "6Z_m_8oX2RH2"
      },
      "source": [
        "# GPU Configuration"
      ]
    },
    {
      "cell_type": "code",
      "metadata": {
        "colab": {
          "base_uri": "https://localhost:8080/"
        },
        "id": "p_1yxeV52T7H",
        "outputId": "b89822eb-f394-4130-aca3-03ac790e62c0"
      },
      "source": [
        "DEVICE = torch.device('cuda' if torch.cuda.is_available() else 'cpu')\n",
        "print(DEVICE)\n",
        "!nvidia-smi"
      ],
      "execution_count": null,
      "outputs": [
        {
          "output_type": "stream",
          "name": "stdout",
          "text": [
            "cuda\n",
            "Sun Dec 12 13:51:06 2021       \n",
            "+-----------------------------------------------------------------------------+\n",
            "| NVIDIA-SMI 495.44       Driver Version: 460.32.03    CUDA Version: 11.2     |\n",
            "|-------------------------------+----------------------+----------------------+\n",
            "| GPU  Name        Persistence-M| Bus-Id        Disp.A | Volatile Uncorr. ECC |\n",
            "| Fan  Temp  Perf  Pwr:Usage/Cap|         Memory-Usage | GPU-Util  Compute M. |\n",
            "|                               |                      |               MIG M. |\n",
            "|===============================+======================+======================|\n",
            "|   0  Tesla K80           Off  | 00000000:00:04.0 Off |                    0 |\n",
            "| N/A   61C    P8    35W / 149W |      3MiB / 11441MiB |      0%      Default |\n",
            "|                               |                      |                  N/A |\n",
            "+-------------------------------+----------------------+----------------------+\n",
            "                                                                               \n",
            "+-----------------------------------------------------------------------------+\n",
            "| Processes:                                                                  |\n",
            "|  GPU   GI   CI        PID   Type   Process name                  GPU Memory |\n",
            "|        ID   ID                                                   Usage      |\n",
            "|=============================================================================|\n",
            "|  No running processes found                                                 |\n",
            "+-----------------------------------------------------------------------------+\n"
          ]
        }
      ]
    },
    {
      "cell_type": "markdown",
      "metadata": {
        "id": "RHCK-bXq23Z-"
      },
      "source": [
        "# Define Model\n",
        "- based on CNN"
      ]
    },
    {
      "cell_type": "code",
      "metadata": {
        "id": "rPfyTbe-25u_"
      },
      "source": [
        "class ConvNet(nn.Module):\n",
        "    def __init__(self):\n",
        "        super(ConvNet, self).__init__()\n",
        "        # input shape = (1, 90, 90)\n",
        "        self.conv = nn.Sequential(\n",
        "            nn.Conv2d(1, 8, kernel_size=(3, 3), stride=(1, 1), padding=(1, 1), bias=False),\n",
        "            nn.BatchNorm2d(8),\n",
        "            nn.ReLU(),\n",
        "            nn.MaxPool2d(2, 2),\n",
        "            # (90, 90) -> (45, 45)\n",
        "\n",
        "            nn.Conv2d(8, 16, kernel_size=(3, 3), stride=(1, 1), padding=(1, 1), bias=False),\n",
        "            nn.BatchNorm2d(16),\n",
        "            nn.ReLU(),\n",
        "            nn.MaxPool2d(2, 2),\n",
        "            # (45, 45) -> (22, 22)\n",
        "\n",
        "            nn.Conv2d(16, 32, kernel_size=(3, 3), stride=(1, 1), padding=(1, 1), bias=False),\n",
        "            nn.BatchNorm2d(32),\n",
        "            nn.ReLU(),\n",
        "            nn.MaxPool2d(2, 2),\n",
        "            # (22, 22) -> (11, 11)\n",
        "\n",
        "            nn.Conv2d(32, 64, kernel_size=(3, 3), stride=(1, 1), padding=(1, 1), bias=False),\n",
        "            nn.BatchNorm2d(64),\n",
        "            nn.ReLU(),\n",
        "            nn.MaxPool2d(2, 2),\n",
        "            # (11, 11) -> (5, 5)\n",
        "\n",
        "            nn.Conv2d(64, 128, kernel_size=(3, 3), stride=(1, 1), padding=(1, 1), bias=False),\n",
        "             nn.BatchNorm2d(128),\n",
        "            nn.ReLU(),\n",
        "            nn.MaxPool2d(2, 2),\n",
        "            # (5, 5) -> (2, 2)\n",
        "        )\n",
        "\n",
        "\n",
        "        self.fc = nn.Sequential(\n",
        "            nn.Linear(2*2*128, 512),\n",
        "            nn.BatchNorm1d(512),\n",
        "            nn.ReLU(),\n",
        "            nn.Dropout(0.2),\n",
        "\n",
        "            # nn.Linear(1024, 1024),\n",
        "            # nn.ReLU(),\n",
        "            # nn.Dropout(0.2),\n",
        "\n",
        "            nn.Linear(512, 52),\n",
        "            nn.BatchNorm1d(52),\n",
        "        )\n",
        "\n",
        "    def forward(self, x):\n",
        "        x = self.conv(x)\n",
        "        x = x.view(x.size(0), -1)\n",
        "        x = self.fc(x)\n",
        "        return x"
      ],
      "execution_count": null,
      "outputs": []
    },
    {
      "cell_type": "markdown",
      "metadata": {
        "id": "7gns_57X7YCY"
      },
      "source": [
        "# Utility functions"
      ]
    },
    {
      "cell_type": "code",
      "metadata": {
        "id": "AmeO7_Xf7bBJ"
      },
      "source": [
        "def train(model, device, train_loader, optimizer, criterion):\n",
        "    model.train()\n",
        "    steps = len(train_loader)\n",
        "    epoch_loss, acc = 0, 0\n",
        "    total_loss, cnt = 0, 0\n",
        "\n",
        "    for i, (image, label) in enumerate(train_loader, 1):\n",
        "        image = image.to(device)\n",
        "        label = label.to(device)\n",
        "\n",
        "        output = model(image)\n",
        "        loss = criterion(output, label)\n",
        "\n",
        "        optimizer.zero_grad()\n",
        "        loss.backward()\n",
        "        optimizer.step()\n",
        "\n",
        "        total_loss += loss.item()\n",
        "        cnt += 1\n",
        "\n",
        "        epoch_loss += loss.item()\n",
        "        _, preds = torch.max(output.data, 1)\n",
        "        acc += (preds == label).sum().item()\n",
        "\n",
        "        if i % (steps / 5) == 0:\n",
        "            avg_loss = total_loss / cnt\n",
        "            print(f'Batch steps: [{i}|{steps}]({100 * i // steps}%) Average Train Loss: {avg_loss:.4f}')\n",
        "            total_loss, cnt = 0, 0\n",
        "\n",
        "    # return avg_epoch_loss, accuracy\n",
        "    avg_epoch_loss = epoch_loss / len(train_loader)\n",
        "    pct = 100 * acc / len(train_loader.dataset)\n",
        "    return avg_epoch_loss, pct"
      ],
      "execution_count": null,
      "outputs": []
    },
    {
      "cell_type": "code",
      "metadata": {
        "id": "q43cyT_H7s8K"
      },
      "source": [
        "def evaluate(model, device, data_loader, criterion):\n",
        "    model.eval()\n",
        "    epoch_loss, acc = 0, 0\n",
        "    with torch.no_grad():\n",
        "        for (image, label) in data_loader:\n",
        "            image = image.to(device)\n",
        "            label = label.to(device)\n",
        "\n",
        "            output = model(image)\n",
        "            loss = criterion(output, label)\n",
        "\n",
        "            _, pred = torch.max(output.data, 1)\n",
        "            acc += (pred == label).sum().item()\n",
        "            epoch_loss += loss.item()\n",
        "\n",
        "    pct = 100 * acc / len(data_loader.dataset)\n",
        "    # return average loss, accuracy\n",
        "    return epoch_loss / len(data_loader.dataset), pct"
      ],
      "execution_count": null,
      "outputs": []
    },
    {
      "cell_type": "markdown",
      "metadata": {
        "id": "1WpNsiZu6y-j"
      },
      "source": [
        "# Train the model"
      ]
    },
    {
      "cell_type": "code",
      "metadata": {
        "colab": {
          "base_uri": "https://localhost:8080/"
        },
        "id": "1njeolvU60zg",
        "outputId": "ed29bd52-881b-4a85-841c-ad1567955b1d"
      },
      "source": [
        "fix_seeds(seed=1234)\n",
        "model = ConvNet().to(DEVICE)\n",
        "model.apply(init_weights)\n",
        "show_model_summary(model)\n",
        "summary(model,(1,90,90),batch_size=batch_size)\n",
        "\n",
        "learning_rate = 1e-3\n",
        "EPOCHS = 20\n",
        "\n",
        "criterion = nn.CrossEntropyLoss()\n",
        "optimizer = torch.optim.Adam(model.parameters(), lr=learning_rate)\n",
        "\n",
        "best_epoch = 0\n",
        "best_valid_loss = float('inf')\n",
        "epoch_duration = 0\n",
        "\n",
        "results = {\n",
        "    'train': {'loss': [], 'acc': []},\n",
        "    'valid': {'loss': [], 'acc': []},\n",
        "}\n",
        "\n",
        "start = time.time()\n",
        "for epoch in range(1, EPOCHS + 1):\n",
        "    print(f'epoch: {epoch}')\n",
        "    train_loss, train_acc = train(model, DEVICE, train_loader, optimizer, criterion)\n",
        "    valid_loss, valid_acc = evaluate(model, DEVICE, valid_loader, criterion)\n",
        "\n",
        "    # save the results\n",
        "    results['train']['loss'].append(train_loss)\n",
        "    results['train']['acc'].append(train_acc)\n",
        "    results['valid']['loss'].append(valid_loss)\n",
        "    results['valid']['acc'].append(valid_acc)\n",
        "\n",
        "    print(f'Train Loss: {train_loss:.4f}, Train Accuracy(%): {train_acc:.2f}')\n",
        "    print(f'Valid Loss: {valid_loss:.4f}, Valid Accuracy(%): {valid_acc:.2f}')\n",
        "\n",
        "    # save the best model\n",
        "    if valid_loss < best_valid_loss:\n",
        "        best_valid_loss = valid_loss\n",
        "        best_epoch = epoch\n",
        "        torch.save(model.state_dict(), f'20161608.pth')\n",
        "\n",
        "    # compute training time per epoch\n",
        "    end = time.time()\n",
        "    duration = end - start\n",
        "    print(f\"Total Time elapse : {duration/60:.2f} minutes\")\n",
        "    print()\n",
        "\n",
        "    # calculate epoch duration\n",
        "    if epoch_duration == 0:\n",
        "        epoch_duration = duration / 60\n",
        "\n",
        "    # if next epoch is expected to exceed the 10 minute,\n",
        "    # end the for-loop\n",
        "    if (epoch + 1) > (10 / epoch_duration):\n",
        "        break\n",
        "\n",
        "# compute total training time\n",
        "end = time.time()\n",
        "duration = end - start\n",
        "print(f\"Training takes {duration/60:.2f} minutes\")"
      ],
      "execution_count": null,
      "outputs": [
        {
          "output_type": "stream",
          "name": "stdout",
          "text": [
            "============================================================\n",
            "                       model summary                        \n",
            "============================================================\n",
            "conv.0.weight                     torch.Size([8, 1, 3, 3])   \n",
            "conv.1.weight                         torch.Size([8])        \n",
            "conv.1.bias                           torch.Size([8])        \n",
            "conv.1.running_mean                   torch.Size([8])        \n",
            "conv.1.running_var                    torch.Size([8])        \n",
            "conv.1.num_batches_tracked             torch.Size([])        \n",
            "conv.4.weight                    torch.Size([16, 8, 3, 3])   \n",
            "conv.5.weight                         torch.Size([16])       \n",
            "conv.5.bias                           torch.Size([16])       \n",
            "conv.5.running_mean                   torch.Size([16])       \n",
            "conv.5.running_var                    torch.Size([16])       \n",
            "conv.5.num_batches_tracked             torch.Size([])        \n",
            "conv.8.weight                    torch.Size([32, 16, 3, 3])  \n",
            "conv.9.weight                         torch.Size([32])       \n",
            "conv.9.bias                           torch.Size([32])       \n",
            "conv.9.running_mean                   torch.Size([32])       \n",
            "conv.9.running_var                    torch.Size([32])       \n",
            "conv.9.num_batches_tracked             torch.Size([])        \n",
            "conv.12.weight                   torch.Size([64, 32, 3, 3])  \n",
            "conv.13.weight                        torch.Size([64])       \n",
            "conv.13.bias                          torch.Size([64])       \n",
            "conv.13.running_mean                  torch.Size([64])       \n",
            "conv.13.running_var                   torch.Size([64])       \n",
            "conv.13.num_batches_tracked            torch.Size([])        \n",
            "conv.16.weight                  torch.Size([128, 64, 3, 3])  \n",
            "conv.17.weight                       torch.Size([128])       \n",
            "conv.17.bias                         torch.Size([128])       \n",
            "conv.17.running_mean                 torch.Size([128])       \n",
            "conv.17.running_var                  torch.Size([128])       \n",
            "conv.17.num_batches_tracked            torch.Size([])        \n",
            "fc.0.weight                        torch.Size([512, 512])    \n",
            "fc.0.bias                            torch.Size([512])       \n",
            "fc.1.weight                          torch.Size([512])       \n",
            "fc.1.bias                            torch.Size([512])       \n",
            "fc.1.running_mean                    torch.Size([512])       \n",
            "fc.1.running_var                     torch.Size([512])       \n",
            "fc.1.num_batches_tracked               torch.Size([])        \n",
            "fc.4.weight                        torch.Size([52, 512])     \n",
            "fc.4.bias                             torch.Size([52])       \n",
            "fc.5.weight                           torch.Size([52])       \n",
            "fc.5.bias                             torch.Size([52])       \n",
            "fc.5.running_mean                     torch.Size([52])       \n",
            "fc.5.running_var                      torch.Size([52])       \n",
            "fc.5.num_batches_tracked               torch.Size([])        \n",
            "============================================================\n",
            "\n",
            "----------------------------------------------------------------\n",
            "        Layer (type)               Output Shape         Param #\n",
            "================================================================\n",
            "            Conv2d-1            [50, 8, 90, 90]              72\n",
            "       BatchNorm2d-2            [50, 8, 90, 90]              16\n",
            "              ReLU-3            [50, 8, 90, 90]               0\n",
            "         MaxPool2d-4            [50, 8, 45, 45]               0\n",
            "            Conv2d-5           [50, 16, 45, 45]           1,152\n",
            "       BatchNorm2d-6           [50, 16, 45, 45]              32\n",
            "              ReLU-7           [50, 16, 45, 45]               0\n",
            "         MaxPool2d-8           [50, 16, 22, 22]               0\n",
            "            Conv2d-9           [50, 32, 22, 22]           4,608\n",
            "      BatchNorm2d-10           [50, 32, 22, 22]              64\n",
            "             ReLU-11           [50, 32, 22, 22]               0\n",
            "        MaxPool2d-12           [50, 32, 11, 11]               0\n",
            "           Conv2d-13           [50, 64, 11, 11]          18,432\n",
            "      BatchNorm2d-14           [50, 64, 11, 11]             128\n",
            "             ReLU-15           [50, 64, 11, 11]               0\n",
            "        MaxPool2d-16             [50, 64, 5, 5]               0\n",
            "           Conv2d-17            [50, 128, 5, 5]          73,728\n",
            "      BatchNorm2d-18            [50, 128, 5, 5]             256\n",
            "             ReLU-19            [50, 128, 5, 5]               0\n",
            "        MaxPool2d-20            [50, 128, 2, 2]               0\n",
            "           Linear-21                  [50, 512]         262,656\n",
            "      BatchNorm1d-22                  [50, 512]           1,024\n",
            "             ReLU-23                  [50, 512]               0\n",
            "          Dropout-24                  [50, 512]               0\n",
            "           Linear-25                   [50, 52]          26,676\n",
            "      BatchNorm1d-26                   [50, 52]             104\n",
            "================================================================\n",
            "Total params: 388,948\n",
            "Trainable params: 388,948\n",
            "Non-trainable params: 0\n",
            "----------------------------------------------------------------\n",
            "Input size (MB): 1.54\n",
            "Forward/backward pass size (MB): 153.72\n",
            "Params size (MB): 1.48\n",
            "Estimated Total Size (MB): 156.75\n",
            "----------------------------------------------------------------\n",
            "epoch: 1\n",
            "Batch steps: [149|745](20%) Average Train Loss: 1.7139\n",
            "Batch steps: [298|745](40%) Average Train Loss: 0.9988\n",
            "Batch steps: [447|745](60%) Average Train Loss: 0.8452\n",
            "Batch steps: [596|745](80%) Average Train Loss: 0.7303\n",
            "Batch steps: [745|745](100%) Average Train Loss: 0.6569\n",
            "Train Loss: 0.9890, Train Accuracy(%): 82.65\n",
            "Valid Loss: 0.0082, Valid Accuracy(%): 92.26\n",
            "Total Time elapse : 0.80 minutes\n",
            "\n",
            "epoch: 2\n",
            "Batch steps: [149|745](20%) Average Train Loss: 0.5658\n",
            "Batch steps: [298|745](40%) Average Train Loss: 0.5196\n",
            "Batch steps: [447|745](60%) Average Train Loss: 0.4977\n",
            "Batch steps: [596|745](80%) Average Train Loss: 0.4670\n",
            "Batch steps: [745|745](100%) Average Train Loss: 0.4529\n",
            "Train Loss: 0.5006, Train Accuracy(%): 90.73\n",
            "Valid Loss: 0.0055, Valid Accuracy(%): 94.17\n",
            "Total Time elapse : 1.60 minutes\n",
            "\n",
            "epoch: 3\n",
            "Batch steps: [149|745](20%) Average Train Loss: 0.3823\n",
            "Batch steps: [298|745](40%) Average Train Loss: 0.3673\n",
            "Batch steps: [447|745](60%) Average Train Loss: 0.3733\n",
            "Batch steps: [596|745](80%) Average Train Loss: 0.3630\n",
            "Batch steps: [745|745](100%) Average Train Loss: 0.3187\n",
            "Train Loss: 0.3609, Train Accuracy(%): 92.97\n",
            "Valid Loss: 0.0046, Valid Accuracy(%): 94.65\n",
            "Total Time elapse : 2.40 minutes\n",
            "\n",
            "epoch: 4\n",
            "Batch steps: [149|745](20%) Average Train Loss: 0.2872\n",
            "Batch steps: [298|745](40%) Average Train Loss: 0.2769\n",
            "Batch steps: [447|745](60%) Average Train Loss: 0.2825\n",
            "Batch steps: [596|745](80%) Average Train Loss: 0.2790\n",
            "Batch steps: [745|745](100%) Average Train Loss: 0.2673\n",
            "Train Loss: 0.2786, Train Accuracy(%): 94.48\n",
            "Valid Loss: 0.0039, Valid Accuracy(%): 95.47\n",
            "Total Time elapse : 3.20 minutes\n",
            "\n",
            "epoch: 5\n",
            "Batch steps: [149|745](20%) Average Train Loss: 0.2264\n",
            "Batch steps: [298|745](40%) Average Train Loss: 0.2266\n",
            "Batch steps: [447|745](60%) Average Train Loss: 0.2195\n",
            "Batch steps: [596|745](80%) Average Train Loss: 0.2201\n",
            "Batch steps: [745|745](100%) Average Train Loss: 0.2243\n",
            "Train Loss: 0.2234, Train Accuracy(%): 95.60\n",
            "Valid Loss: 0.0037, Valid Accuracy(%): 95.68\n",
            "Total Time elapse : 4.00 minutes\n",
            "\n",
            "epoch: 6\n",
            "Batch steps: [149|745](20%) Average Train Loss: 0.1747\n",
            "Batch steps: [298|745](40%) Average Train Loss: 0.1779\n",
            "Batch steps: [447|745](60%) Average Train Loss: 0.1867\n",
            "Batch steps: [596|745](80%) Average Train Loss: 0.1849\n",
            "Batch steps: [745|745](100%) Average Train Loss: 0.1908\n",
            "Train Loss: 0.1830, Train Accuracy(%): 96.40\n",
            "Valid Loss: 0.0036, Valid Accuracy(%): 96.04\n",
            "Total Time elapse : 4.80 minutes\n",
            "\n",
            "epoch: 7\n",
            "Batch steps: [149|745](20%) Average Train Loss: 0.1481\n",
            "Batch steps: [298|745](40%) Average Train Loss: 0.1673\n",
            "Batch steps: [447|745](60%) Average Train Loss: 0.1463\n",
            "Batch steps: [596|745](80%) Average Train Loss: 0.1505\n",
            "Batch steps: [745|745](100%) Average Train Loss: 0.1711\n",
            "Train Loss: 0.1566, Train Accuracy(%): 96.76\n",
            "Valid Loss: 0.0034, Valid Accuracy(%): 96.17\n",
            "Total Time elapse : 5.60 minutes\n",
            "\n",
            "epoch: 8\n",
            "Batch steps: [149|745](20%) Average Train Loss: 0.1377\n",
            "Batch steps: [298|745](40%) Average Train Loss: 0.1337\n",
            "Batch steps: [447|745](60%) Average Train Loss: 0.1354\n",
            "Batch steps: [596|745](80%) Average Train Loss: 0.1462\n",
            "Batch steps: [745|745](100%) Average Train Loss: 0.1339\n",
            "Train Loss: 0.1374, Train Accuracy(%): 97.08\n",
            "Valid Loss: 0.0031, Valid Accuracy(%): 96.27\n",
            "Total Time elapse : 6.40 minutes\n",
            "\n",
            "epoch: 9\n",
            "Batch steps: [149|745](20%) Average Train Loss: 0.1241\n",
            "Batch steps: [298|745](40%) Average Train Loss: 0.1259\n",
            "Batch steps: [447|745](60%) Average Train Loss: 0.1186\n",
            "Batch steps: [596|745](80%) Average Train Loss: 0.1155\n",
            "Batch steps: [745|745](100%) Average Train Loss: 0.1240\n",
            "Train Loss: 0.1216, Train Accuracy(%): 97.37\n",
            "Valid Loss: 0.0034, Valid Accuracy(%): 96.01\n",
            "Total Time elapse : 7.20 minutes\n",
            "\n",
            "epoch: 10\n",
            "Batch steps: [149|745](20%) Average Train Loss: 0.1136\n",
            "Batch steps: [298|745](40%) Average Train Loss: 0.1087\n",
            "Batch steps: [447|745](60%) Average Train Loss: 0.0961\n",
            "Batch steps: [596|745](80%) Average Train Loss: 0.1161\n",
            "Batch steps: [745|745](100%) Average Train Loss: 0.1194\n",
            "Train Loss: 0.1108, Train Accuracy(%): 97.55\n",
            "Valid Loss: 0.0032, Valid Accuracy(%): 96.18\n",
            "Total Time elapse : 8.01 minutes\n",
            "\n",
            "epoch: 11\n",
            "Batch steps: [149|745](20%) Average Train Loss: 0.0920\n",
            "Batch steps: [298|745](40%) Average Train Loss: 0.0966\n",
            "Batch steps: [447|745](60%) Average Train Loss: 0.1062\n",
            "Batch steps: [596|745](80%) Average Train Loss: 0.1073\n",
            "Batch steps: [745|745](100%) Average Train Loss: 0.1056\n",
            "Train Loss: 0.1016, Train Accuracy(%): 97.72\n",
            "Valid Loss: 0.0032, Valid Accuracy(%): 96.13\n",
            "Total Time elapse : 8.81 minutes\n",
            "\n",
            "epoch: 12\n",
            "Batch steps: [149|745](20%) Average Train Loss: 0.0926\n",
            "Batch steps: [298|745](40%) Average Train Loss: 0.0969\n",
            "Batch steps: [447|745](60%) Average Train Loss: 0.1032\n",
            "Batch steps: [596|745](80%) Average Train Loss: 0.0924\n",
            "Batch steps: [745|745](100%) Average Train Loss: 0.0910\n",
            "Train Loss: 0.0952, Train Accuracy(%): 97.75\n",
            "Valid Loss: 0.0031, Valid Accuracy(%): 96.28\n",
            "Total Time elapse : 9.61 minutes\n",
            "\n",
            "Training takes 9.61 minutes\n"
          ]
        }
      ]
    },
    {
      "cell_type": "markdown",
      "metadata": {
        "id": "ZK8wOHaPuNCd"
      },
      "source": [
        "# Plot loss & accuracy"
      ]
    },
    {
      "cell_type": "code",
      "metadata": {
        "colab": {
          "base_uri": "https://localhost:8080/",
          "height": 305
        },
        "id": "y49tUlLy9L-Q",
        "outputId": "98a46334-0cad-48ce-a6fb-378fd248c35f"
      },
      "source": [
        "plt.plot(results['train']['loss'], color='b', marker='o', label='train')\n",
        "plt.plot(results['valid']['loss'], color='g', marker='^', label='valid')\n",
        "plt.title('Loss', fontsize=20)\n",
        "plt.xlabel('epoch', fontsize=15)\n",
        "plt.legend()\n",
        "plt.show()"
      ],
      "execution_count": null,
      "outputs": [
        {
          "output_type": "display_data",
          "data": {
            "image/png": "[encoded data removed]",
            "text/plain": [
              "<Figure size 432x288 with 1 Axes>"
            ]
          },
          "metadata": {
            "needs_background": "light"
          }
        }
      ]
    },
    {
      "cell_type": "code",
      "metadata": {
        "colab": {
          "base_uri": "https://localhost:8080/",
          "height": 305
        },
        "id": "DJg1qdOQwVHI",
        "outputId": "a06c907f-27f0-4ddd-dc46-e9dd237731a7"
      },
      "source": [
        "plt.plot(results['train']['acc'], color='b', marker='o', label='train')\n",
        "plt.plot(results['valid']['acc'], color='g', marker='^', label='valid')\n",
        "plt.title('Accuracy', fontsize=20)\n",
        "plt.xlabel('epoch', fontsize=15)\n",
        "plt.ylabel('accuracy(%)', fontsize=15)\n",
        "plt.legend()\n",
        "plt.show()"
      ],
      "execution_count": null,
      "outputs": [
        {
          "output_type": "display_data",
          "data": {
            "image/png": "[encoded data removed]",
            "text/plain": [
              "<Figure size 432x288 with 1 Axes>"
            ]
          },
          "metadata": {
            "needs_background": "light"
          }
        }
      ]
    },
    {
      "cell_type": "markdown",
      "metadata": {
        "id": "c5-KgAg9Zgb7"
      },
      "source": [
        "# Analyze the results\n"
      ]
    },
    {
      "cell_type": "code",
      "metadata": {
        "colab": {
          "base_uri": "https://localhost:8080/"
        },
        "id": "ZZAyG0Q37var",
        "outputId": "973bb593-bf85-4d5b-9b8a-653713c5bc79"
      },
      "source": [
        "label_class = {}\n",
        "for k, v in label_dict.items():\n",
        "    label_class[v] = k\n",
        "print(label_class)"
      ],
      "execution_count": null,
      "outputs": [
        {
          "output_type": "stream",
          "name": "stdout",
          "text": [
            "{0: '0', 1: '1', 2: '2', 3: '3', 4: '4', 5: '5', 6: '6', 7: '7', 8: '8', 9: '9', 10: 'A', 11: 'B', 12: 'C', 13: 'D', 14: 'E', 15: 'F', 16: 'G', 17: 'H', 18: 'I', 19: 'J', 20: 'K', 21: 'L', 22: 'M', 23: 'N', 24: 'P', 25: 'Q', 26: 'R', 27: 'S', 28: 'T', 29: 'U', 30: 'V', 31: 'W', 32: 'X', 33: 'Y', 34: 'Z', 35: 'a', 36: 'b', 37: 'd', 38: 'e', 39: 'f', 40: 'g', 41: 'h', 42: 'i', 43: 'j', 44: 'm', 45: 'n', 46: 'o', 47: 'q', 48: 'r', 49: 't', 50: 'u', 51: 'y'}\n"
          ]
        }
      ]
    },
    {
      "cell_type": "code",
      "metadata": {
        "id": "695JdDuPZjVN"
      },
      "source": [
        "def analyze(model, device, data_loader, criterion):\n",
        "    model.eval()\n",
        "    corrects = {}\n",
        "    total = {}\n",
        "    acc = 0\n",
        "    with torch.no_grad():\n",
        "        for (image, label) in data_loader:\n",
        "            image = image.to(device)\n",
        "            label = label.to(device)\n",
        "\n",
        "            output = model(image)\n",
        "            loss = criterion(output, label)\n",
        "\n",
        "            _, pred = torch.max(output.data, 1)\n",
        "            \n",
        "            for label_, pred_ in zip(label, pred):\n",
        "                if label_ == pred_:\n",
        "                    corrects[label_.item()] = corrects.get(label_.item(), 0) + 1\n",
        "                total[label_.item()] = total.get(label_.item(), 0) + 1\n",
        "            \n",
        "    corrects = dict(sorted(corrects.items()))\n",
        "    total = dict(sorted(total.items()))\n",
        "    return corrects, total"
      ],
      "execution_count": null,
      "outputs": []
    },
    {
      "cell_type": "code",
      "source": [
        "def test_evaluate(model, device, test_loader):\n",
        "    model_test.eval()\n",
        "    with torch.no_grad():\n",
        "        correct = 0\n",
        "        for images, labels in test_loader:\n",
        "            images = images.to(device)\n",
        "            labels = labels.to(device)\n",
        "            outputs = model_test(images)\n",
        "            _,predicted = torch.max(outputs.data,1)\n",
        "            correct += (predicted==labels).sum()\n",
        "    print('Accuracy of the last_model network on the {} test images: {} %'.\\\n",
        "        format(len(test_loader.dataset), 100 * correct / len(test_loader.dataset)))"
      ],
      "metadata": {
        "id": "8yTra7T6EuZO"
      },
      "execution_count": null,
      "outputs": []
    },
    {
      "cell_type": "code",
      "metadata": {
        "colab": {
          "base_uri": "https://localhost:8080/"
        },
        "id": "ffRSg6GK9kEr",
        "outputId": "436f3516-9542-4383-bb1c-981e5f00a611"
      },
      "source": [
        "model_test = ConvNet().to(DEVICE)\n",
        "model_test.load_state_dict(torch.load(\"20161608.pth\"))\n",
        "\n",
        "test_evaluate(model, DEVICE, valid_loader)"
      ],
      "execution_count": null,
      "outputs": [
        {
          "output_type": "stream",
          "name": "stdout",
          "text": [
            "Accuracy of the last_model network on the 7800 test images: 96.28205108642578 %\n"
          ]
        }
      ]
    },
    {
      "cell_type": "code",
      "source": [
        "label_acc = {}\n",
        "corrects, total = analyze(model, DEVICE, valid_loader, criterion)\n",
        "print('Accuracy for all class')\n",
        "for class_name, correct_count in corrects.items():\n",
        "    pct = 100 * correct_count / total[class_name]\n",
        "    print(f\"class {label_class[class_name]:2s}: {pct:.2f} %\")\n",
        "    label_acc[label_class[class_name]] = pct\n",
        "print(label_acc)"
      ],
      "metadata": {
        "id": "D5j4ceryFC6l",
        "colab": {
          "base_uri": "https://localhost:8080/"
        },
        "outputId": "7f5f20cb-44b7-42b8-fa24-7b11844a014f"
      },
      "execution_count": null,
      "outputs": [
        {
          "output_type": "stream",
          "name": "stdout",
          "text": [
            "Accuracy for all class\n",
            "class 0 : 73.33 %\n",
            "class 1 : 94.67 %\n",
            "class 2 : 100.00 %\n",
            "class 3 : 100.00 %\n",
            "class 4 : 100.00 %\n",
            "class 5 : 100.00 %\n",
            "class 6 : 100.00 %\n",
            "class 7 : 99.33 %\n",
            "class 8 : 98.00 %\n",
            "class 9 : 98.67 %\n",
            "class A : 96.67 %\n",
            "class B : 96.67 %\n",
            "class C : 99.33 %\n",
            "class D : 98.00 %\n",
            "class E : 97.33 %\n",
            "class F : 96.67 %\n",
            "class G : 95.33 %\n",
            "class H : 96.00 %\n",
            "class I : 95.33 %\n",
            "class J : 98.67 %\n",
            "class K : 100.00 %\n",
            "class L : 98.00 %\n",
            "class M : 98.00 %\n",
            "class N : 97.33 %\n",
            "class P : 97.33 %\n",
            "class Q : 98.00 %\n",
            "class R : 96.67 %\n",
            "class S : 98.00 %\n",
            "class T : 98.67 %\n",
            "class U : 92.00 %\n",
            "class V : 100.00 %\n",
            "class W : 97.33 %\n",
            "class X : 100.00 %\n",
            "class Y : 93.33 %\n",
            "class Z : 100.00 %\n",
            "class a : 94.67 %\n",
            "class b : 96.00 %\n",
            "class d : 96.67 %\n",
            "class e : 92.67 %\n",
            "class f : 94.67 %\n",
            "class g : 94.00 %\n",
            "class h : 94.67 %\n",
            "class i : 95.33 %\n",
            "class j : 96.00 %\n",
            "class m : 94.67 %\n",
            "class n : 92.67 %\n",
            "class o : 94.00 %\n",
            "class q : 92.00 %\n",
            "class r : 98.67 %\n",
            "class t : 95.33 %\n",
            "class u : 94.00 %\n",
            "class y : 92.00 %\n",
            "{'0': 73.33333333333333, '1': 94.66666666666667, '2': 100.0, '3': 100.0, '4': 100.0, '5': 100.0, '6': 100.0, '7': 99.33333333333333, '8': 98.0, '9': 98.66666666666667, 'A': 96.66666666666667, 'B': 96.66666666666667, 'C': 99.33333333333333, 'D': 98.0, 'E': 97.33333333333333, 'F': 96.66666666666667, 'G': 95.33333333333333, 'H': 96.0, 'I': 95.33333333333333, 'J': 98.66666666666667, 'K': 100.0, 'L': 98.0, 'M': 98.0, 'N': 97.33333333333333, 'P': 97.33333333333333, 'Q': 98.0, 'R': 96.66666666666667, 'S': 98.0, 'T': 98.66666666666667, 'U': 92.0, 'V': 100.0, 'W': 97.33333333333333, 'X': 100.0, 'Y': 93.33333333333333, 'Z': 100.0, 'a': 94.66666666666667, 'b': 96.0, 'd': 96.66666666666667, 'e': 92.66666666666667, 'f': 94.66666666666667, 'g': 94.0, 'h': 94.66666666666667, 'i': 95.33333333333333, 'j': 96.0, 'm': 94.66666666666667, 'n': 92.66666666666667, 'o': 94.0, 'q': 92.0, 'r': 98.66666666666667, 't': 95.33333333333333, 'u': 94.0, 'y': 92.0}\n"
          ]
        }
      ]
    },
    {
      "cell_type": "code",
      "source": [
        "import seaborn as sns\n",
        "import pandas as pd\n",
        "\n",
        "df =  pd.DataFrame({\n",
        "    'label': label_acc.keys(),\n",
        "    'accuracy': label_acc.values()\n",
        "})\n",
        "plt.figure(figsize=(10,5))\n",
        "ax = sns.barplot(data=df, x='label', y='accuracy', color='skyblue')\n",
        "ax.set_title('Accuracy of valid set', fontsize=20)"
      ],
      "metadata": {
        "colab": {
          "base_uri": "https://localhost:8080/",
          "height": 372
        },
        "id": "5d2M0RNsGQ8g",
        "outputId": "16331bd0-9992-4289-a18e-9dc86bd4caff"
      },
      "execution_count": null,
      "outputs": [
        {
          "output_type": "execute_result",
          "data": {
            "text/plain": [
              "Text(0.5, 1.0, 'Accuracy of valid set')"
            ]
          },
          "metadata": {},
          "execution_count": 64
        },
        {
          "output_type": "display_data",
          "data": {
            "image/png": "[encoded data removed]",
            "text/plain": [
              "<Figure size 720x360 with 1 Axes>"
            ]
          },
          "metadata": {
            "needs_background": "light"
          }
        }
      ]
    },
    {
      "cell_type": "code",
      "source": [
        ""
      ],
      "metadata": {
        "id": "HsI_QYRaHGn2"
      },
      "execution_count": null,
      "outputs": []
    }
  ]
}