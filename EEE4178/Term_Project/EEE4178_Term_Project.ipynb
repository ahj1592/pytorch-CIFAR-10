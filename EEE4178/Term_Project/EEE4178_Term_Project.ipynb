{
  "nbformat": 4,
  "nbformat_minor": 0,
  "metadata": {
    "colab": {
      "name": "EEE4178_Term_Project.ipynb",
      "provenance": [],
      "collapsed_sections": []
    },
    "kernelspec": {
      "name": "python3",
      "display_name": "Python 3"
    },
    "language_info": {
      "name": "python"
    },
    "accelerator": "GPU"
  },
  "cells": [
    {
      "cell_type": "markdown",
      "metadata": {
        "id": "D-cFJ1SE0dJU"
      },
      "source": [
        "# Google Drive Mount"
      ]
    },
    {
      "cell_type": "code",
      "metadata": {
        "colab": {
          "base_uri": "https://localhost:8080/"
        },
        "id": "XrOvhpgfzpkE",
        "outputId": "a6296ce8-897d-4dd0-b08e-3b098adcd70e"
      },
      "source": [
        "from google.colab import drive\n",
        "drive.mount('/content/gdrive')"
      ],
      "execution_count": 2,
      "outputs": [
        {
          "output_type": "stream",
          "name": "stdout",
          "text": [
            "Mounted at /content/gdrive\n"
          ]
        }
      ]
    },
    {
      "cell_type": "markdown",
      "metadata": {
        "id": "ND2Ky2T_0zm9"
      },
      "source": [
        "# Unzip the dataset\n",
        "- Train dataset\n",
        "- Valid dataset"
      ]
    },
    {
      "cell_type": "code",
      "metadata": {
        "id": "J6wyBI0E0ZMu"
      },
      "source": [
        "!unzip /content/gdrive/MyDrive/Project_dataset/Font_npy_90_train.zip\n",
        "!unzip /content/gdrive/MyDrive/Project_dataset/Font_npy_90_val.zip\n",
        "#!unzip /content/gdrive/MyDrive/Project_dataset/Font_npy_90_test.zip"
      ],
      "execution_count": null,
      "outputs": []
    },
    {
      "cell_type": "code",
      "metadata": {
        "id": "I27SszX01NLG"
      },
      "source": [
        "import torch\n",
        "import torchvision\n",
        "import torch.nn as nn\n",
        "import torch.nn.functional as F\n",
        "from torch.utils.data import Dataset\n",
        "\n",
        "from torchvision import models, transforms\n",
        "\n",
        "from torchsummary import summary\n",
        "\n",
        "import matplotlib.pyplot as plt\n",
        "import random\n",
        "import time\n",
        "import os\n",
        "\n",
        "import numpy as np"
      ],
      "execution_count": 4,
      "outputs": []
    },
    {
      "cell_type": "markdown",
      "metadata": {
        "id": "97dcArHj2eEP"
      },
      "source": [
        "# Utility functions\n",
        "- fix_seeds()\n",
        "- show_model_summary()\n",
        "- init_weights()"
      ]
    },
    {
      "cell_type": "code",
      "metadata": {
        "id": "VJLK_u3R2Xl3"
      },
      "source": [
        "def fix_seeds(seed=1234):\n",
        "    \"\"\" fix the seed for reproducibility \"\"\"\n",
        "    \n",
        "    os.environ['PYTHONHASHSEED'] = str(seed)\n",
        "    random.seed(seed)\n",
        "    np.random.seed(seed)\n",
        "    torch.manual_seed(seed) \n",
        "    torch.cuda.manual_seed(seed)\n",
        "    torch.backends.cudnn.deterministic = True"
      ],
      "execution_count": 5,
      "outputs": []
    },
    {
      "cell_type": "code",
      "metadata": {
        "id": "l_YQEAH-2zdg"
      },
      "source": [
        "def show_model_summary(model):\n",
        "    \"\"\" print model parameters \"\"\"\n",
        "    \n",
        "    print('{:=^60}'.format(\"=\"))\n",
        "    print('{:^60}'.format(\"model summary\"))\n",
        "    print('{:=^60}'.format(\"=\"))\n",
        "    for param_tensor in model.state_dict():\n",
        "        print('%-30s'%param_tensor, '{:^30}'.format(str(model.state_dict()[param_tensor].size())))\n",
        "    print('{:=^60}'.format(\"=\"))\n",
        "    print()"
      ],
      "execution_count": 6,
      "outputs": []
    },
    {
      "cell_type": "code",
      "metadata": {
        "id": "dXiFxIBS6ohg"
      },
      "source": [
        "def init_weights(m):\n",
        "    \"\"\"initialize the weights of model \"\"\"\n",
        "    \n",
        "    if isinstance(m, nn.Conv2d):\n",
        "        torch.nn.init.kaiming_uniform_(m.weight.data)\n",
        "        if m.bias is not None:\n",
        "            torch.nn.init.normal_(m.bias.data)\n",
        "    elif isinstance(m, nn.BatchNorm2d):\n",
        "        torch.nn.init.normal_(m.weight.data, mean=1, std=0.02)\n",
        "        torch.nn.init.constant_(m.bias.data, 0)\n",
        "    elif isinstance(m, nn.Linear):\n",
        "        torch.nn.init.kaiming_uniform_(m.weight.data)\n",
        "        torch.nn.init.normal_(m.bias.data)"
      ],
      "execution_count": 7,
      "outputs": []
    },
    {
      "cell_type": "markdown",
      "metadata": {
        "id": "mpadLwC01eHe"
      },
      "source": [
        "# Load dataset"
      ]
    },
    {
      "cell_type": "code",
      "metadata": {
        "colab": {
          "base_uri": "https://localhost:8080/"
        },
        "id": "QcSn42VO1ZuF",
        "outputId": "f424a889-1ed7-4797-ef5e-e96d45e7febe"
      },
      "source": [
        "# load dataset\n",
        "import glob\n",
        "class MyDataset(Dataset):\n",
        "    def __init__(self, npy_dir): # image file (*.npy) 들을 포함하고 있는 디렉토리 경로 npy_dir 로 받아야, \n",
        "        self.dir_path = npy_dir\n",
        "        self.to_tensor = transforms.ToTensor()\n",
        "\n",
        "        # all npy path\n",
        "        self.npy_path = glob.glob(os.path.join(npy_dir, '*','*.npy')) \n",
        "\n",
        "    def __getitem__(self, index):\n",
        "        # load data\n",
        "        single_data_path = self.npy_path[index]\n",
        "        data = np.load(single_data_path, allow_pickle=True)\n",
        "        \n",
        "        image = data[0]\n",
        "        image = self.to_tensor(image)\n",
        "        label = data[1]\n",
        "       \n",
        "        return (image, label)\n",
        "\n",
        "    def __len__(self):\n",
        "        return len(self.npy_path)\n",
        "\n",
        "\n",
        "\n",
        "# unzip 한 디렉토리 있는 path 그대로 넣어야, 디렉토리 옆 점 3개 누르면 '경로 복사' 있음 - 위의 사진 참조\n",
        "train_data = MyDataset(\"/content/Font_npy_90_train\") \n",
        "valid_data = MyDataset(\"/content/Font_npy_90_val\")\n",
        "#test_data = MyDataset(\"/content/Font_npy_90_test\")\n",
        "\n",
        "print(f'size of train data: {len(train_data)}')\n",
        "print(f'size of valid data: {len(valid_data)}')\n",
        "#print(len(test_data))"
      ],
      "execution_count": 8,
      "outputs": [
        {
          "output_type": "stream",
          "name": "stdout",
          "text": [
            "size of train data: 37232\n",
            "size of valid data: 7800\n"
          ]
        }
      ]
    },
    {
      "cell_type": "code",
      "metadata": {
        "colab": {
          "base_uri": "https://localhost:8080/"
        },
        "id": "k4AJ0xLt12VJ",
        "outputId": "448ed1e3-f391-42af-fbc7-9bf42d25f4e3"
      },
      "source": [
        "batch_size = 50\n",
        "fix_seeds(seed=1234)\n",
        "train_loader = torch.utils.data.DataLoader(dataset=train_data,\n",
        "                                           batch_size=batch_size,\n",
        "                                           shuffle=True)\n",
        "\n",
        "fix_seeds(seed=1234)\n",
        "valid_loader = torch.utils.data.DataLoader(dataset=valid_data,\n",
        "                                           batch_size=batch_size,\n",
        "                                           shuffle=True)\n",
        "\"\"\"\n",
        "fix_seeds(seed=1234)\n",
        "test_loader = torch.utils.data.DataLoader(dataset=test_data,\n",
        "                                           batch_size=batch_size,\n",
        "                                           shuffle=False)\n",
        "\"\"\"\n",
        "\n",
        "\n",
        "# check dataloader\n",
        "image, label = next(iter(valid_loader))\n",
        "print(f'image shape: {image.shape}')\n",
        "print(f'label shape: {label.shape}')"
      ],
      "execution_count": 9,
      "outputs": [
        {
          "output_type": "stream",
          "name": "stdout",
          "text": [
            "image shape: torch.Size([50, 1, 90, 90])\n",
            "label shape: torch.Size([50])\n"
          ]
        }
      ]
    },
    {
      "cell_type": "code",
      "metadata": {
        "colab": {
          "base_uri": "https://localhost:8080/",
          "height": 123
        },
        "id": "wyh8UloM2NAK",
        "outputId": "47e4f3ef-68ca-49f4-8a62-c927940566d1"
      },
      "source": [
        "# visualize data\n",
        "# character - encoded_label dict , 데이터 확인해보고 싶을 때 참조\n",
        "label_dict = {'0': 0, '1': 1, '2': 2, '3': 3, '4': 4, '5': 5, '6': 6, '7': 7, '8': 8, '9': 9, \n",
        "'A': 10, 'B': 11, 'C': 12, 'D': 13, 'E': 14, 'F': 15, 'G': 16, 'H': 17,\n",
        "'I': 18, 'J': 19, 'K': 20, 'L': 21, 'M': 22, 'N': 23, 'P': 24, 'Q': 25, \n",
        "'R': 26, 'S': 27, 'T': 28, 'U': 29, 'V': 30, 'W': 31, 'X': 32, 'Y': 33, \n",
        "'Z': 34, 'a': 35, 'b': 36, 'd': 37, 'e': 38, 'f': 39, 'g': 40, 'h': 41, \n",
        "'i': 42, 'j': 43, 'm': 44, 'n': 45, 'o': 46, 'q': 47, 'r': 48, 't': 49, 'u': 50, 'y': 51}\n",
        "\n",
        "# image_show function : num 수 만큼 dataset 내의 data를 보여주는 함수\n",
        "def image_show(dataset, num):\n",
        "  fig = plt.figure(figsize=(10,10))\n",
        "\n",
        "  for i in range(num):\n",
        "    plt.subplot(1, num, i+1)\n",
        "    plt.imshow(dataset[i+1200][0].squeeze(), cmap = \"gray\")\n",
        "    plt.title(dataset[i+1200][1])\n",
        "\n",
        "image_show(train_data, 8)"
      ],
      "execution_count": 10,
      "outputs": [
        {
          "output_type": "display_data",
          "data": {
            "image/png": "[encoded data removed]",
            "text/plain": [
              "<Figure size 720x720 with 8 Axes>"
            ]
          },
          "metadata": {
            "needs_background": "light"
          }
        }
      ]
    },
    {
      "cell_type": "markdown",
      "metadata": {
        "id": "6Z_m_8oX2RH2"
      },
      "source": [
        "# GPU Configuration"
      ]
    },
    {
      "cell_type": "code",
      "metadata": {
        "colab": {
          "base_uri": "https://localhost:8080/"
        },
        "id": "p_1yxeV52T7H",
        "outputId": "4a305962-8698-40ce-e045-95ae230b5a8e"
      },
      "source": [
        "DEVICE = torch.device('cuda' if torch.cuda.is_available() else 'cpu')\n",
        "print(DEVICE)\n",
        "!nvidia-smi"
      ],
      "execution_count": 11,
      "outputs": [
        {
          "output_type": "stream",
          "name": "stdout",
          "text": [
            "cuda\n",
            "Mon Dec 13 19:26:28 2021       \n",
            "+-----------------------------------------------------------------------------+\n",
            "| NVIDIA-SMI 495.44       Driver Version: 460.32.03    CUDA Version: 11.2     |\n",
            "|-------------------------------+----------------------+----------------------+\n",
            "| GPU  Name        Persistence-M| Bus-Id        Disp.A | Volatile Uncorr. ECC |\n",
            "| Fan  Temp  Perf  Pwr:Usage/Cap|         Memory-Usage | GPU-Util  Compute M. |\n",
            "|                               |                      |               MIG M. |\n",
            "|===============================+======================+======================|\n",
            "|   0  Tesla K80           Off  | 00000000:00:04.0 Off |                    0 |\n",
            "| N/A   72C    P8    33W / 149W |      3MiB / 11441MiB |      0%      Default |\n",
            "|                               |                      |                  N/A |\n",
            "+-------------------------------+----------------------+----------------------+\n",
            "                                                                               \n",
            "+-----------------------------------------------------------------------------+\n",
            "| Processes:                                                                  |\n",
            "|  GPU   GI   CI        PID   Type   Process name                  GPU Memory |\n",
            "|        ID   ID                                                   Usage      |\n",
            "|=============================================================================|\n",
            "|  No running processes found                                                 |\n",
            "+-----------------------------------------------------------------------------+\n"
          ]
        }
      ]
    },
    {
      "cell_type": "markdown",
      "metadata": {
        "id": "RHCK-bXq23Z-"
      },
      "source": [
        "# Define Model\n",
        "- based on CNN"
      ]
    },
    {
      "cell_type": "code",
      "metadata": {
        "id": "rPfyTbe-25u_"
      },
      "source": [
        "class ConvNet(nn.Module):\n",
        "    def __init__(self):\n",
        "        super(ConvNet, self).__init__()\n",
        "        # input shape = (1, 90, 90)\n",
        "        self.conv = nn.Sequential(\n",
        "            nn.Conv2d(1, 8, kernel_size=(3, 3), stride=(1, 1), padding=(1, 1), bias=False),\n",
        "            nn.BatchNorm2d(8),\n",
        "            nn.ReLU(),\n",
        "            nn.MaxPool2d(2, 2),\n",
        "            # (90, 90) -> (45, 45)\n",
        "\n",
        "            nn.Conv2d(8, 16, kernel_size=(3, 3), stride=(1, 1), padding=(1, 1), bias=False),\n",
        "            nn.BatchNorm2d(16),\n",
        "            nn.ReLU(),\n",
        "            nn.MaxPool2d(2, 2),\n",
        "            # (45, 45) -> (22, 22)\n",
        "\n",
        "            nn.Conv2d(16, 32, kernel_size=(3, 3), stride=(1, 1), padding=(1, 1), bias=False),\n",
        "            nn.BatchNorm2d(32),\n",
        "            nn.ReLU(),\n",
        "            nn.MaxPool2d(2, 2),\n",
        "            # (22, 22) -> (11, 11)\n",
        "\n",
        "            nn.Conv2d(32, 64, kernel_size=(3, 3), stride=(1, 1), padding=(1, 1), bias=False),\n",
        "            nn.BatchNorm2d(64),\n",
        "            nn.ReLU(),\n",
        "            nn.MaxPool2d(2, 2),\n",
        "            # (11, 11) -> (5, 5)\n",
        "\n",
        "            nn.Conv2d(64, 128, kernel_size=(3, 3), stride=(1, 1), padding=(1, 1), bias=False),\n",
        "             nn.BatchNorm2d(128),\n",
        "            nn.ReLU(),\n",
        "            nn.MaxPool2d(2, 2),\n",
        "            # (5, 5) -> (2, 2)\n",
        "        )\n",
        "\n",
        "\n",
        "        self.fc = nn.Sequential(\n",
        "            nn.Linear(2*2*128, 512),\n",
        "            nn.BatchNorm1d(512),\n",
        "            nn.ReLU(),\n",
        "            nn.Dropout(0.2),\n",
        "\n",
        "            nn.Linear(512, 512),\n",
        "            nn.ReLU(),\n",
        "            nn.Dropout(0.2),\n",
        "\n",
        "            nn.Linear(512, 52),\n",
        "            nn.BatchNorm1d(52),\n",
        "        )\n",
        "\n",
        "    def forward(self, x):\n",
        "        x = self.conv(x)\n",
        "        x = x.view(x.size(0), -1)\n",
        "        x = self.fc(x)\n",
        "        return x"
      ],
      "execution_count": 12,
      "outputs": []
    },
    {
      "cell_type": "markdown",
      "metadata": {
        "id": "7gns_57X7YCY"
      },
      "source": [
        "# Utility functions"
      ]
    },
    {
      "cell_type": "code",
      "metadata": {
        "id": "AmeO7_Xf7bBJ"
      },
      "source": [
        "def train(model, device, train_loader, optimizer, criterion):\n",
        "    model.train()\n",
        "    steps = len(train_loader)\n",
        "    epoch_loss, acc = 0, 0\n",
        "    total_loss, cnt = 0, 0\n",
        "\n",
        "    for i, (image, label) in enumerate(train_loader, 1):\n",
        "        image = image.to(device)\n",
        "        label = label.to(device)\n",
        "\n",
        "        output = model(image)\n",
        "        loss = criterion(output, label)\n",
        "\n",
        "        optimizer.zero_grad()\n",
        "        loss.backward()\n",
        "        optimizer.step()\n",
        "\n",
        "        total_loss += loss.item()\n",
        "        cnt += 1\n",
        "\n",
        "        epoch_loss += loss.item()\n",
        "        _, preds = torch.max(output.data, 1)\n",
        "        acc += (preds == label).sum().item()\n",
        "\n",
        "        if i % (steps / 5) == 0:\n",
        "            avg_loss = total_loss / cnt\n",
        "            print(f'Batch steps: [{i}|{steps}]({100 * i // steps}%) Average Train Loss: {avg_loss:.4f}')\n",
        "            total_loss, cnt = 0, 0\n",
        "\n",
        "    # return avg_epoch_loss, accuracy\n",
        "    avg_epoch_loss = epoch_loss / len(train_loader)\n",
        "    pct = 100 * acc / len(train_loader.dataset)\n",
        "    return avg_epoch_loss, pct"
      ],
      "execution_count": 13,
      "outputs": []
    },
    {
      "cell_type": "code",
      "metadata": {
        "id": "q43cyT_H7s8K"
      },
      "source": [
        "def evaluate(model, device, data_loader, criterion):\n",
        "    model.eval()\n",
        "    epoch_loss, acc = 0, 0\n",
        "    with torch.no_grad():\n",
        "        for (image, label) in data_loader:\n",
        "            image = image.to(device)\n",
        "            label = label.to(device)\n",
        "\n",
        "            output = model(image)\n",
        "            loss = criterion(output, label)\n",
        "\n",
        "            _, pred = torch.max(output.data, 1)\n",
        "            acc += (pred == label).sum().item()\n",
        "            epoch_loss += loss.item()\n",
        "\n",
        "    pct = 100 * acc / len(data_loader.dataset)\n",
        "    # return average loss, accuracy\n",
        "    return epoch_loss / len(data_loader.dataset), pct"
      ],
      "execution_count": 14,
      "outputs": []
    },
    {
      "cell_type": "markdown",
      "metadata": {
        "id": "1WpNsiZu6y-j"
      },
      "source": [
        "# Train the model"
      ]
    },
    {
      "cell_type": "code",
      "metadata": {
        "colab": {
          "base_uri": "https://localhost:8080/"
        },
        "id": "1njeolvU60zg",
        "outputId": "86d98812-1f9b-4853-abc1-dab0189ca8ad"
      },
      "source": [
        "fix_seeds(seed=1234)\n",
        "model = ConvNet().to(DEVICE)\n",
        "model.apply(init_weights)\n",
        "show_model_summary(model)\n",
        "summary(model,(1,90,90),batch_size=batch_size)\n",
        "\n",
        "learning_rate = 1e-3\n",
        "EPOCHS = 20\n",
        "\n",
        "criterion = nn.CrossEntropyLoss()\n",
        "optimizer = torch.optim.Adam(model.parameters(), lr=learning_rate)\n",
        "\n",
        "best_epoch = 0\n",
        "best_valid_loss = float('inf')\n",
        "epoch_duration = 0\n",
        "\n",
        "results = {\n",
        "    'train': {'loss': [], 'acc': []},\n",
        "    'valid': {'loss': [], 'acc': []},\n",
        "}\n",
        "\n",
        "start = time.time()\n",
        "for epoch in range(1, EPOCHS + 1):\n",
        "    print(f'epoch: {epoch}')\n",
        "    train_loss, train_acc = train(model, DEVICE, train_loader, optimizer, criterion)\n",
        "    valid_loss, valid_acc = evaluate(model, DEVICE, valid_loader, criterion)\n",
        "\n",
        "    # save the results\n",
        "    results['train']['loss'].append(train_loss)\n",
        "    results['train']['acc'].append(train_acc)\n",
        "    results['valid']['loss'].append(valid_loss)\n",
        "    results['valid']['acc'].append(valid_acc)\n",
        "\n",
        "    print(f'Train Loss: {train_loss:.4f}, Train Accuracy(%): {train_acc:.2f}')\n",
        "    print(f'Valid Loss: {valid_loss:.4f}, Valid Accuracy(%): {valid_acc:.2f}')\n",
        "\n",
        "    # save the best model\n",
        "    if valid_loss < best_valid_loss:\n",
        "        best_valid_loss = valid_loss\n",
        "        best_epoch = epoch\n",
        "        torch.save(model.state_dict(), f'20161608.pth')\n",
        "\n",
        "    # compute training time per epoch\n",
        "    end = time.time()\n",
        "    duration = end - start\n",
        "    print(f\"Total Time elapse : {duration/60:.2f} minutes\")\n",
        "    print()\n",
        "\n",
        "    # calculate epoch duration\n",
        "    if epoch_duration == 0:\n",
        "        epoch_duration = duration / 60\n",
        "\n",
        "    # if next epoch is expected to exceed the 10 minute,\n",
        "    # end the for-loop\n",
        "    if (epoch + 1) > (10 / epoch_duration):\n",
        "        break\n",
        "\n",
        "# compute total training time\n",
        "end = time.time()\n",
        "duration = end - start\n",
        "print(f\"Training takes {duration/60:.2f} minutes\")"
      ],
      "execution_count": 15,
      "outputs": [
        {
          "output_type": "stream",
          "name": "stdout",
          "text": [
            "============================================================\n",
            "                       model summary                        \n",
            "============================================================\n",
            "conv.0.weight                     torch.Size([8, 1, 3, 3])   \n",
            "conv.1.weight                         torch.Size([8])        \n",
            "conv.1.bias                           torch.Size([8])        \n",
            "conv.1.running_mean                   torch.Size([8])        \n",
            "conv.1.running_var                    torch.Size([8])        \n",
            "conv.1.num_batches_tracked             torch.Size([])        \n",
            "conv.4.weight                    torch.Size([16, 8, 3, 3])   \n",
            "conv.5.weight                         torch.Size([16])       \n",
            "conv.5.bias                           torch.Size([16])       \n",
            "conv.5.running_mean                   torch.Size([16])       \n",
            "conv.5.running_var                    torch.Size([16])       \n",
            "conv.5.num_batches_tracked             torch.Size([])        \n",
            "conv.8.weight                    torch.Size([32, 16, 3, 3])  \n",
            "conv.9.weight                         torch.Size([32])       \n",
            "conv.9.bias                           torch.Size([32])       \n",
            "conv.9.running_mean                   torch.Size([32])       \n",
            "conv.9.running_var                    torch.Size([32])       \n",
            "conv.9.num_batches_tracked             torch.Size([])        \n",
            "conv.12.weight                   torch.Size([64, 32, 3, 3])  \n",
            "conv.13.weight                        torch.Size([64])       \n",
            "conv.13.bias                          torch.Size([64])       \n",
            "conv.13.running_mean                  torch.Size([64])       \n",
            "conv.13.running_var                   torch.Size([64])       \n",
            "conv.13.num_batches_tracked            torch.Size([])        \n",
            "conv.16.weight                  torch.Size([128, 64, 3, 3])  \n",
            "conv.17.weight                       torch.Size([128])       \n",
            "conv.17.bias                         torch.Size([128])       \n",
            "conv.17.running_mean                 torch.Size([128])       \n",
            "conv.17.running_var                  torch.Size([128])       \n",
            "conv.17.num_batches_tracked            torch.Size([])        \n",
            "fc.0.weight                        torch.Size([512, 512])    \n",
            "fc.0.bias                            torch.Size([512])       \n",
            "fc.1.weight                          torch.Size([512])       \n",
            "fc.1.bias                            torch.Size([512])       \n",
            "fc.1.running_mean                    torch.Size([512])       \n",
            "fc.1.running_var                     torch.Size([512])       \n",
            "fc.1.num_batches_tracked               torch.Size([])        \n",
            "fc.4.weight                        torch.Size([512, 512])    \n",
            "fc.4.bias                            torch.Size([512])       \n",
            "fc.7.weight                        torch.Size([52, 512])     \n",
            "fc.7.bias                             torch.Size([52])       \n",
            "fc.8.weight                           torch.Size([52])       \n",
            "fc.8.bias                             torch.Size([52])       \n",
            "fc.8.running_mean                     torch.Size([52])       \n",
            "fc.8.running_var                      torch.Size([52])       \n",
            "fc.8.num_batches_tracked               torch.Size([])        \n",
            "============================================================\n",
            "\n",
            "----------------------------------------------------------------\n",
            "        Layer (type)               Output Shape         Param #\n",
            "================================================================\n",
            "            Conv2d-1            [50, 8, 90, 90]              72\n",
            "       BatchNorm2d-2            [50, 8, 90, 90]              16\n",
            "              ReLU-3            [50, 8, 90, 90]               0\n",
            "         MaxPool2d-4            [50, 8, 45, 45]               0\n",
            "            Conv2d-5           [50, 16, 45, 45]           1,152\n",
            "       BatchNorm2d-6           [50, 16, 45, 45]              32\n",
            "              ReLU-7           [50, 16, 45, 45]               0\n",
            "         MaxPool2d-8           [50, 16, 22, 22]               0\n",
            "            Conv2d-9           [50, 32, 22, 22]           4,608\n",
            "      BatchNorm2d-10           [50, 32, 22, 22]              64\n",
            "             ReLU-11           [50, 32, 22, 22]               0\n",
            "        MaxPool2d-12           [50, 32, 11, 11]               0\n",
            "           Conv2d-13           [50, 64, 11, 11]          18,432\n",
            "      BatchNorm2d-14           [50, 64, 11, 11]             128\n",
            "             ReLU-15           [50, 64, 11, 11]               0\n",
            "        MaxPool2d-16             [50, 64, 5, 5]               0\n",
            "           Conv2d-17            [50, 128, 5, 5]          73,728\n",
            "      BatchNorm2d-18            [50, 128, 5, 5]             256\n",
            "             ReLU-19            [50, 128, 5, 5]               0\n",
            "        MaxPool2d-20            [50, 128, 2, 2]               0\n",
            "           Linear-21                  [50, 512]         262,656\n",
            "      BatchNorm1d-22                  [50, 512]           1,024\n",
            "             ReLU-23                  [50, 512]               0\n",
            "          Dropout-24                  [50, 512]               0\n",
            "           Linear-25                  [50, 512]         262,656\n",
            "             ReLU-26                  [50, 512]               0\n",
            "          Dropout-27                  [50, 512]               0\n",
            "           Linear-28                   [50, 52]          26,676\n",
            "      BatchNorm1d-29                   [50, 52]             104\n",
            "================================================================\n",
            "Total params: 651,604\n",
            "Trainable params: 651,604\n",
            "Non-trainable params: 0\n",
            "----------------------------------------------------------------\n",
            "Input size (MB): 1.54\n",
            "Forward/backward pass size (MB): 154.31\n",
            "Params size (MB): 2.49\n",
            "Estimated Total Size (MB): 158.34\n",
            "----------------------------------------------------------------\n",
            "epoch: 1\n",
            "Batch steps: [149|745](20%) Average Train Loss: 1.8323\n",
            "Batch steps: [298|745](40%) Average Train Loss: 1.0207\n",
            "Batch steps: [447|745](60%) Average Train Loss: 0.8117\n",
            "Batch steps: [596|745](80%) Average Train Loss: 0.7330\n",
            "Batch steps: [745|745](100%) Average Train Loss: 0.6554\n",
            "Train Loss: 1.0106, Train Accuracy(%): 81.65\n",
            "Valid Loss: 0.0075, Valid Accuracy(%): 92.26\n",
            "Total Time elapse : 0.79 minutes\n",
            "\n",
            "epoch: 2\n",
            "Batch steps: [149|745](20%) Average Train Loss: 0.5567\n",
            "Batch steps: [298|745](40%) Average Train Loss: 0.5361\n",
            "Batch steps: [447|745](60%) Average Train Loss: 0.5027\n",
            "Batch steps: [596|745](80%) Average Train Loss: 0.4840\n",
            "Batch steps: [745|745](100%) Average Train Loss: 0.4595\n",
            "Train Loss: 0.5078, Train Accuracy(%): 90.39\n",
            "Valid Loss: 0.0053, Valid Accuracy(%): 94.47\n",
            "Total Time elapse : 1.57 minutes\n",
            "\n",
            "epoch: 3\n",
            "Batch steps: [149|745](20%) Average Train Loss: 0.3916\n",
            "Batch steps: [298|745](40%) Average Train Loss: 0.3823\n",
            "Batch steps: [447|745](60%) Average Train Loss: 0.3808\n",
            "Batch steps: [596|745](80%) Average Train Loss: 0.3654\n",
            "Batch steps: [745|745](100%) Average Train Loss: 0.3387\n",
            "Train Loss: 0.3718, Train Accuracy(%): 92.73\n",
            "Valid Loss: 0.0042, Valid Accuracy(%): 95.37\n",
            "Total Time elapse : 2.35 minutes\n",
            "\n",
            "epoch: 4\n",
            "Batch steps: [149|745](20%) Average Train Loss: 0.2976\n",
            "Batch steps: [298|745](40%) Average Train Loss: 0.2931\n",
            "Batch steps: [447|745](60%) Average Train Loss: 0.2818\n",
            "Batch steps: [596|745](80%) Average Train Loss: 0.2804\n",
            "Batch steps: [745|745](100%) Average Train Loss: 0.2719\n",
            "Train Loss: 0.2849, Train Accuracy(%): 94.56\n",
            "Valid Loss: 0.0039, Valid Accuracy(%): 95.78\n",
            "Total Time elapse : 3.13 minutes\n",
            "\n",
            "epoch: 5\n",
            "Batch steps: [149|745](20%) Average Train Loss: 0.2338\n",
            "Batch steps: [298|745](40%) Average Train Loss: 0.2291\n",
            "Batch steps: [447|745](60%) Average Train Loss: 0.2419\n",
            "Batch steps: [596|745](80%) Average Train Loss: 0.2431\n",
            "Batch steps: [745|745](100%) Average Train Loss: 0.2393\n",
            "Train Loss: 0.2374, Train Accuracy(%): 95.19\n",
            "Valid Loss: 0.0037, Valid Accuracy(%): 96.05\n",
            "Total Time elapse : 3.90 minutes\n",
            "\n",
            "epoch: 6\n",
            "Batch steps: [149|745](20%) Average Train Loss: 0.2020\n",
            "Batch steps: [298|745](40%) Average Train Loss: 0.2006\n",
            "Batch steps: [447|745](60%) Average Train Loss: 0.1923\n",
            "Batch steps: [596|745](80%) Average Train Loss: 0.1980\n",
            "Batch steps: [745|745](100%) Average Train Loss: 0.1901\n",
            "Train Loss: 0.1966, Train Accuracy(%): 95.96\n",
            "Valid Loss: 0.0033, Valid Accuracy(%): 96.05\n",
            "Total Time elapse : 4.68 minutes\n",
            "\n",
            "epoch: 7\n",
            "Batch steps: [149|745](20%) Average Train Loss: 0.1802\n",
            "Batch steps: [298|745](40%) Average Train Loss: 0.1585\n",
            "Batch steps: [447|745](60%) Average Train Loss: 0.1640\n",
            "Batch steps: [596|745](80%) Average Train Loss: 0.1695\n",
            "Batch steps: [745|745](100%) Average Train Loss: 0.1679\n",
            "Train Loss: 0.1680, Train Accuracy(%): 96.43\n",
            "Valid Loss: 0.0033, Valid Accuracy(%): 95.92\n",
            "Total Time elapse : 5.45 minutes\n",
            "\n",
            "epoch: 8\n",
            "Batch steps: [149|745](20%) Average Train Loss: 0.1424\n",
            "Batch steps: [298|745](40%) Average Train Loss: 0.1531\n",
            "Batch steps: [447|745](60%) Average Train Loss: 0.1640\n",
            "Batch steps: [596|745](80%) Average Train Loss: 0.1548\n",
            "Batch steps: [745|745](100%) Average Train Loss: 0.1378\n",
            "Train Loss: 0.1504, Train Accuracy(%): 96.74\n",
            "Valid Loss: 0.0031, Valid Accuracy(%): 96.40\n",
            "Total Time elapse : 6.22 minutes\n",
            "\n",
            "epoch: 9\n",
            "Batch steps: [149|745](20%) Average Train Loss: 0.1334\n",
            "Batch steps: [298|745](40%) Average Train Loss: 0.1349\n",
            "Batch steps: [447|745](60%) Average Train Loss: 0.1338\n",
            "Batch steps: [596|745](80%) Average Train Loss: 0.1341\n",
            "Batch steps: [745|745](100%) Average Train Loss: 0.1381\n",
            "Train Loss: 0.1349, Train Accuracy(%): 96.92\n",
            "Valid Loss: 0.0032, Valid Accuracy(%): 96.44\n",
            "Total Time elapse : 7.00 minutes\n",
            "\n",
            "epoch: 10\n",
            "Batch steps: [149|745](20%) Average Train Loss: 0.1233\n",
            "Batch steps: [298|745](40%) Average Train Loss: 0.1049\n",
            "Batch steps: [447|745](60%) Average Train Loss: 0.1180\n",
            "Batch steps: [596|745](80%) Average Train Loss: 0.1244\n",
            "Batch steps: [745|745](100%) Average Train Loss: 0.1249\n",
            "Train Loss: 0.1191, Train Accuracy(%): 97.27\n",
            "Valid Loss: 0.0030, Valid Accuracy(%): 96.47\n",
            "Total Time elapse : 7.77 minutes\n",
            "\n",
            "epoch: 11\n",
            "Batch steps: [149|745](20%) Average Train Loss: 0.1015\n",
            "Batch steps: [298|745](40%) Average Train Loss: 0.1057\n",
            "Batch steps: [447|745](60%) Average Train Loss: 0.1108\n",
            "Batch steps: [596|745](80%) Average Train Loss: 0.1178\n",
            "Batch steps: [745|745](100%) Average Train Loss: 0.1192\n",
            "Train Loss: 0.1110, Train Accuracy(%): 97.37\n",
            "Valid Loss: 0.0030, Valid Accuracy(%): 96.10\n",
            "Total Time elapse : 8.55 minutes\n",
            "\n",
            "epoch: 12\n",
            "Batch steps: [149|745](20%) Average Train Loss: 0.0966\n",
            "Batch steps: [298|745](40%) Average Train Loss: 0.1057\n",
            "Batch steps: [447|745](60%) Average Train Loss: 0.0967\n",
            "Batch steps: [596|745](80%) Average Train Loss: 0.1006\n",
            "Batch steps: [745|745](100%) Average Train Loss: 0.1030\n",
            "Train Loss: 0.1005, Train Accuracy(%): 97.53\n",
            "Valid Loss: 0.0028, Valid Accuracy(%): 96.72\n",
            "Total Time elapse : 9.33 minutes\n",
            "\n",
            "Training takes 9.33 minutes\n"
          ]
        }
      ]
    },
    {
      "cell_type": "markdown",
      "metadata": {
        "id": "ZK8wOHaPuNCd"
      },
      "source": [
        "# Plot loss & accuracy"
      ]
    },
    {
      "cell_type": "code",
      "metadata": {
        "id": "y49tUlLy9L-Q",
        "colab": {
          "base_uri": "https://localhost:8080/",
          "height": 305
        },
        "outputId": "b933b5bc-d373-464e-f757-6a0bfd68b017"
      },
      "source": [
        "plt.plot(results['train']['loss'], color='b', marker='o', label='train')\n",
        "plt.plot(results['valid']['loss'], color='g', marker='^', label='valid')\n",
        "plt.title('Loss', fontsize=20)\n",
        "plt.xlabel('epoch', fontsize=15)\n",
        "plt.legend()\n",
        "plt.show()"
      ],
      "execution_count": 16,
      "outputs": [
        {
          "output_type": "display_data",
          "data": {
            "image/png": "[encoded data removed]",
            "text/plain": [
              "<Figure size 432x288 with 1 Axes>"
            ]
          },
          "metadata": {
            "needs_background": "light"
          }
        }
      ]
    },
    {
      "cell_type": "code",
      "metadata": {
        "id": "DJg1qdOQwVHI",
        "colab": {
          "base_uri": "https://localhost:8080/",
          "height": 305
        },
        "outputId": "2ae0dcc4-6b2a-4aa9-d2df-f8132c8fc098"
      },
      "source": [
        "plt.plot(results['train']['acc'], color='b', marker='o', label='train')\n",
        "plt.plot(results['valid']['acc'], color='g', marker='^', label='valid')\n",
        "plt.title('Accuracy', fontsize=20)\n",
        "plt.xlabel('epoch', fontsize=15)\n",
        "plt.ylabel('accuracy(%)', fontsize=15)\n",
        "plt.legend()\n",
        "plt.show()"
      ],
      "execution_count": 17,
      "outputs": [
        {
          "output_type": "display_data",
          "data": {
            "image/png": "[encoded data removed]",
            "text/plain": [
              "<Figure size 432x288 with 1 Axes>"
            ]
          },
          "metadata": {
            "needs_background": "light"
          }
        }
      ]
    },
    {
      "cell_type": "markdown",
      "metadata": {
        "id": "c5-KgAg9Zgb7"
      },
      "source": [
        "# Analyze the results\n"
      ]
    },
    {
      "cell_type": "code",
      "metadata": {
        "id": "ZZAyG0Q37var",
        "colab": {
          "base_uri": "https://localhost:8080/"
        },
        "outputId": "9e0ef8df-8351-4c9e-f52b-d4c080b24da8"
      },
      "source": [
        "label_class = {}\n",
        "for k, v in label_dict.items():\n",
        "    label_class[v] = k\n",
        "print(label_class)"
      ],
      "execution_count": 18,
      "outputs": [
        {
          "output_type": "stream",
          "name": "stdout",
          "text": [
            "{0: '0', 1: '1', 2: '2', 3: '3', 4: '4', 5: '5', 6: '6', 7: '7', 8: '8', 9: '9', 10: 'A', 11: 'B', 12: 'C', 13: 'D', 14: 'E', 15: 'F', 16: 'G', 17: 'H', 18: 'I', 19: 'J', 20: 'K', 21: 'L', 22: 'M', 23: 'N', 24: 'P', 25: 'Q', 26: 'R', 27: 'S', 28: 'T', 29: 'U', 30: 'V', 31: 'W', 32: 'X', 33: 'Y', 34: 'Z', 35: 'a', 36: 'b', 37: 'd', 38: 'e', 39: 'f', 40: 'g', 41: 'h', 42: 'i', 43: 'j', 44: 'm', 45: 'n', 46: 'o', 47: 'q', 48: 'r', 49: 't', 50: 'u', 51: 'y'}\n"
          ]
        }
      ]
    },
    {
      "cell_type": "code",
      "metadata": {
        "id": "695JdDuPZjVN"
      },
      "source": [
        "def analyze(model, device, data_loader, criterion):\n",
        "    model.eval()\n",
        "    corrects = {}\n",
        "    total = {}\n",
        "    acc = 0\n",
        "    with torch.no_grad():\n",
        "        for (image, label) in data_loader:\n",
        "            image = image.to(device)\n",
        "            label = label.to(device)\n",
        "\n",
        "            output = model(image)\n",
        "            loss = criterion(output, label)\n",
        "\n",
        "            _, pred = torch.max(output.data, 1)\n",
        "            \n",
        "            for label_, pred_ in zip(label, pred):\n",
        "                if label_ == pred_:\n",
        "                    corrects[label_.item()] = corrects.get(label_.item(), 0) + 1\n",
        "                total[label_.item()] = total.get(label_.item(), 0) + 1\n",
        "            \n",
        "    corrects = dict(sorted(corrects.items()))\n",
        "    total = dict(sorted(total.items()))\n",
        "    return corrects, total"
      ],
      "execution_count": 19,
      "outputs": []
    },
    {
      "cell_type": "code",
      "source": [
        "def test_evaluate(model, device, test_loader):\n",
        "    model_test.eval()\n",
        "    with torch.no_grad():\n",
        "        correct = 0\n",
        "        for images, labels in test_loader:\n",
        "            images = images.to(device)\n",
        "            labels = labels.to(device)\n",
        "            outputs = model_test(images)\n",
        "            _,predicted = torch.max(outputs.data,1)\n",
        "            correct += (predicted==labels).sum()\n",
        "    print('Accuracy of the last_model network on the {} test images: {} %'.\\\n",
        "        format(len(test_loader.dataset), 100 * correct / len(test_loader.dataset)))"
      ],
      "metadata": {
        "id": "8yTra7T6EuZO"
      },
      "execution_count": 20,
      "outputs": []
    },
    {
      "cell_type": "code",
      "metadata": {
        "id": "ffRSg6GK9kEr",
        "colab": {
          "base_uri": "https://localhost:8080/"
        },
        "outputId": "e8f1d660-c878-40cf-b1ee-e18b6b22692f"
      },
      "source": [
        "model_test = ConvNet().to(DEVICE)\n",
        "model_test.load_state_dict(torch.load(\"20161608.pth\"))\n",
        "\n",
        "test_evaluate(model, DEVICE, valid_loader)"
      ],
      "execution_count": 21,
      "outputs": [
        {
          "output_type": "stream",
          "name": "stdout",
          "text": [
            "Accuracy of the last_model network on the 7800 test images: 96.71794891357422 %\n"
          ]
        }
      ]
    },
    {
      "cell_type": "code",
      "source": [
        "label_acc = {}\n",
        "corrects, total = analyze(model, DEVICE, valid_loader, criterion)\n",
        "print('Accuracy for all class')\n",
        "for class_name, correct_count in corrects.items():\n",
        "    pct = 100 * correct_count / total[class_name]\n",
        "    print(f\"class {label_class[class_name]:2s}: {pct:.2f} %\")\n",
        "    label_acc[label_class[class_name]] = pct\n",
        "print(label_acc)"
      ],
      "metadata": {
        "id": "D5j4ceryFC6l",
        "colab": {
          "base_uri": "https://localhost:8080/"
        },
        "outputId": "e431878d-868b-4dbf-a500-74cd3093f274"
      },
      "execution_count": 22,
      "outputs": [
        {
          "output_type": "stream",
          "name": "stdout",
          "text": [
            "Accuracy for all class\n",
            "class 0 : 87.33 %\n",
            "class 1 : 96.00 %\n",
            "class 2 : 100.00 %\n",
            "class 3 : 100.00 %\n",
            "class 4 : 100.00 %\n",
            "class 5 : 100.00 %\n",
            "class 6 : 100.00 %\n",
            "class 7 : 99.33 %\n",
            "class 8 : 98.00 %\n",
            "class 9 : 98.00 %\n",
            "class A : 99.33 %\n",
            "class B : 98.00 %\n",
            "class C : 99.33 %\n",
            "class D : 98.67 %\n",
            "class E : 98.00 %\n",
            "class F : 96.67 %\n",
            "class G : 95.33 %\n",
            "class H : 99.33 %\n",
            "class I : 95.33 %\n",
            "class J : 98.67 %\n",
            "class K : 99.33 %\n",
            "class L : 99.33 %\n",
            "class M : 94.00 %\n",
            "class N : 99.33 %\n",
            "class P : 98.00 %\n",
            "class Q : 98.00 %\n",
            "class R : 98.67 %\n",
            "class S : 99.33 %\n",
            "class T : 94.00 %\n",
            "class U : 96.00 %\n",
            "class V : 99.33 %\n",
            "class W : 97.33 %\n",
            "class X : 100.00 %\n",
            "class Y : 95.33 %\n",
            "class Z : 99.33 %\n",
            "class a : 94.00 %\n",
            "class b : 96.67 %\n",
            "class d : 96.67 %\n",
            "class e : 93.33 %\n",
            "class f : 94.67 %\n",
            "class g : 92.67 %\n",
            "class h : 96.67 %\n",
            "class i : 96.00 %\n",
            "class j : 97.33 %\n",
            "class m : 96.00 %\n",
            "class n : 92.67 %\n",
            "class o : 88.00 %\n",
            "class q : 92.67 %\n",
            "class r : 98.00 %\n",
            "class t : 96.67 %\n",
            "class u : 92.00 %\n",
            "class y : 90.67 %\n",
            "{'0': 87.33333333333333, '1': 96.0, '2': 100.0, '3': 100.0, '4': 100.0, '5': 100.0, '6': 100.0, '7': 99.33333333333333, '8': 98.0, '9': 98.0, 'A': 99.33333333333333, 'B': 98.0, 'C': 99.33333333333333, 'D': 98.66666666666667, 'E': 98.0, 'F': 96.66666666666667, 'G': 95.33333333333333, 'H': 99.33333333333333, 'I': 95.33333333333333, 'J': 98.66666666666667, 'K': 99.33333333333333, 'L': 99.33333333333333, 'M': 94.0, 'N': 99.33333333333333, 'P': 98.0, 'Q': 98.0, 'R': 98.66666666666667, 'S': 99.33333333333333, 'T': 94.0, 'U': 96.0, 'V': 99.33333333333333, 'W': 97.33333333333333, 'X': 100.0, 'Y': 95.33333333333333, 'Z': 99.33333333333333, 'a': 94.0, 'b': 96.66666666666667, 'd': 96.66666666666667, 'e': 93.33333333333333, 'f': 94.66666666666667, 'g': 92.66666666666667, 'h': 96.66666666666667, 'i': 96.0, 'j': 97.33333333333333, 'm': 96.0, 'n': 92.66666666666667, 'o': 88.0, 'q': 92.66666666666667, 'r': 98.0, 't': 96.66666666666667, 'u': 92.0, 'y': 90.66666666666667}\n"
          ]
        }
      ]
    },
    {
      "cell_type": "code",
      "source": [
        "import seaborn as sns\n",
        "import pandas as pd\n",
        "\n",
        "df =  pd.DataFrame({\n",
        "    'label': label_acc.keys(),\n",
        "    'accuracy': label_acc.values()\n",
        "})\n",
        "plt.figure(figsize=(10,5))\n",
        "ax = sns.barplot(data=df, x='label', y='accuracy', color='skyblue')\n",
        "ax.set_title('Accuracy of valid set', fontsize=20)\n",
        "ax.set_xlabel('class label', fontsize=15)\n",
        "ax.set_ylabel('Accuracy(%)', fontsize=15)\n",
        "plt.show()"
      ],
      "metadata": {
        "id": "5d2M0RNsGQ8g",
        "colab": {
          "base_uri": "https://localhost:8080/",
          "height": 360
        },
        "outputId": "5910aa2e-eb33-4849-ddc3-c2a453b9e0f7"
      },
      "execution_count": 26,
      "outputs": [
        {
          "output_type": "display_data",
          "data": {
            "image/png": "[encoded data removed]",
            "text/plain": [
              "<Figure size 720x360 with 1 Axes>"
            ]
          },
          "metadata": {
            "needs_background": "light"
          }
        }
      ]
    },
    {
      "cell_type": "code",
      "source": [
        ""
      ],
      "metadata": {
        "id": "HsI_QYRaHGn2"
      },
      "execution_count": 23,
      "outputs": []
    }
  ]
}