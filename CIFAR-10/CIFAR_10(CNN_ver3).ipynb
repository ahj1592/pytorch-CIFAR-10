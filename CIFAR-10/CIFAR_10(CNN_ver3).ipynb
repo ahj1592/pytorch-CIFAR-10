{
  "nbformat": 4,
  "nbformat_minor": 0,
  "metadata": {
    "colab": {
      "name": "CIFAR-10(CNN_ver3)",
      "provenance": [],
      "collapsed_sections": []
    },
    "kernelspec": {
      "name": "python3",
      "display_name": "Python 3"
    },
    "language_info": {
      "name": "python"
    },
    "widgets": {
      "application/vnd.jupyter.widget-state+json": {
        "0cc5f8240620422dad8a1e4141cbffab": {
          "model_module": "@jupyter-widgets/controls",
          "model_name": "HBoxModel",
          "state": {
            "_view_name": "HBoxView",
            "_dom_classes": [],
            "_model_name": "HBoxModel",
            "_view_module": "@jupyter-widgets/controls",
            "_model_module_version": "1.5.0",
            "_view_count": null,
            "_view_module_version": "1.5.0",
            "box_style": "",
            "layout": "IPY_MODEL_73ff5f10987e4d4e8fa400f4fe07e15c",
            "_model_module": "@jupyter-widgets/controls",
            "children": [
              "IPY_MODEL_66f6b091e7e64186be11e0abac25aa62",
              "IPY_MODEL_39eb7f481e764a6e987439e878356a24"
            ]
          }
        },
        "73ff5f10987e4d4e8fa400f4fe07e15c": {
          "model_module": "@jupyter-widgets/base",
          "model_name": "LayoutModel",
          "state": {
            "_view_name": "LayoutView",
            "grid_template_rows": null,
            "right": null,
            "justify_content": null,
            "_view_module": "@jupyter-widgets/base",
            "overflow": null,
            "_model_module_version": "1.2.0",
            "_view_count": null,
            "flex_flow": null,
            "width": null,
            "min_width": null,
            "border": null,
            "align_items": null,
            "bottom": null,
            "_model_module": "@jupyter-widgets/base",
            "top": null,
            "grid_column": null,
            "overflow_y": null,
            "overflow_x": null,
            "grid_auto_flow": null,
            "grid_area": null,
            "grid_template_columns": null,
            "flex": null,
            "_model_name": "LayoutModel",
            "justify_items": null,
            "grid_row": null,
            "max_height": null,
            "align_content": null,
            "visibility": null,
            "align_self": null,
            "height": null,
            "min_height": null,
            "padding": null,
            "grid_auto_rows": null,
            "grid_gap": null,
            "max_width": null,
            "order": null,
            "_view_module_version": "1.2.0",
            "grid_template_areas": null,
            "object_position": null,
            "object_fit": null,
            "grid_auto_columns": null,
            "margin": null,
            "display": null,
            "left": null
          }
        },
        "66f6b091e7e64186be11e0abac25aa62": {
          "model_module": "@jupyter-widgets/controls",
          "model_name": "FloatProgressModel",
          "state": {
            "_view_name": "ProgressView",
            "style": "IPY_MODEL_1151873a33aa41928d33718818d653ef",
            "_dom_classes": [],
            "description": "",
            "_model_name": "FloatProgressModel",
            "bar_style": "success",
            "max": 170498071,
            "_view_module": "@jupyter-widgets/controls",
            "_model_module_version": "1.5.0",
            "value": 170498071,
            "_view_count": null,
            "_view_module_version": "1.5.0",
            "orientation": "horizontal",
            "min": 0,
            "description_tooltip": null,
            "_model_module": "@jupyter-widgets/controls",
            "layout": "IPY_MODEL_bcdba09024054fac8e4921f132193077"
          }
        },
        "39eb7f481e764a6e987439e878356a24": {
          "model_module": "@jupyter-widgets/controls",
          "model_name": "HTMLModel",
          "state": {
            "_view_name": "HTMLView",
            "style": "IPY_MODEL_9381c209bca84cb3b74d78a24da4347e",
            "_dom_classes": [],
            "description": "",
            "_model_name": "HTMLModel",
            "placeholder": "​",
            "_view_module": "@jupyter-widgets/controls",
            "_model_module_version": "1.5.0",
            "value": " 170499072/? [00:08&lt;00:00, 20941228.99it/s]",
            "_view_count": null,
            "_view_module_version": "1.5.0",
            "description_tooltip": null,
            "_model_module": "@jupyter-widgets/controls",
            "layout": "IPY_MODEL_1db846d8a88043c195afd19ed9046e2e"
          }
        },
        "1151873a33aa41928d33718818d653ef": {
          "model_module": "@jupyter-widgets/controls",
          "model_name": "ProgressStyleModel",
          "state": {
            "_view_name": "StyleView",
            "_model_name": "ProgressStyleModel",
            "description_width": "initial",
            "_view_module": "@jupyter-widgets/base",
            "_model_module_version": "1.5.0",
            "_view_count": null,
            "_view_module_version": "1.2.0",
            "bar_color": null,
            "_model_module": "@jupyter-widgets/controls"
          }
        },
        "bcdba09024054fac8e4921f132193077": {
          "model_module": "@jupyter-widgets/base",
          "model_name": "LayoutModel",
          "state": {
            "_view_name": "LayoutView",
            "grid_template_rows": null,
            "right": null,
            "justify_content": null,
            "_view_module": "@jupyter-widgets/base",
            "overflow": null,
            "_model_module_version": "1.2.0",
            "_view_count": null,
            "flex_flow": null,
            "width": null,
            "min_width": null,
            "border": null,
            "align_items": null,
            "bottom": null,
            "_model_module": "@jupyter-widgets/base",
            "top": null,
            "grid_column": null,
            "overflow_y": null,
            "overflow_x": null,
            "grid_auto_flow": null,
            "grid_area": null,
            "grid_template_columns": null,
            "flex": null,
            "_model_name": "LayoutModel",
            "justify_items": null,
            "grid_row": null,
            "max_height": null,
            "align_content": null,
            "visibility": null,
            "align_self": null,
            "height": null,
            "min_height": null,
            "padding": null,
            "grid_auto_rows": null,
            "grid_gap": null,
            "max_width": null,
            "order": null,
            "_view_module_version": "1.2.0",
            "grid_template_areas": null,
            "object_position": null,
            "object_fit": null,
            "grid_auto_columns": null,
            "margin": null,
            "display": null,
            "left": null
          }
        },
        "9381c209bca84cb3b74d78a24da4347e": {
          "model_module": "@jupyter-widgets/controls",
          "model_name": "DescriptionStyleModel",
          "state": {
            "_view_name": "StyleView",
            "_model_name": "DescriptionStyleModel",
            "description_width": "",
            "_view_module": "@jupyter-widgets/base",
            "_model_module_version": "1.5.0",
            "_view_count": null,
            "_view_module_version": "1.2.0",
            "_model_module": "@jupyter-widgets/controls"
          }
        },
        "1db846d8a88043c195afd19ed9046e2e": {
          "model_module": "@jupyter-widgets/base",
          "model_name": "LayoutModel",
          "state": {
            "_view_name": "LayoutView",
            "grid_template_rows": null,
            "right": null,
            "justify_content": null,
            "_view_module": "@jupyter-widgets/base",
            "overflow": null,
            "_model_module_version": "1.2.0",
            "_view_count": null,
            "flex_flow": null,
            "width": null,
            "min_width": null,
            "border": null,
            "align_items": null,
            "bottom": null,
            "_model_module": "@jupyter-widgets/base",
            "top": null,
            "grid_column": null,
            "overflow_y": null,
            "overflow_x": null,
            "grid_auto_flow": null,
            "grid_area": null,
            "grid_template_columns": null,
            "flex": null,
            "_model_name": "LayoutModel",
            "justify_items": null,
            "grid_row": null,
            "max_height": null,
            "align_content": null,
            "visibility": null,
            "align_self": null,
            "height": null,
            "min_height": null,
            "padding": null,
            "grid_auto_rows": null,
            "grid_gap": null,
            "max_width": null,
            "order": null,
            "_view_module_version": "1.2.0",
            "grid_template_areas": null,
            "object_position": null,
            "object_fit": null,
            "grid_auto_columns": null,
            "margin": null,
            "display": null,
            "left": null
          }
        }
      }
    },
    "accelerator": "GPU"
  },
  "cells": [
    {
      "cell_type": "markdown",
      "metadata": {
        "id": "nkyjSu_V6MEu"
      },
      "source": [
        "# Import requirements"
      ]
    },
    {
      "cell_type": "code",
      "metadata": {
        "colab": {
          "base_uri": "https://localhost:8080/"
        },
        "id": "NFRjq3jxScCr",
        "outputId": "b5e30603-15d0-46bd-bba3-cb5bc5a9f1ad"
      },
      "source": [
        "import os\n",
        "import random\n",
        "import numpy as np\n",
        "from tqdm import tqdm\n",
        "\n",
        "import matplotlib.pyplot as plt\n",
        "import seaborn as sns\n",
        "\n",
        "import torch\n",
        "import torch.nn as nn\n",
        "import torch.nn.functional as F\n",
        "from torchvision import transforms, datasets\n",
        "\n",
        "if torch.cuda.is_available():\n",
        "    DEVICE = torch.device('cuda')\n",
        "else:\n",
        "    DEVICE = torch.device('cpu')\n",
        "print(f'Device: {DEVICE}')"
      ],
      "execution_count": 1,
      "outputs": [
        {
          "output_type": "stream",
          "text": [
            "Device: cuda\n"
          ],
          "name": "stdout"
        }
      ]
    },
    {
      "cell_type": "markdown",
      "metadata": {
        "id": "kO45Icj16BO3"
      },
      "source": [
        "# Data Augmentation Using `transforms`"
      ]
    },
    {
      "cell_type": "code",
      "metadata": {
        "colab": {
          "base_uri": "https://localhost:8080/",
          "height": 99,
          "referenced_widgets": [
            "0cc5f8240620422dad8a1e4141cbffab",
            "73ff5f10987e4d4e8fa400f4fe07e15c",
            "66f6b091e7e64186be11e0abac25aa62",
            "39eb7f481e764a6e987439e878356a24",
            "1151873a33aa41928d33718818d653ef",
            "bcdba09024054fac8e4921f132193077",
            "9381c209bca84cb3b74d78a24da4347e",
            "1db846d8a88043c195afd19ed9046e2e"
          ]
        },
        "id": "AMwtNrQySvYW",
        "outputId": "7df9b2e5-13cb-472c-d909-8025c7fbe6f2"
      },
      "source": [
        "transform_test = transforms.Compose([transforms.Resize((32, 32)),\n",
        "                                  transforms.ToTensor(),\n",
        "                                  transforms.Normalize((0.5, 0.5, 0.5), (0.5, 0.5, 0.5))\n",
        "                                 ])\n",
        "\n",
        "train_dataset = datasets.CIFAR10(root='../data/CIFAR_10',\n",
        "                                 train=True,\n",
        "                                 download=True,)\n",
        "test_dataset = datasets.CIFAR10(root='../data/CIFAR_10',\n",
        "                                train=False,\n",
        "                                transform=transform_test)"
      ],
      "execution_count": 2,
      "outputs": [
        {
          "output_type": "stream",
          "text": [
            "Downloading https://www.cs.toronto.edu/~kriz/cifar-10-python.tar.gz to ../data/CIFAR_10/cifar-10-python.tar.gz\n"
          ],
          "name": "stdout"
        },
        {
          "output_type": "display_data",
          "data": {
            "application/vnd.jupyter.widget-view+json": {
              "model_id": "0cc5f8240620422dad8a1e4141cbffab",
              "version_minor": 0,
              "version_major": 2
            },
            "text/plain": [
              "HBox(children=(FloatProgress(value=0.0, max=170498071.0), HTML(value='')))"
            ]
          },
          "metadata": {
            "tags": []
          }
        },
        {
          "output_type": "stream",
          "text": [
            "\n",
            "Extracting ../data/CIFAR_10/cifar-10-python.tar.gz to ../data/CIFAR_10\n"
          ],
          "name": "stdout"
        }
      ]
    },
    {
      "cell_type": "code",
      "metadata": {
        "colab": {
          "base_uri": "https://localhost:8080/"
        },
        "id": "pOQIgmU6aiAf",
        "outputId": "2aed24d6-135b-423f-a2bc-02358ea6fab1"
      },
      "source": [
        "for (image, label) in train_dataset:\n",
        "    tensor_img = transforms.ToTensor()(image).unsqueeze_(0)\n",
        "    print(tensor_img.shape)\n",
        "    print(label)\n",
        "    break"
      ],
      "execution_count": 3,
      "outputs": [
        {
          "output_type": "stream",
          "text": [
            "torch.Size([1, 3, 32, 32])\n",
            "6\n"
          ],
          "name": "stdout"
        }
      ]
    },
    {
      "cell_type": "code",
      "metadata": {
        "colab": {
          "base_uri": "https://localhost:8080/"
        },
        "id": "8L7P2jqpMSJU",
        "outputId": "6e7d48f3-5ecf-45b7-fb5e-9288f296447d"
      },
      "source": [
        "for (image, label) in train_dataset:\n",
        "    tensor_img = transforms.ToTensor()(image).view(-1, 32, 32)\n",
        "    print(tensor_img.shape)\n",
        "    print(label)\n",
        "    break"
      ],
      "execution_count": 4,
      "outputs": [
        {
          "output_type": "stream",
          "text": [
            "torch.Size([3, 32, 32])\n",
            "6\n"
          ],
          "name": "stdout"
        }
      ]
    },
    {
      "cell_type": "markdown",
      "metadata": {
        "id": "SZgR_FFWNXlr"
      },
      "source": [
        "# Data Augmentation"
      ]
    },
    {
      "cell_type": "code",
      "metadata": {
        "colab": {
          "base_uri": "https://localhost:8080/"
        },
        "id": "phbLVVekbN1P",
        "outputId": "81abecc1-6bf7-4464-b593-f431dd293ca9"
      },
      "source": [
        "train_list = []\n",
        "for (image, label) in tqdm(train_dataset):\n",
        "    img0 = image\n",
        "    img1 = transforms.RandomHorizontalFlip(1)(image)\n",
        "    img2 = transforms.RandomRotation(10)(image)\n",
        "    img3 = transforms.RandomAffine(0, shear=10, scale=(0.8, 1.2))(image)\n",
        "    img4 = transforms.ColorJitter(brightness=0.2, contrast=0.2, saturation=0.2)(image)\n",
        "    imgs = [img0, img1, img2, img3, img4]\n",
        "    \n",
        "    for img in imgs:\n",
        "        img = transforms.ToTensor()(img).view(-1, 32, 32)\n",
        "        img = transforms.Normalize((0.5, 0.5, 0.5), (0.5, 0.5, 0.5))(img)\n",
        "        train_list.append((img, label))\n",
        "\n",
        "print(f'\\n{len(train_list)}')"
      ],
      "execution_count": 5,
      "outputs": [
        {
          "output_type": "stream",
          "text": [
            "100%|██████████| 50000/50000 [01:22<00:00, 602.90it/s]"
          ],
          "name": "stderr"
        },
        {
          "output_type": "stream",
          "text": [
            "\n",
            "250000\n"
          ],
          "name": "stdout"
        },
        {
          "output_type": "stream",
          "text": [
            "\n"
          ],
          "name": "stderr"
        }
      ]
    },
    {
      "cell_type": "code",
      "metadata": {
        "colab": {
          "base_uri": "https://localhost:8080/"
        },
        "id": "Q0_MRtU6MwFH",
        "outputId": "10b2f1e7-4f33-47a6-95a6-2486920247b4"
      },
      "source": [
        "image = train_list[0][0]\n",
        "print(image.shape)"
      ],
      "execution_count": 6,
      "outputs": [
        {
          "output_type": "stream",
          "text": [
            "torch.Size([3, 32, 32])\n"
          ],
          "name": "stdout"
        }
      ]
    },
    {
      "cell_type": "markdown",
      "metadata": {
        "id": "eV9JvO0ALeY9"
      },
      "source": [
        "# Define Custom Dataset"
      ]
    },
    {
      "cell_type": "code",
      "metadata": {
        "id": "kaHiVIKVeZ0j"
      },
      "source": [
        "class MyDataset(torch.utils.data.Dataset):\n",
        "    def __init__(self, data_list):\n",
        "        self.data = data_list\n",
        "    \n",
        "    def __len__(self):\n",
        "        # size is same as length of list\n",
        "        return len(self.data)\n",
        "\n",
        "    def __getitem__(self, idx):\n",
        "        # reshape tensor as (3, 32, 32)\n",
        "        image = self.data[idx][0] #.view(3, 32, 32) \n",
        "        label = self.data[idx][1]\n",
        "        return image, label\n",
        "\n",
        "train_dataset = MyDataset(train_list)"
      ],
      "execution_count": 7,
      "outputs": []
    },
    {
      "cell_type": "code",
      "metadata": {
        "colab": {
          "base_uri": "https://localhost:8080/"
        },
        "id": "JOpbBy82MjP1",
        "outputId": "52ae53bc-7c9f-417d-88c0-ff1b8599b88e"
      },
      "source": [
        "for image, label in train_dataset:\n",
        "    print(image.shape)\n",
        "    break"
      ],
      "execution_count": 8,
      "outputs": [
        {
          "output_type": "stream",
          "text": [
            "torch.Size([3, 32, 32])\n"
          ],
          "name": "stdout"
        }
      ]
    },
    {
      "cell_type": "markdown",
      "metadata": {
        "id": "RAnwnQsgLbGp"
      },
      "source": [
        "# Define DataLoader"
      ]
    },
    {
      "cell_type": "code",
      "metadata": {
        "id": "R3m3hj9nUcio"
      },
      "source": [
        "BATCH_SIZE = 32\n",
        "\n",
        "train_loader = torch.utils.data.DataLoader(\n",
        "    dataset=train_dataset, \n",
        "    batch_size=BATCH_SIZE,\n",
        "    shuffle=True\n",
        ")\n",
        "\n",
        "test_loader = torch.utils.data.DataLoader(\n",
        "    dataset=test_dataset,\n",
        "    batch_size=BATCH_SIZE,\n",
        "    shuffle=False,\n",
        ")"
      ],
      "execution_count": 9,
      "outputs": []
    },
    {
      "cell_type": "markdown",
      "metadata": {
        "id": "Gg37zH3Z6VxK"
      },
      "source": [
        "# Define the Convolution Neural Network (CNN)"
      ]
    },
    {
      "cell_type": "code",
      "metadata": {
        "id": "k3jcHCcA_0lb"
      },
      "source": [
        "class ConvNet(nn.Module):\n",
        "    # similar with VGG-16\n",
        "    def __init__(self):\n",
        "        super(ConvNet, self).__init__()\n",
        "        # input shape = (32, 32)\n",
        "        self.conv = nn.Sequential(\n",
        "            nn.Conv2d(3, 64, 3, padding=1, bias=False), # (32, 32)\n",
        "            nn.BatchNorm2d(64),\n",
        "            nn.ReLU(),\n",
        "            nn.Conv2d(64, 64, 3, padding=1, bias=False), # (32, 32)\n",
        "            nn.BatchNorm2d(64),\n",
        "            nn.ReLU(),\n",
        "            nn.MaxPool2d(2, 2), # (16, 16)\n",
        "            \n",
        "            nn.Conv2d(64, 128, 3, padding=1, bias=False), # (16, 16)\n",
        "            nn.BatchNorm2d(128),\n",
        "            nn.ReLU(),\n",
        "            nn.Conv2d(128, 128, 3, padding=1, bias=False), # (16, 16)\n",
        "            nn.BatchNorm2d(128),\n",
        "            nn.ReLU(),\n",
        "            nn.MaxPool2d(2, 2), # (8, 8)\n",
        "            \n",
        "            nn.Conv2d(128, 256, 3, padding=1, bias=False), # (8, 8)\n",
        "            nn.BatchNorm2d(256),\n",
        "            nn.ReLU(),\n",
        "            nn.Conv2d(256, 256, 3, padding=1, bias=False), # (8, 8)\n",
        "            nn.BatchNorm2d(256),\n",
        "            nn.ReLU(),\n",
        "            nn.Conv2d(256, 256, 3, padding=1, bias=False), # (8, 8)\n",
        "            nn.BatchNorm2d(256),\n",
        "            nn.ReLU(),\n",
        "            nn.MaxPool2d(2, 2), # (4, 4)\n",
        "        )\n",
        "\n",
        "\n",
        "        self.clssify = nn.Sequential(\n",
        "            nn.Linear(4*4*256, 256),\n",
        "            nn.ReLU(),\n",
        "            nn.Dropout(0.5),\n",
        "            nn.Linear(256, 128),\n",
        "            nn.ReLU(),\n",
        "            nn.Linear(128, 10),\n",
        "            nn.LogSoftmax(dim=1),\n",
        "        )\n",
        "\n",
        "    def forward(self, x):\n",
        "        x = self.conv(x)\n",
        "        x = x.view(-1, 4*4*256)\n",
        "        x = self.clssify(x)\n",
        "        return x"
      ],
      "execution_count": 15,
      "outputs": []
    },
    {
      "cell_type": "markdown",
      "metadata": {
        "id": "Durloa9S6hPO"
      },
      "source": [
        "# Define the train, evaluation"
      ]
    },
    {
      "cell_type": "code",
      "metadata": {
        "id": "ouAyIUJ9Wt5a"
      },
      "source": [
        "def train(model, train_loader, optimizer, log_interval):\n",
        "    model.train()\n",
        "    train_loss = 0\n",
        "    correct = 0\n",
        "\n",
        "    for batch_idx, (image, label) in enumerate(train_loader):\n",
        "        image = image.to(DEVICE)\n",
        "        label = label.to(DEVICE)\n",
        "        optimizer.zero_grad()\n",
        "        output = model(image)\n",
        "        loss = criterion(output, label)\n",
        "        train_loss += loss.item()\n",
        "        loss.backward()\n",
        "        optimizer.step()\n",
        "\n",
        "        if (batch_idx + 1) % log_interval == 0 or (batch_idx + 1) == len(train_loader):\n",
        "            pct = 100 * batch_idx / len(train_loader) # percent\n",
        "            train_loss /= log_interval\n",
        "            print(f'Train Epoch: {Epoch} [{batch_idx * len(image)}/{len(train_loader.dataset)} ({pct:.0f}%)]\\tAverage Train Loss: {train_loss:.6f}')\n",
        "            train_loss = 0\n",
        "\n",
        "\n",
        "def evaluate(model, test_loader):\n",
        "    model.eval()\n",
        "    test_loss = 0\n",
        "    correct = 0\n",
        "\n",
        "    with torch.no_grad():\n",
        "        for image, label in test_loader:\n",
        "            image = image.to(DEVICE)\n",
        "            label = label.to(DEVICE)\n",
        "            output = model(image)\n",
        "            test_loss += criterion(output, label).item()\n",
        "            pred = output.argmax(dim=1, keepdim=True)\n",
        "            correct += pred.eq(label.view_as(pred)).sum().item()\n",
        "    test_loss /= len(test_loader.dataset)\n",
        "    test_accuracy = 100 * correct / len(test_loader.dataset)\n",
        "\n",
        "    return test_loss, test_accuracy"
      ],
      "execution_count": 16,
      "outputs": []
    },
    {
      "cell_type": "markdown",
      "metadata": {
        "id": "xrjIlYb16ltY"
      },
      "source": [
        "# set seeds"
      ]
    },
    {
      "cell_type": "code",
      "metadata": {
        "id": "eG7t0-5vMzyi"
      },
      "source": [
        "def fix_seeds(seed = 42, use_torch=False):\n",
        "    # fix the seed for reproducibility \n",
        "    os.environ['PYTHONHASHSEED'] = str(seed)\n",
        "    random.seed(seed)\n",
        "    np.random.seed(seed)\n",
        "\n",
        "    if use_torch: \n",
        "        torch.manual_seed(seed) \n",
        "        torch.cuda.manual_seed(seed)\n",
        "        torch.backends.cudnn.deterministic = True"
      ],
      "execution_count": 17,
      "outputs": []
    },
    {
      "cell_type": "markdown",
      "metadata": {
        "id": "s1aOKVvtM7SV"
      },
      "source": [
        "# initialize the weights"
      ]
    },
    {
      "cell_type": "code",
      "metadata": {
        "id": "h7bduOeURG9-"
      },
      "source": [
        "def init_weights(m):\n",
        "    # initialize the weight, bias\n",
        "    if isinstance(m, nn.Conv2d):\n",
        "        torch.nn.init.kaiming_uniform_(m.weight.data)\n",
        "        if m.bias is not None:\n",
        "            torch.nn.init.normal_(m.bias.data)\n",
        "    elif isinstance(m, nn.BatchNorm2d):\n",
        "        torch.nn.init.normal_(m.weight.data, mean=1, std=0.02)\n",
        "        torch.nn.init.constant_(m.bias.data, 0)\n",
        "    elif isinstance(m, nn.Linear):\n",
        "        torch.nn.init.kaiming_uniform_(m.weight.data)\n",
        "        torch.nn.init.normal_(m.bias.data)"
      ],
      "execution_count": 18,
      "outputs": []
    },
    {
      "cell_type": "markdown",
      "metadata": {
        "id": "bJ_GaCMiM_A0"
      },
      "source": [
        "# Train & Test the model"
      ]
    },
    {
      "cell_type": "code",
      "metadata": {
        "colab": {
          "base_uri": "https://localhost:8080/"
        },
        "id": "zvfG337EbK51",
        "outputId": "f2aceb8a-ba9b-41d1-a509-5705f070d6a6"
      },
      "source": [
        "SEED = 42\n",
        "EPOCHS = 30\n",
        "\n",
        "fix_seeds(seed=SEED, use_torch=True)\n",
        "model = ConvNet().to(device=DEVICE)\n",
        "model.apply(init_weights)\n",
        "optimizer = torch.optim.Adam(model.parameters(), lr=0.001)\n",
        "scheduler = torch.optim.lr_scheduler.ReduceLROnPlateau(optimizer, 'min')\n",
        "criterion = nn.CrossEntropyLoss()\n",
        "\n",
        "\n",
        "for Epoch in range(1, EPOCHS + 1):\n",
        "    train(model, train_loader, optimizer, log_interval=1500)\n",
        "    test_loss, test_acc = evaluate(model, test_loader)\n",
        "    scheduler.step(test_loss)\n",
        "\n",
        "    print(f'\\nEpoch: {Epoch}')\n",
        "    print(f'Average Test Loss: {test_loss:.4f}')\n",
        "    print(f'Test Accuracy: {test_acc:.2f} %\\n')\n",
        "    torch.save(model, f'./models/model_{Epoch:02d}.pt')"
      ],
      "execution_count": 20,
      "outputs": [
        {
          "output_type": "stream",
          "text": [
            "Train Epoch: 1 [47968/250000 (19%)]\tAverage Train Loss: 1.840569\n",
            "Train Epoch: 1 [95968/250000 (38%)]\tAverage Train Loss: 1.420129\n",
            "Train Epoch: 1 [143968/250000 (58%)]\tAverage Train Loss: 1.146530\n",
            "Train Epoch: 1 [191968/250000 (77%)]\tAverage Train Loss: 0.937470\n",
            "Train Epoch: 1 [239968/250000 (96%)]\tAverage Train Loss: 0.795693\n",
            "Train Epoch: 1 [124992/250000 (100%)]\tAverage Train Loss: 0.149314\n",
            "\n",
            "Epoch: 1\n",
            "Average Test Loss: 0.0215\n",
            "Test Accuracy: 76.08 %\n",
            "\n",
            "Train Epoch: 2 [47968/250000 (19%)]\tAverage Train Loss: 0.645721\n",
            "Train Epoch: 2 [95968/250000 (38%)]\tAverage Train Loss: 0.579372\n",
            "Train Epoch: 2 [143968/250000 (58%)]\tAverage Train Loss: 0.523315\n",
            "Train Epoch: 2 [191968/250000 (77%)]\tAverage Train Loss: 0.477528\n",
            "Train Epoch: 2 [239968/250000 (96%)]\tAverage Train Loss: 0.441635\n",
            "Train Epoch: 2 [124992/250000 (100%)]\tAverage Train Loss: 0.085304\n",
            "\n",
            "Epoch: 2\n",
            "Average Test Loss: 0.0145\n",
            "Test Accuracy: 84.19 %\n",
            "\n",
            "Train Epoch: 3 [47968/250000 (19%)]\tAverage Train Loss: 0.360341\n",
            "Train Epoch: 3 [95968/250000 (38%)]\tAverage Train Loss: 0.346504\n",
            "Train Epoch: 3 [143968/250000 (58%)]\tAverage Train Loss: 0.326520\n",
            "Train Epoch: 3 [191968/250000 (77%)]\tAverage Train Loss: 0.309242\n",
            "Train Epoch: 3 [239968/250000 (96%)]\tAverage Train Loss: 0.295723\n",
            "Train Epoch: 3 [124992/250000 (100%)]\tAverage Train Loss: 0.060598\n",
            "\n",
            "Epoch: 3\n",
            "Average Test Loss: 0.0128\n",
            "Test Accuracy: 86.15 %\n",
            "\n",
            "Train Epoch: 4 [47968/250000 (19%)]\tAverage Train Loss: 0.232061\n",
            "Train Epoch: 4 [95968/250000 (38%)]\tAverage Train Loss: 0.229750\n",
            "Train Epoch: 4 [143968/250000 (58%)]\tAverage Train Loss: 0.222699\n",
            "Train Epoch: 4 [191968/250000 (77%)]\tAverage Train Loss: 0.218920\n",
            "Train Epoch: 4 [239968/250000 (96%)]\tAverage Train Loss: 0.203661\n",
            "Train Epoch: 4 [124992/250000 (100%)]\tAverage Train Loss: 0.045698\n",
            "\n",
            "Epoch: 4\n",
            "Average Test Loss: 0.0116\n",
            "Test Accuracy: 88.16 %\n",
            "\n",
            "Train Epoch: 5 [47968/250000 (19%)]\tAverage Train Loss: 0.161736\n",
            "Train Epoch: 5 [95968/250000 (38%)]\tAverage Train Loss: 0.163284\n",
            "Train Epoch: 5 [143968/250000 (58%)]\tAverage Train Loss: 0.161486\n",
            "Train Epoch: 5 [191968/250000 (77%)]\tAverage Train Loss: 0.165150\n",
            "Train Epoch: 5 [239968/250000 (96%)]\tAverage Train Loss: 0.162244\n",
            "Train Epoch: 5 [124992/250000 (100%)]\tAverage Train Loss: 0.029310\n",
            "\n",
            "Epoch: 5\n",
            "Average Test Loss: 0.0118\n",
            "Test Accuracy: 88.67 %\n",
            "\n",
            "Train Epoch: 6 [47968/250000 (19%)]\tAverage Train Loss: 0.116836\n",
            "Train Epoch: 6 [95968/250000 (38%)]\tAverage Train Loss: 0.126605\n",
            "Train Epoch: 6 [143968/250000 (58%)]\tAverage Train Loss: 0.128776\n",
            "Train Epoch: 6 [191968/250000 (77%)]\tAverage Train Loss: 0.125913\n",
            "Train Epoch: 6 [239968/250000 (96%)]\tAverage Train Loss: 0.125666\n",
            "Train Epoch: 6 [124992/250000 (100%)]\tAverage Train Loss: 0.027454\n",
            "\n",
            "Epoch: 6\n",
            "Average Test Loss: 0.0128\n",
            "Test Accuracy: 88.32 %\n",
            "\n",
            "Train Epoch: 7 [47968/250000 (19%)]\tAverage Train Loss: 0.097890\n",
            "Train Epoch: 7 [95968/250000 (38%)]\tAverage Train Loss: 0.100349\n",
            "Train Epoch: 7 [143968/250000 (58%)]\tAverage Train Loss: 0.105367\n",
            "Train Epoch: 7 [191968/250000 (77%)]\tAverage Train Loss: 0.105626\n",
            "Train Epoch: 7 [239968/250000 (96%)]\tAverage Train Loss: 0.100500\n",
            "Train Epoch: 7 [124992/250000 (100%)]\tAverage Train Loss: 0.019872\n",
            "\n",
            "Epoch: 7\n",
            "Average Test Loss: 0.0117\n",
            "Test Accuracy: 89.42 %\n",
            "\n",
            "Train Epoch: 8 [47968/250000 (19%)]\tAverage Train Loss: 0.080977\n",
            "Train Epoch: 8 [95968/250000 (38%)]\tAverage Train Loss: 0.085440\n",
            "Train Epoch: 8 [143968/250000 (58%)]\tAverage Train Loss: 0.086519\n",
            "Train Epoch: 8 [191968/250000 (77%)]\tAverage Train Loss: 0.089276\n",
            "Train Epoch: 8 [239968/250000 (96%)]\tAverage Train Loss: 0.088711\n",
            "Train Epoch: 8 [124992/250000 (100%)]\tAverage Train Loss: 0.019326\n",
            "\n",
            "Epoch: 8\n",
            "Average Test Loss: 0.0122\n",
            "Test Accuracy: 89.31 %\n",
            "\n",
            "Train Epoch: 9 [47968/250000 (19%)]\tAverage Train Loss: 0.067140\n",
            "Train Epoch: 9 [95968/250000 (38%)]\tAverage Train Loss: 0.073680\n",
            "Train Epoch: 9 [143968/250000 (58%)]\tAverage Train Loss: 0.075312\n",
            "Train Epoch: 9 [191968/250000 (77%)]\tAverage Train Loss: 0.076696\n",
            "Train Epoch: 9 [239968/250000 (96%)]\tAverage Train Loss: 0.079225\n",
            "Train Epoch: 9 [124992/250000 (100%)]\tAverage Train Loss: 0.016626\n",
            "\n",
            "Epoch: 9\n",
            "Average Test Loss: 0.0129\n",
            "Test Accuracy: 89.40 %\n",
            "\n",
            "Train Epoch: 10 [47968/250000 (19%)]\tAverage Train Loss: 0.058888\n",
            "Train Epoch: 10 [95968/250000 (38%)]\tAverage Train Loss: 0.066033\n",
            "Train Epoch: 10 [143968/250000 (58%)]\tAverage Train Loss: 0.066406\n",
            "Train Epoch: 10 [191968/250000 (77%)]\tAverage Train Loss: 0.069155\n",
            "Train Epoch: 10 [239968/250000 (96%)]\tAverage Train Loss: 0.074275\n",
            "Train Epoch: 10 [124992/250000 (100%)]\tAverage Train Loss: 0.014730\n",
            "\n",
            "Epoch: 10\n",
            "Average Test Loss: 0.0135\n",
            "Test Accuracy: 89.22 %\n",
            "\n",
            "Train Epoch: 11 [47968/250000 (19%)]\tAverage Train Loss: 0.054456\n",
            "Train Epoch: 11 [95968/250000 (38%)]\tAverage Train Loss: 0.059579\n",
            "Train Epoch: 11 [143968/250000 (58%)]\tAverage Train Loss: 0.061351\n",
            "Train Epoch: 11 [191968/250000 (77%)]\tAverage Train Loss: 0.064057\n",
            "Train Epoch: 11 [239968/250000 (96%)]\tAverage Train Loss: 0.059786\n",
            "Train Epoch: 11 [124992/250000 (100%)]\tAverage Train Loss: 0.013761\n",
            "\n",
            "Epoch: 11\n",
            "Average Test Loss: 0.0132\n",
            "Test Accuracy: 89.57 %\n",
            "\n",
            "Train Epoch: 12 [47968/250000 (19%)]\tAverage Train Loss: 0.052371\n",
            "Train Epoch: 12 [95968/250000 (38%)]\tAverage Train Loss: 0.055357\n",
            "Train Epoch: 12 [143968/250000 (58%)]\tAverage Train Loss: 0.056402\n",
            "Train Epoch: 12 [191968/250000 (77%)]\tAverage Train Loss: 0.058104\n",
            "Train Epoch: 12 [239968/250000 (96%)]\tAverage Train Loss: 0.058193\n",
            "Train Epoch: 12 [124992/250000 (100%)]\tAverage Train Loss: 0.012994\n",
            "\n",
            "Epoch: 12\n",
            "Average Test Loss: 0.0130\n",
            "Test Accuracy: 89.92 %\n",
            "\n",
            "Train Epoch: 13 [47968/250000 (19%)]\tAverage Train Loss: 0.045372\n",
            "Train Epoch: 13 [95968/250000 (38%)]\tAverage Train Loss: 0.050418\n",
            "Train Epoch: 13 [143968/250000 (58%)]\tAverage Train Loss: 0.053246\n",
            "Train Epoch: 13 [191968/250000 (77%)]\tAverage Train Loss: 0.058183\n",
            "Train Epoch: 13 [239968/250000 (96%)]\tAverage Train Loss: 0.054179\n",
            "Train Epoch: 13 [124992/250000 (100%)]\tAverage Train Loss: 0.010977\n",
            "\n",
            "Epoch: 13\n",
            "Average Test Loss: 0.0126\n",
            "Test Accuracy: 89.96 %\n",
            "\n",
            "Train Epoch: 14 [47968/250000 (19%)]\tAverage Train Loss: 0.043762\n",
            "Train Epoch: 14 [95968/250000 (38%)]\tAverage Train Loss: 0.046399\n",
            "Train Epoch: 14 [143968/250000 (58%)]\tAverage Train Loss: 0.048548\n",
            "Train Epoch: 14 [191968/250000 (77%)]\tAverage Train Loss: 0.049637\n",
            "Train Epoch: 14 [239968/250000 (96%)]\tAverage Train Loss: 0.047377\n",
            "Train Epoch: 14 [124992/250000 (100%)]\tAverage Train Loss: 0.011340\n",
            "\n",
            "Epoch: 14\n",
            "Average Test Loss: 0.0137\n",
            "Test Accuracy: 89.84 %\n",
            "\n",
            "Train Epoch: 15 [47968/250000 (19%)]\tAverage Train Loss: 0.041486\n",
            "Train Epoch: 15 [95968/250000 (38%)]\tAverage Train Loss: 0.040969\n",
            "Train Epoch: 15 [143968/250000 (58%)]\tAverage Train Loss: 0.046127\n",
            "Train Epoch: 15 [191968/250000 (77%)]\tAverage Train Loss: 0.046801\n",
            "Train Epoch: 15 [239968/250000 (96%)]\tAverage Train Loss: 0.045629\n",
            "Train Epoch: 15 [124992/250000 (100%)]\tAverage Train Loss: 0.008953\n",
            "\n",
            "Epoch: 15\n",
            "Average Test Loss: 0.0144\n",
            "Test Accuracy: 89.98 %\n",
            "\n",
            "Train Epoch: 16 [47968/250000 (19%)]\tAverage Train Loss: 0.020660\n",
            "Train Epoch: 16 [95968/250000 (38%)]\tAverage Train Loss: 0.013825\n",
            "Train Epoch: 16 [143968/250000 (58%)]\tAverage Train Loss: 0.011837\n",
            "Train Epoch: 16 [191968/250000 (77%)]\tAverage Train Loss: 0.008730\n",
            "Train Epoch: 16 [239968/250000 (96%)]\tAverage Train Loss: 0.009503\n",
            "Train Epoch: 16 [124992/250000 (100%)]\tAverage Train Loss: 0.002015\n",
            "\n",
            "Epoch: 16\n",
            "Average Test Loss: 0.0157\n",
            "Test Accuracy: 90.98 %\n",
            "\n",
            "Train Epoch: 17 [47968/250000 (19%)]\tAverage Train Loss: 0.005253\n",
            "Train Epoch: 17 [95968/250000 (38%)]\tAverage Train Loss: 0.005060\n",
            "Train Epoch: 17 [143968/250000 (58%)]\tAverage Train Loss: 0.005269\n",
            "Train Epoch: 17 [191968/250000 (77%)]\tAverage Train Loss: 0.005443\n",
            "Train Epoch: 17 [239968/250000 (96%)]\tAverage Train Loss: 0.004475\n",
            "Train Epoch: 17 [124992/250000 (100%)]\tAverage Train Loss: 0.000898\n",
            "\n",
            "Epoch: 17\n",
            "Average Test Loss: 0.0181\n",
            "Test Accuracy: 91.05 %\n",
            "\n",
            "Train Epoch: 18 [47968/250000 (19%)]\tAverage Train Loss: 0.003242\n",
            "Train Epoch: 18 [95968/250000 (38%)]\tAverage Train Loss: 0.002674\n",
            "Train Epoch: 18 [143968/250000 (58%)]\tAverage Train Loss: 0.003295\n",
            "Train Epoch: 18 [191968/250000 (77%)]\tAverage Train Loss: 0.002661\n",
            "Train Epoch: 18 [239968/250000 (96%)]\tAverage Train Loss: 0.003902\n",
            "Train Epoch: 18 [124992/250000 (100%)]\tAverage Train Loss: 0.000603\n",
            "\n",
            "Epoch: 18\n",
            "Average Test Loss: 0.0210\n",
            "Test Accuracy: 91.22 %\n",
            "\n",
            "Train Epoch: 19 [47968/250000 (19%)]\tAverage Train Loss: 0.001860\n",
            "Train Epoch: 19 [95968/250000 (38%)]\tAverage Train Loss: 0.002978\n",
            "Train Epoch: 19 [143968/250000 (58%)]\tAverage Train Loss: 0.002658\n",
            "Train Epoch: 19 [191968/250000 (77%)]\tAverage Train Loss: 0.002727\n",
            "Train Epoch: 19 [239968/250000 (96%)]\tAverage Train Loss: 0.002528\n",
            "Train Epoch: 19 [124992/250000 (100%)]\tAverage Train Loss: 0.000737\n",
            "\n",
            "Epoch: 19\n",
            "Average Test Loss: 0.0228\n",
            "Test Accuracy: 91.21 %\n",
            "\n",
            "Train Epoch: 20 [47968/250000 (19%)]\tAverage Train Loss: 0.001494\n",
            "Train Epoch: 20 [95968/250000 (38%)]\tAverage Train Loss: 0.002321\n",
            "Train Epoch: 20 [143968/250000 (58%)]\tAverage Train Loss: 0.003076\n",
            "Train Epoch: 20 [191968/250000 (77%)]\tAverage Train Loss: 0.002006\n",
            "Train Epoch: 20 [239968/250000 (96%)]\tAverage Train Loss: 0.002975\n",
            "Train Epoch: 20 [124992/250000 (100%)]\tAverage Train Loss: 0.000277\n",
            "\n",
            "Epoch: 20\n",
            "Average Test Loss: 0.0233\n",
            "Test Accuracy: 91.10 %\n",
            "\n",
            "Train Epoch: 21 [47968/250000 (19%)]\tAverage Train Loss: 0.001324\n",
            "Train Epoch: 21 [95968/250000 (38%)]\tAverage Train Loss: 0.001959\n",
            "Train Epoch: 21 [143968/250000 (58%)]\tAverage Train Loss: 0.002070\n",
            "Train Epoch: 21 [191968/250000 (77%)]\tAverage Train Loss: 0.002029\n",
            "Train Epoch: 21 [239968/250000 (96%)]\tAverage Train Loss: 0.003016\n",
            "Train Epoch: 21 [124992/250000 (100%)]\tAverage Train Loss: 0.000465\n",
            "\n",
            "Epoch: 21\n",
            "Average Test Loss: 0.0251\n",
            "Test Accuracy: 91.36 %\n",
            "\n",
            "Train Epoch: 22 [47968/250000 (19%)]\tAverage Train Loss: 0.001246\n",
            "Train Epoch: 22 [95968/250000 (38%)]\tAverage Train Loss: 0.001579\n",
            "Train Epoch: 22 [143968/250000 (58%)]\tAverage Train Loss: 0.001132\n",
            "Train Epoch: 22 [191968/250000 (77%)]\tAverage Train Loss: 0.001588\n",
            "Train Epoch: 22 [239968/250000 (96%)]\tAverage Train Loss: 0.001663\n",
            "Train Epoch: 22 [124992/250000 (100%)]\tAverage Train Loss: 0.000859\n",
            "\n",
            "Epoch: 22\n",
            "Average Test Loss: 0.0258\n",
            "Test Accuracy: 91.04 %\n",
            "\n",
            "Train Epoch: 23 [47968/250000 (19%)]\tAverage Train Loss: 0.001783\n",
            "Train Epoch: 23 [95968/250000 (38%)]\tAverage Train Loss: 0.001605\n",
            "Train Epoch: 23 [143968/250000 (58%)]\tAverage Train Loss: 0.002297\n",
            "Train Epoch: 23 [191968/250000 (77%)]\tAverage Train Loss: 0.001191\n",
            "Train Epoch: 23 [239968/250000 (96%)]\tAverage Train Loss: 0.001349\n",
            "Train Epoch: 23 [124992/250000 (100%)]\tAverage Train Loss: 0.000099\n",
            "\n",
            "Epoch: 23\n",
            "Average Test Loss: 0.0271\n",
            "Test Accuracy: 91.20 %\n",
            "\n",
            "Train Epoch: 24 [47968/250000 (19%)]\tAverage Train Loss: 0.001423\n",
            "Train Epoch: 24 [95968/250000 (38%)]\tAverage Train Loss: 0.002147\n",
            "Train Epoch: 24 [143968/250000 (58%)]\tAverage Train Loss: 0.001416\n",
            "Train Epoch: 24 [191968/250000 (77%)]\tAverage Train Loss: 0.001575\n",
            "Train Epoch: 24 [239968/250000 (96%)]\tAverage Train Loss: 0.001408\n",
            "Train Epoch: 24 [124992/250000 (100%)]\tAverage Train Loss: 0.000221\n",
            "\n",
            "Epoch: 24\n",
            "Average Test Loss: 0.0278\n",
            "Test Accuracy: 91.24 %\n",
            "\n",
            "Train Epoch: 25 [47968/250000 (19%)]\tAverage Train Loss: 0.001678\n",
            "Train Epoch: 25 [95968/250000 (38%)]\tAverage Train Loss: 0.001242\n",
            "Train Epoch: 25 [143968/250000 (58%)]\tAverage Train Loss: 0.000978\n",
            "Train Epoch: 25 [191968/250000 (77%)]\tAverage Train Loss: 0.002427\n",
            "Train Epoch: 25 [239968/250000 (96%)]\tAverage Train Loss: 0.002086\n",
            "Train Epoch: 25 [124992/250000 (100%)]\tAverage Train Loss: 0.000411\n",
            "\n",
            "Epoch: 25\n",
            "Average Test Loss: 0.0273\n",
            "Test Accuracy: 91.10 %\n",
            "\n",
            "Train Epoch: 26 [47968/250000 (19%)]\tAverage Train Loss: 0.001512\n",
            "Train Epoch: 26 [95968/250000 (38%)]\tAverage Train Loss: 0.001297\n",
            "Train Epoch: 26 [143968/250000 (58%)]\tAverage Train Loss: 0.000895\n",
            "Train Epoch: 26 [191968/250000 (77%)]\tAverage Train Loss: 0.001901\n",
            "Train Epoch: 26 [239968/250000 (96%)]\tAverage Train Loss: 0.001556\n",
            "Train Epoch: 26 [124992/250000 (100%)]\tAverage Train Loss: 0.000376\n",
            "\n",
            "Epoch: 26\n",
            "Average Test Loss: 0.0293\n",
            "Test Accuracy: 91.04 %\n",
            "\n",
            "Train Epoch: 27 [47968/250000 (19%)]\tAverage Train Loss: 0.001097\n",
            "Train Epoch: 27 [95968/250000 (38%)]\tAverage Train Loss: 0.001156\n",
            "Train Epoch: 27 [143968/250000 (58%)]\tAverage Train Loss: 0.000980\n",
            "Train Epoch: 27 [191968/250000 (77%)]\tAverage Train Loss: 0.000803\n",
            "Train Epoch: 27 [239968/250000 (96%)]\tAverage Train Loss: 0.001173\n",
            "Train Epoch: 27 [124992/250000 (100%)]\tAverage Train Loss: 0.000069\n",
            "\n",
            "Epoch: 27\n",
            "Average Test Loss: 0.0291\n",
            "Test Accuracy: 91.14 %\n",
            "\n",
            "Train Epoch: 28 [47968/250000 (19%)]\tAverage Train Loss: 0.001332\n",
            "Train Epoch: 28 [95968/250000 (38%)]\tAverage Train Loss: 0.000515\n",
            "Train Epoch: 28 [143968/250000 (58%)]\tAverage Train Loss: 0.001174\n",
            "Train Epoch: 28 [191968/250000 (77%)]\tAverage Train Loss: 0.000712\n",
            "Train Epoch: 28 [239968/250000 (96%)]\tAverage Train Loss: 0.000712\n",
            "Train Epoch: 28 [124992/250000 (100%)]\tAverage Train Loss: 0.000202\n",
            "\n",
            "Epoch: 28\n",
            "Average Test Loss: 0.0288\n",
            "Test Accuracy: 91.13 %\n",
            "\n",
            "Train Epoch: 29 [47968/250000 (19%)]\tAverage Train Loss: 0.000678\n",
            "Train Epoch: 29 [95968/250000 (38%)]\tAverage Train Loss: 0.000898\n",
            "Train Epoch: 29 [143968/250000 (58%)]\tAverage Train Loss: 0.001247\n",
            "Train Epoch: 29 [191968/250000 (77%)]\tAverage Train Loss: 0.000655\n",
            "Train Epoch: 29 [239968/250000 (96%)]\tAverage Train Loss: 0.000606\n",
            "Train Epoch: 29 [124992/250000 (100%)]\tAverage Train Loss: 0.000037\n",
            "\n",
            "Epoch: 29\n",
            "Average Test Loss: 0.0291\n",
            "Test Accuracy: 91.15 %\n",
            "\n",
            "Train Epoch: 30 [47968/250000 (19%)]\tAverage Train Loss: 0.000686\n",
            "Train Epoch: 30 [95968/250000 (38%)]\tAverage Train Loss: 0.000833\n",
            "Train Epoch: 30 [143968/250000 (58%)]\tAverage Train Loss: 0.000893\n",
            "Train Epoch: 30 [191968/250000 (77%)]\tAverage Train Loss: 0.000581\n",
            "Train Epoch: 30 [239968/250000 (96%)]\tAverage Train Loss: 0.000790\n",
            "Train Epoch: 30 [124992/250000 (100%)]\tAverage Train Loss: 0.000034\n",
            "\n",
            "Epoch: 30\n",
            "Average Test Loss: 0.0292\n",
            "Test Accuracy: 91.21 %\n",
            "\n"
          ],
          "name": "stdout"
        }
      ]
    },
    {
      "cell_type": "code",
      "metadata": {
        "id": "eeNlX8dbt5tK"
      },
      "source": [
        ""
      ],
      "execution_count": 14,
      "outputs": []
    }
  ]
}
