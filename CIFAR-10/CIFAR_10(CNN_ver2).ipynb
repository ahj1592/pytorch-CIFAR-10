{
  "nbformat": 4,
  "nbformat_minor": 0,
  "metadata": {
    "colab": {
      "name": "CIFAR-10(CNN_ver2)",
      "provenance": [],
      "collapsed_sections": []
    },
    "kernelspec": {
      "name": "python3",
      "display_name": "Python 3"
    },
    "language_info": {
      "name": "python"
    },
    "widgets": {
      "application/vnd.jupyter.widget-state+json": {
        "0cc5f8240620422dad8a1e4141cbffab": {
          "model_module": "@jupyter-widgets/controls",
          "model_name": "HBoxModel",
          "state": {
            "_view_name": "HBoxView",
            "_dom_classes": [],
            "_model_name": "HBoxModel",
            "_view_module": "@jupyter-widgets/controls",
            "_model_module_version": "1.5.0",
            "_view_count": null,
            "_view_module_version": "1.5.0",
            "box_style": "",
            "layout": "IPY_MODEL_73ff5f10987e4d4e8fa400f4fe07e15c",
            "_model_module": "@jupyter-widgets/controls",
            "children": [
              "IPY_MODEL_66f6b091e7e64186be11e0abac25aa62",
              "IPY_MODEL_39eb7f481e764a6e987439e878356a24"
            ]
          }
        },
        "73ff5f10987e4d4e8fa400f4fe07e15c": {
          "model_module": "@jupyter-widgets/base",
          "model_name": "LayoutModel",
          "state": {
            "_view_name": "LayoutView",
            "grid_template_rows": null,
            "right": null,
            "justify_content": null,
            "_view_module": "@jupyter-widgets/base",
            "overflow": null,
            "_model_module_version": "1.2.0",
            "_view_count": null,
            "flex_flow": null,
            "width": null,
            "min_width": null,
            "border": null,
            "align_items": null,
            "bottom": null,
            "_model_module": "@jupyter-widgets/base",
            "top": null,
            "grid_column": null,
            "overflow_y": null,
            "overflow_x": null,
            "grid_auto_flow": null,
            "grid_area": null,
            "grid_template_columns": null,
            "flex": null,
            "_model_name": "LayoutModel",
            "justify_items": null,
            "grid_row": null,
            "max_height": null,
            "align_content": null,
            "visibility": null,
            "align_self": null,
            "height": null,
            "min_height": null,
            "padding": null,
            "grid_auto_rows": null,
            "grid_gap": null,
            "max_width": null,
            "order": null,
            "_view_module_version": "1.2.0",
            "grid_template_areas": null,
            "object_position": null,
            "object_fit": null,
            "grid_auto_columns": null,
            "margin": null,
            "display": null,
            "left": null
          }
        },
        "66f6b091e7e64186be11e0abac25aa62": {
          "model_module": "@jupyter-widgets/controls",
          "model_name": "FloatProgressModel",
          "state": {
            "_view_name": "ProgressView",
            "style": "IPY_MODEL_1151873a33aa41928d33718818d653ef",
            "_dom_classes": [],
            "description": "",
            "_model_name": "FloatProgressModel",
            "bar_style": "success",
            "max": 170498071,
            "_view_module": "@jupyter-widgets/controls",
            "_model_module_version": "1.5.0",
            "value": 170498071,
            "_view_count": null,
            "_view_module_version": "1.5.0",
            "orientation": "horizontal",
            "min": 0,
            "description_tooltip": null,
            "_model_module": "@jupyter-widgets/controls",
            "layout": "IPY_MODEL_bcdba09024054fac8e4921f132193077"
          }
        },
        "39eb7f481e764a6e987439e878356a24": {
          "model_module": "@jupyter-widgets/controls",
          "model_name": "HTMLModel",
          "state": {
            "_view_name": "HTMLView",
            "style": "IPY_MODEL_9381c209bca84cb3b74d78a24da4347e",
            "_dom_classes": [],
            "description": "",
            "_model_name": "HTMLModel",
            "placeholder": "​",
            "_view_module": "@jupyter-widgets/controls",
            "_model_module_version": "1.5.0",
            "value": " 170499072/? [00:08&lt;00:00, 20941228.99it/s]",
            "_view_count": null,
            "_view_module_version": "1.5.0",
            "description_tooltip": null,
            "_model_module": "@jupyter-widgets/controls",
            "layout": "IPY_MODEL_1db846d8a88043c195afd19ed9046e2e"
          }
        },
        "1151873a33aa41928d33718818d653ef": {
          "model_module": "@jupyter-widgets/controls",
          "model_name": "ProgressStyleModel",
          "state": {
            "_view_name": "StyleView",
            "_model_name": "ProgressStyleModel",
            "description_width": "initial",
            "_view_module": "@jupyter-widgets/base",
            "_model_module_version": "1.5.0",
            "_view_count": null,
            "_view_module_version": "1.2.0",
            "bar_color": null,
            "_model_module": "@jupyter-widgets/controls"
          }
        },
        "bcdba09024054fac8e4921f132193077": {
          "model_module": "@jupyter-widgets/base",
          "model_name": "LayoutModel",
          "state": {
            "_view_name": "LayoutView",
            "grid_template_rows": null,
            "right": null,
            "justify_content": null,
            "_view_module": "@jupyter-widgets/base",
            "overflow": null,
            "_model_module_version": "1.2.0",
            "_view_count": null,
            "flex_flow": null,
            "width": null,
            "min_width": null,
            "border": null,
            "align_items": null,
            "bottom": null,
            "_model_module": "@jupyter-widgets/base",
            "top": null,
            "grid_column": null,
            "overflow_y": null,
            "overflow_x": null,
            "grid_auto_flow": null,
            "grid_area": null,
            "grid_template_columns": null,
            "flex": null,
            "_model_name": "LayoutModel",
            "justify_items": null,
            "grid_row": null,
            "max_height": null,
            "align_content": null,
            "visibility": null,
            "align_self": null,
            "height": null,
            "min_height": null,
            "padding": null,
            "grid_auto_rows": null,
            "grid_gap": null,
            "max_width": null,
            "order": null,
            "_view_module_version": "1.2.0",
            "grid_template_areas": null,
            "object_position": null,
            "object_fit": null,
            "grid_auto_columns": null,
            "margin": null,
            "display": null,
            "left": null
          }
        },
        "9381c209bca84cb3b74d78a24da4347e": {
          "model_module": "@jupyter-widgets/controls",
          "model_name": "DescriptionStyleModel",
          "state": {
            "_view_name": "StyleView",
            "_model_name": "DescriptionStyleModel",
            "description_width": "",
            "_view_module": "@jupyter-widgets/base",
            "_model_module_version": "1.5.0",
            "_view_count": null,
            "_view_module_version": "1.2.0",
            "_model_module": "@jupyter-widgets/controls"
          }
        },
        "1db846d8a88043c195afd19ed9046e2e": {
          "model_module": "@jupyter-widgets/base",
          "model_name": "LayoutModel",
          "state": {
            "_view_name": "LayoutView",
            "grid_template_rows": null,
            "right": null,
            "justify_content": null,
            "_view_module": "@jupyter-widgets/base",
            "overflow": null,
            "_model_module_version": "1.2.0",
            "_view_count": null,
            "flex_flow": null,
            "width": null,
            "min_width": null,
            "border": null,
            "align_items": null,
            "bottom": null,
            "_model_module": "@jupyter-widgets/base",
            "top": null,
            "grid_column": null,
            "overflow_y": null,
            "overflow_x": null,
            "grid_auto_flow": null,
            "grid_area": null,
            "grid_template_columns": null,
            "flex": null,
            "_model_name": "LayoutModel",
            "justify_items": null,
            "grid_row": null,
            "max_height": null,
            "align_content": null,
            "visibility": null,
            "align_self": null,
            "height": null,
            "min_height": null,
            "padding": null,
            "grid_auto_rows": null,
            "grid_gap": null,
            "max_width": null,
            "order": null,
            "_view_module_version": "1.2.0",
            "grid_template_areas": null,
            "object_position": null,
            "object_fit": null,
            "grid_auto_columns": null,
            "margin": null,
            "display": null,
            "left": null
          }
        }
      }
    },
    "accelerator": "GPU"
  },
  "cells": [
    {
      "cell_type": "markdown",
      "metadata": {
        "id": "nkyjSu_V6MEu"
      },
      "source": [
        "# Import requirements"
      ]
    },
    {
      "cell_type": "code",
      "metadata": {
        "colab": {
          "base_uri": "https://localhost:8080/"
        },
        "id": "NFRjq3jxScCr",
        "outputId": "b5e30603-15d0-46bd-bba3-cb5bc5a9f1ad"
      },
      "source": [
        "import os\n",
        "import random\n",
        "import numpy as np\n",
        "from tqdm import tqdm\n",
        "\n",
        "import matplotlib.pyplot as plt\n",
        "import seaborn as sns\n",
        "\n",
        "import torch\n",
        "import torch.nn as nn\n",
        "import torch.nn.functional as F\n",
        "from torchvision import transforms, datasets\n",
        "\n",
        "if torch.cuda.is_available():\n",
        "    DEVICE = torch.device('cuda')\n",
        "else:\n",
        "    DEVICE = torch.device('cpu')\n",
        "print(f'Device: {DEVICE}')"
      ],
      "execution_count": 1,
      "outputs": [
        {
          "output_type": "stream",
          "text": [
            "Device: cuda\n"
          ],
          "name": "stdout"
        }
      ]
    },
    {
      "cell_type": "markdown",
      "metadata": {
        "id": "kO45Icj16BO3"
      },
      "source": [
        "# Data Augmentation Using `transforms`"
      ]
    },
    {
      "cell_type": "code",
      "metadata": {
        "colab": {
          "base_uri": "https://localhost:8080/",
          "height": 99,
          "referenced_widgets": [
            "0cc5f8240620422dad8a1e4141cbffab",
            "73ff5f10987e4d4e8fa400f4fe07e15c",
            "66f6b091e7e64186be11e0abac25aa62",
            "39eb7f481e764a6e987439e878356a24",
            "1151873a33aa41928d33718818d653ef",
            "bcdba09024054fac8e4921f132193077",
            "9381c209bca84cb3b74d78a24da4347e",
            "1db846d8a88043c195afd19ed9046e2e"
          ]
        },
        "id": "AMwtNrQySvYW",
        "outputId": "7df9b2e5-13cb-472c-d909-8025c7fbe6f2"
      },
      "source": [
        "transform_test = transforms.Compose([transforms.Resize((32, 32)),\n",
        "                                  transforms.ToTensor(),\n",
        "                                  transforms.Normalize((0.5, 0.5, 0.5), (0.5, 0.5, 0.5))\n",
        "                                 ])\n",
        "\n",
        "train_dataset = datasets.CIFAR10(root='../data/CIFAR_10',\n",
        "                                 train=True,\n",
        "                                 download=True,)\n",
        "test_dataset = datasets.CIFAR10(root='../data/CIFAR_10',\n",
        "                                train=False,\n",
        "                                transform=transform_test)"
      ],
      "execution_count": 2,
      "outputs": [
        {
          "output_type": "stream",
          "text": [
            "Downloading https://www.cs.toronto.edu/~kriz/cifar-10-python.tar.gz to ../data/CIFAR_10/cifar-10-python.tar.gz\n"
          ],
          "name": "stdout"
        },
        {
          "output_type": "display_data",
          "data": {
            "application/vnd.jupyter.widget-view+json": {
              "model_id": "0cc5f8240620422dad8a1e4141cbffab",
              "version_minor": 0,
              "version_major": 2
            },
            "text/plain": [
              "HBox(children=(FloatProgress(value=0.0, max=170498071.0), HTML(value='')))"
            ]
          },
          "metadata": {
            "tags": []
          }
        },
        {
          "output_type": "stream",
          "text": [
            "\n",
            "Extracting ../data/CIFAR_10/cifar-10-python.tar.gz to ../data/CIFAR_10\n"
          ],
          "name": "stdout"
        }
      ]
    },
    {
      "cell_type": "code",
      "metadata": {
        "colab": {
          "base_uri": "https://localhost:8080/"
        },
        "id": "pOQIgmU6aiAf",
        "outputId": "2aed24d6-135b-423f-a2bc-02358ea6fab1"
      },
      "source": [
        "for (image, label) in train_dataset:\n",
        "    tensor_img = transforms.ToTensor()(image).unsqueeze_(0)\n",
        "    print(tensor_img.shape)\n",
        "    print(label)\n",
        "    break"
      ],
      "execution_count": 3,
      "outputs": [
        {
          "output_type": "stream",
          "text": [
            "torch.Size([1, 3, 32, 32])\n",
            "6\n"
          ],
          "name": "stdout"
        }
      ]
    },
    {
      "cell_type": "code",
      "metadata": {
        "colab": {
          "base_uri": "https://localhost:8080/"
        },
        "id": "8L7P2jqpMSJU",
        "outputId": "6e7d48f3-5ecf-45b7-fb5e-9288f296447d"
      },
      "source": [
        "for (image, label) in train_dataset:\n",
        "    tensor_img = transforms.ToTensor()(image).view(-1, 32, 32)\n",
        "    print(tensor_img.shape)\n",
        "    print(label)\n",
        "    break"
      ],
      "execution_count": 4,
      "outputs": [
        {
          "output_type": "stream",
          "text": [
            "torch.Size([3, 32, 32])\n",
            "6\n"
          ],
          "name": "stdout"
        }
      ]
    },
    {
      "cell_type": "markdown",
      "metadata": {
        "id": "SZgR_FFWNXlr"
      },
      "source": [
        "# Data Augmentation"
      ]
    },
    {
      "cell_type": "code",
      "metadata": {
        "colab": {
          "base_uri": "https://localhost:8080/"
        },
        "id": "phbLVVekbN1P",
        "outputId": "81abecc1-6bf7-4464-b593-f431dd293ca9"
      },
      "source": [
        "train_list = []\n",
        "for (image, label) in tqdm(train_dataset):\n",
        "    img0 = image\n",
        "    img1 = transforms.RandomHorizontalFlip(1)(image)\n",
        "    img2 = transforms.RandomRotation(10)(image)\n",
        "    img3 = transforms.RandomAffine(0, shear=10, scale=(0.8, 1.2))(image)\n",
        "    img4 = transforms.ColorJitter(brightness=0.2, contrast=0.2, saturation=0.2)(image)\n",
        "    imgs = [img0, img1, img2, img3, img4]\n",
        "    \n",
        "    for img in imgs:\n",
        "        img = transforms.ToTensor()(img).view(-1, 32, 32)\n",
        "        img = transforms.Normalize((0.5, 0.5, 0.5), (0.5, 0.5, 0.5))(img)\n",
        "        train_list.append((img, label))\n",
        "\n",
        "print(f'\\n{len(train_list)}')"
      ],
      "execution_count": 5,
      "outputs": [
        {
          "output_type": "stream",
          "text": [
            "100%|██████████| 50000/50000 [01:22<00:00, 602.90it/s]"
          ],
          "name": "stderr"
        },
        {
          "output_type": "stream",
          "text": [
            "\n",
            "250000\n"
          ],
          "name": "stdout"
        },
        {
          "output_type": "stream",
          "text": [
            "\n"
          ],
          "name": "stderr"
        }
      ]
    },
    {
      "cell_type": "code",
      "metadata": {
        "colab": {
          "base_uri": "https://localhost:8080/"
        },
        "id": "Q0_MRtU6MwFH",
        "outputId": "10b2f1e7-4f33-47a6-95a6-2486920247b4"
      },
      "source": [
        "image = train_list[0][0]\n",
        "print(image.shape)"
      ],
      "execution_count": 6,
      "outputs": [
        {
          "output_type": "stream",
          "text": [
            "torch.Size([3, 32, 32])\n"
          ],
          "name": "stdout"
        }
      ]
    },
    {
      "cell_type": "markdown",
      "metadata": {
        "id": "eV9JvO0ALeY9"
      },
      "source": [
        "# Define Custom Dataset"
      ]
    },
    {
      "cell_type": "code",
      "metadata": {
        "id": "kaHiVIKVeZ0j"
      },
      "source": [
        "class MyDataset(torch.utils.data.Dataset):\n",
        "    def __init__(self, data_list):\n",
        "        self.data = data_list\n",
        "    \n",
        "    def __len__(self):\n",
        "        # size is same as length of list\n",
        "        return len(self.data)\n",
        "\n",
        "    def __getitem__(self, idx):\n",
        "        # reshape tensor as (3, 32, 32)\n",
        "        image = self.data[idx][0] #.view(3, 32, 32) \n",
        "        label = self.data[idx][1]\n",
        "        return image, label\n",
        "\n",
        "train_dataset = MyDataset(train_list)"
      ],
      "execution_count": 7,
      "outputs": []
    },
    {
      "cell_type": "code",
      "metadata": {
        "colab": {
          "base_uri": "https://localhost:8080/"
        },
        "id": "JOpbBy82MjP1",
        "outputId": "52ae53bc-7c9f-417d-88c0-ff1b8599b88e"
      },
      "source": [
        "for image, label in train_dataset:\n",
        "    print(image.shape)\n",
        "    break"
      ],
      "execution_count": 8,
      "outputs": [
        {
          "output_type": "stream",
          "text": [
            "torch.Size([3, 32, 32])\n"
          ],
          "name": "stdout"
        }
      ]
    },
    {
      "cell_type": "markdown",
      "metadata": {
        "id": "RAnwnQsgLbGp"
      },
      "source": [
        "# Define DataLoader"
      ]
    },
    {
      "cell_type": "code",
      "metadata": {
        "id": "R3m3hj9nUcio"
      },
      "source": [
        "BATCH_SIZE = 32\n",
        "\n",
        "train_loader = torch.utils.data.DataLoader(\n",
        "    dataset=train_dataset, \n",
        "    batch_size=BATCH_SIZE,\n",
        "    shuffle=True\n",
        ")\n",
        "\n",
        "test_loader = torch.utils.data.DataLoader(\n",
        "    dataset=test_dataset,\n",
        "    batch_size=BATCH_SIZE,\n",
        "    shuffle=False,\n",
        ")"
      ],
      "execution_count": 9,
      "outputs": []
    },
    {
      "cell_type": "markdown",
      "metadata": {
        "id": "Gg37zH3Z6VxK"
      },
      "source": [
        "# Define the Convolution Neural Network (CNN)"
      ]
    },
    {
      "cell_type": "code",
      "metadata": {
        "id": "k3jcHCcA_0lb"
      },
      "source": [
        "class ConvNet(nn.Module):\n",
        "    # similar with VGG-16\n",
        "    def __init__(self):\n",
        "        super(ConvNet, self).__init__()\n",
        "        # input shape = (32, 32)\n",
        "        self.conv = nn.Sequential(\n",
        "            nn.Conv2d(3, 64, 3, padding=1, bias=False), # (32, 32)\n",
        "            nn.BatchNorm2d(64),\n",
        "            nn.ReLU(),\n",
        "            nn.Conv2d(64, 64, 3, padding=1, bias=False), # (32, 32)\n",
        "            nn.BatchNorm2d(64),\n",
        "            nn.ReLU(),\n",
        "            nn.MaxPool2d(2, 2), # (16, 16)\n",
        "            \n",
        "            nn.Conv2d(64, 128, 3, padding=1, bias=False), # (16, 16)\n",
        "            nn.BatchNorm2d(128),\n",
        "            nn.ReLU(),\n",
        "            nn.Conv2d(128, 128, 3, padding=1, bias=False), # (16, 16)\n",
        "            nn.BatchNorm2d(128),\n",
        "            nn.ReLU(),\n",
        "            nn.MaxPool2d(2, 2), # (8, 8)\n",
        "            \n",
        "            nn.Conv2d(128, 256, 3, padding=1, bias=False), # (8, 8)\n",
        "            nn.BatchNorm2d(256),\n",
        "            nn.ReLU(),\n",
        "            nn.Conv2d(256, 256, 3, padding=1, bias=False), # (8, 8)\n",
        "            nn.BatchNorm2d(256),\n",
        "            nn.ReLU(),\n",
        "            nn.Conv2d(256, 256, 3, padding=1, bias=False), # (8, 8)\n",
        "            nn.BatchNorm2d(256),\n",
        "            nn.ReLU(),\n",
        "            nn.MaxPool2d(2, 2), # (4, 4)\n",
        "\n",
        "            nn.Conv2d(256, 512, 3, padding=1, bias=False), # (4, 4)\n",
        "            nn.BatchNorm2d(512),\n",
        "            nn.ReLU(),\n",
        "            nn.Conv2d(512, 512, 3, padding=1, bias=False), # (4, 4)\n",
        "            nn.BatchNorm2d(512),\n",
        "            nn.ReLU(),\n",
        "            nn.Conv2d(512, 512, 3, padding=1, bias=False), # (4, 4)\n",
        "            nn.BatchNorm2d(512),\n",
        "            nn.ReLU(),\n",
        "            nn.MaxPool2d(2, 2), # (2, 2)\n",
        "\n",
        "            # nn.Conv2d(512, 512, 3, padding=1, bias=False), # (2, 2)\n",
        "            # nn.BatchNorm2d(512),\n",
        "            # nn.ReLU(),\n",
        "            # nn.Conv2d(512, 512, 3, padding=1, bias=False), # (4, 4)\n",
        "            # nn.BatchNorm2d(512),\n",
        "            # nn.ReLU(),\n",
        "            # nn.Conv2d(512, 512, 3, padding=1, bias=False), # (4, 4)\n",
        "            # nn.BatchNorm2d(512),\n",
        "            # nn.ReLU(),\n",
        "            # nn.MaxPool2d(2, 2), # (1, 1)\n",
        "            \n",
        "        )\n",
        "\n",
        "\n",
        "        self.clssify = nn.Sequential(\n",
        "            nn.Linear(2*2*512, 256),\n",
        "            nn.ReLU(),\n",
        "            nn.Dropout(0.2),\n",
        "            nn.Linear(256, 128),\n",
        "            nn.ReLU(),\n",
        "            nn.Dropout(0.2),\n",
        "            nn.Linear(128, 10),\n",
        "            nn.LogSoftmax(dim=1),\n",
        "        )\n",
        "\n",
        "    def forward(self, x):\n",
        "        x = self.conv(x)\n",
        "        x = x.view(-1, 2*2*512)\n",
        "        x = self.clssify(x)\n",
        "        return x"
      ],
      "execution_count": 10,
      "outputs": []
    },
    {
      "cell_type": "markdown",
      "metadata": {
        "id": "Durloa9S6hPO"
      },
      "source": [
        "# Define the train, evaluation"
      ]
    },
    {
      "cell_type": "code",
      "metadata": {
        "id": "ouAyIUJ9Wt5a"
      },
      "source": [
        "def train(model, train_loader, optimizer, log_interval):\n",
        "    model.train()\n",
        "    train_loss = 0\n",
        "    correct = 0\n",
        "\n",
        "    for batch_idx, (image, label) in enumerate(train_loader):\n",
        "        image = image.to(DEVICE)\n",
        "        label = label.to(DEVICE)\n",
        "        optimizer.zero_grad()\n",
        "        output = model(image)\n",
        "        loss = criterion(output, label)\n",
        "        train_loss += loss.item()\n",
        "        loss.backward()\n",
        "        optimizer.step()\n",
        "\n",
        "        if (batch_idx + 1) % log_interval == 0 or (batch_idx + 1) == len(train_loader):\n",
        "            pct = 100 * batch_idx / len(train_loader) # percent\n",
        "            train_loss /= log_interval\n",
        "            print(f'Train Epoch: {Epoch} [{batch_idx * len(image)}/{len(train_loader.dataset)} ({pct:.0f}%)]\\tAverage Train Loss: {train_loss:.6f}')\n",
        "            train_loss = 0\n",
        "\n",
        "\n",
        "def evaluate(model, test_loader):\n",
        "    model.eval()\n",
        "    test_loss = 0\n",
        "    correct = 0\n",
        "\n",
        "    with torch.no_grad():\n",
        "        for image, label in test_loader:\n",
        "            image = image.to(DEVICE)\n",
        "            label = label.to(DEVICE)\n",
        "            output = model(image)\n",
        "            test_loss += criterion(output, label).item()\n",
        "            pred = output.argmax(dim=1, keepdim=True)\n",
        "            correct += pred.eq(label.view_as(pred)).sum().item()\n",
        "    test_loss /= len(test_loader.dataset)\n",
        "    test_accuracy = 100 * correct / len(test_loader.dataset)\n",
        "\n",
        "    return test_loss, test_accuracy"
      ],
      "execution_count": 11,
      "outputs": []
    },
    {
      "cell_type": "markdown",
      "metadata": {
        "id": "xrjIlYb16ltY"
      },
      "source": [
        "# set seeds"
      ]
    },
    {
      "cell_type": "code",
      "metadata": {
        "id": "eG7t0-5vMzyi"
      },
      "source": [
        "def fix_seeds(seed = 42, use_torch=False):\n",
        "    # fix the seed for reproducibility \n",
        "    os.environ['PYTHONHASHSEED'] = str(seed)\n",
        "    random.seed(seed)\n",
        "    np.random.seed(seed)\n",
        "\n",
        "    if use_torch: \n",
        "        torch.manual_seed(seed) \n",
        "        torch.cuda.manual_seed(seed)\n",
        "        torch.backends.cudnn.deterministic = True"
      ],
      "execution_count": 12,
      "outputs": []
    },
    {
      "cell_type": "markdown",
      "metadata": {
        "id": "s1aOKVvtM7SV"
      },
      "source": [
        "# initialize the weights"
      ]
    },
    {
      "cell_type": "code",
      "metadata": {
        "id": "h7bduOeURG9-"
      },
      "source": [
        "def init_weights(m):\n",
        "    # initialize the weight, bias\n",
        "    if isinstance(m, nn.Conv2d):\n",
        "        torch.nn.init.kaiming_uniform_(m.weight.data)\n",
        "        if m.bias is not None:\n",
        "            torch.nn.init.normal_(m.bias.data)\n",
        "    elif isinstance(m, nn.BatchNorm2d):\n",
        "        torch.nn.init.normal_(m.weight.data, mean=1, std=0.02)\n",
        "        torch.nn.init.constant_(m.bias.data, 0)\n",
        "    elif isinstance(m, nn.Linear):\n",
        "        torch.nn.init.kaiming_uniform_(m.weight.data)\n",
        "        torch.nn.init.normal_(m.bias.data)"
      ],
      "execution_count": 13,
      "outputs": []
    },
    {
      "cell_type": "markdown",
      "metadata": {
        "id": "bJ_GaCMiM_A0"
      },
      "source": [
        "# Train & Test the model"
      ]
    },
    {
      "cell_type": "code",
      "metadata": {
        "colab": {
          "base_uri": "https://localhost:8080/"
        },
        "id": "zvfG337EbK51",
        "outputId": "d3055a82-4a67-4a00-8669-a2b9c2e14333"
      },
      "source": [
        "SEED = 42\n",
        "EPOCHS = 50\n",
        "\n",
        "fix_seeds(seed=SEED, use_torch=True)\n",
        "model = ConvNet().to(device=DEVICE)\n",
        "model.apply(init_weights)\n",
        "optimizer = torch.optim.Adam(model.parameters(), lr=0.001)\n",
        "criterion = nn.CrossEntropyLoss()\n",
        "\n",
        "\n",
        "for Epoch in range(1, EPOCHS + 1):\n",
        "    train(model, train_loader, optimizer, log_interval=1500)\n",
        "    test_loss, test_acc = evaluate(model, test_loader)\n",
        "    print(f'\\nEpoch: {Epoch}')\n",
        "    print(f'Average Test Loss: {test_loss:.4f}')\n",
        "    print(f'Test Accuracy: {test_acc:.2f} %\\n')\n",
        "    torch.save(model, f'./models/model_{Epoch:02d}.pt')"
      ],
      "execution_count": 14,
      "outputs": [
        {
          "output_type": "stream",
          "text": [
            "/usr/local/lib/python3.7/dist-packages/torch/nn/functional.py:718: UserWarning: Named tensors and all their associated APIs are an experimental feature and subject to change. Please do not use them for anything important until they are released as stable. (Triggered internally at  /pytorch/c10/core/TensorImpl.h:1156.)\n",
            "  return torch.max_pool2d(input, kernel_size, stride, padding, dilation, ceil_mode)\n"
          ],
          "name": "stderr"
        },
        {
          "output_type": "stream",
          "text": [
            "Train Epoch: 1 [47968/250000 (19%)]\tAverage Train Loss: 1.860555\n",
            "Train Epoch: 1 [95968/250000 (38%)]\tAverage Train Loss: 1.334167\n",
            "Train Epoch: 1 [143968/250000 (58%)]\tAverage Train Loss: 1.069301\n",
            "Train Epoch: 1 [191968/250000 (77%)]\tAverage Train Loss: 0.893304\n",
            "Train Epoch: 1 [239968/250000 (96%)]\tAverage Train Loss: 0.785951\n",
            "Train Epoch: 1 [124992/250000 (100%)]\tAverage Train Loss: 0.152700\n",
            "\n",
            "Epoch: 1\n",
            "Average Test Loss: 0.0209\n",
            "Test Accuracy: 77.91 %\n",
            "\n",
            "Train Epoch: 2 [47968/250000 (19%)]\tAverage Train Loss: 0.660165\n",
            "Train Epoch: 2 [95968/250000 (38%)]\tAverage Train Loss: 0.603547\n",
            "Train Epoch: 2 [143968/250000 (58%)]\tAverage Train Loss: 0.557480\n",
            "Train Epoch: 2 [191968/250000 (77%)]\tAverage Train Loss: 0.495541\n",
            "Train Epoch: 2 [239968/250000 (96%)]\tAverage Train Loss: 0.475202\n",
            "Train Epoch: 2 [124992/250000 (100%)]\tAverage Train Loss: 0.091522\n",
            "\n",
            "Epoch: 2\n",
            "Average Test Loss: 0.0149\n",
            "Test Accuracy: 84.02 %\n",
            "\n",
            "Train Epoch: 3 [47968/250000 (19%)]\tAverage Train Loss: 0.390544\n",
            "Train Epoch: 3 [95968/250000 (38%)]\tAverage Train Loss: 0.368578\n",
            "Train Epoch: 3 [143968/250000 (58%)]\tAverage Train Loss: 0.346019\n",
            "Train Epoch: 3 [191968/250000 (77%)]\tAverage Train Loss: 0.338414\n",
            "Train Epoch: 3 [239968/250000 (96%)]\tAverage Train Loss: 0.314972\n",
            "Train Epoch: 3 [124992/250000 (100%)]\tAverage Train Loss: 0.067772\n",
            "\n",
            "Epoch: 3\n",
            "Average Test Loss: 0.0123\n",
            "Test Accuracy: 87.27 %\n",
            "\n",
            "Train Epoch: 4 [47968/250000 (19%)]\tAverage Train Loss: 0.253326\n",
            "Train Epoch: 4 [95968/250000 (38%)]\tAverage Train Loss: 0.250653\n",
            "Train Epoch: 4 [143968/250000 (58%)]\tAverage Train Loss: 0.240128\n",
            "Train Epoch: 4 [191968/250000 (77%)]\tAverage Train Loss: 0.229131\n",
            "Train Epoch: 4 [239968/250000 (96%)]\tAverage Train Loss: 0.217450\n",
            "Train Epoch: 4 [124992/250000 (100%)]\tAverage Train Loss: 0.048736\n",
            "\n",
            "Epoch: 4\n",
            "Average Test Loss: 0.0115\n",
            "Test Accuracy: 88.52 %\n",
            "\n",
            "Train Epoch: 5 [47968/250000 (19%)]\tAverage Train Loss: 0.173345\n",
            "Train Epoch: 5 [95968/250000 (38%)]\tAverage Train Loss: 0.176119\n",
            "Train Epoch: 5 [143968/250000 (58%)]\tAverage Train Loss: 0.169598\n",
            "Train Epoch: 5 [191968/250000 (77%)]\tAverage Train Loss: 0.167992\n",
            "Train Epoch: 5 [239968/250000 (96%)]\tAverage Train Loss: 0.165994\n",
            "Train Epoch: 5 [124992/250000 (100%)]\tAverage Train Loss: 0.035096\n",
            "\n",
            "Epoch: 5\n",
            "Average Test Loss: 0.0132\n",
            "Test Accuracy: 88.63 %\n",
            "\n",
            "Train Epoch: 6 [47968/250000 (19%)]\tAverage Train Loss: 0.126675\n",
            "Train Epoch: 6 [95968/250000 (38%)]\tAverage Train Loss: 0.131421\n",
            "Train Epoch: 6 [143968/250000 (58%)]\tAverage Train Loss: 0.123779\n",
            "Train Epoch: 6 [191968/250000 (77%)]\tAverage Train Loss: 0.124868\n",
            "Train Epoch: 6 [239968/250000 (96%)]\tAverage Train Loss: 0.127426\n",
            "Train Epoch: 6 [124992/250000 (100%)]\tAverage Train Loss: 0.028880\n",
            "\n",
            "Epoch: 6\n",
            "Average Test Loss: 0.0138\n",
            "Test Accuracy: 88.57 %\n",
            "\n",
            "Train Epoch: 7 [47968/250000 (19%)]\tAverage Train Loss: 0.096823\n",
            "Train Epoch: 7 [95968/250000 (38%)]\tAverage Train Loss: 0.100960\n",
            "Train Epoch: 7 [143968/250000 (58%)]\tAverage Train Loss: 0.103570\n",
            "Train Epoch: 7 [191968/250000 (77%)]\tAverage Train Loss: 0.100106\n",
            "Train Epoch: 7 [239968/250000 (96%)]\tAverage Train Loss: 0.101500\n",
            "Train Epoch: 7 [124992/250000 (100%)]\tAverage Train Loss: 0.021464\n",
            "\n",
            "Epoch: 7\n",
            "Average Test Loss: 0.0121\n",
            "Test Accuracy: 89.74 %\n",
            "\n",
            "Train Epoch: 8 [47968/250000 (19%)]\tAverage Train Loss: 0.075736\n",
            "Train Epoch: 8 [95968/250000 (38%)]\tAverage Train Loss: 0.087656\n",
            "Train Epoch: 8 [143968/250000 (58%)]\tAverage Train Loss: 0.078022\n",
            "Train Epoch: 8 [191968/250000 (77%)]\tAverage Train Loss: 0.087524\n",
            "Train Epoch: 8 [239968/250000 (96%)]\tAverage Train Loss: 0.082941\n",
            "Train Epoch: 8 [124992/250000 (100%)]\tAverage Train Loss: 0.015846\n",
            "\n",
            "Epoch: 8\n",
            "Average Test Loss: 0.0141\n",
            "Test Accuracy: 88.80 %\n",
            "\n",
            "Train Epoch: 9 [47968/250000 (19%)]\tAverage Train Loss: 0.065775\n",
            "Train Epoch: 9 [95968/250000 (38%)]\tAverage Train Loss: 0.073761\n",
            "Train Epoch: 9 [143968/250000 (58%)]\tAverage Train Loss: 0.072866\n",
            "Train Epoch: 9 [191968/250000 (77%)]\tAverage Train Loss: 0.071864\n",
            "Train Epoch: 9 [239968/250000 (96%)]\tAverage Train Loss: 0.071683\n",
            "Train Epoch: 9 [124992/250000 (100%)]\tAverage Train Loss: 0.014613\n",
            "\n",
            "Epoch: 9\n",
            "Average Test Loss: 0.0152\n",
            "Test Accuracy: 88.54 %\n",
            "\n",
            "Train Epoch: 10 [47968/250000 (19%)]\tAverage Train Loss: 0.059434\n",
            "Train Epoch: 10 [95968/250000 (38%)]\tAverage Train Loss: 0.058340\n",
            "Train Epoch: 10 [143968/250000 (58%)]\tAverage Train Loss: 0.064420\n",
            "Train Epoch: 10 [191968/250000 (77%)]\tAverage Train Loss: 0.062732\n",
            "Train Epoch: 10 [239968/250000 (96%)]\tAverage Train Loss: 0.061236\n",
            "Train Epoch: 10 [124992/250000 (100%)]\tAverage Train Loss: 0.013971\n",
            "\n",
            "Epoch: 10\n",
            "Average Test Loss: 0.0153\n",
            "Test Accuracy: 88.99 %\n",
            "\n",
            "Train Epoch: 11 [47968/250000 (19%)]\tAverage Train Loss: 0.049295\n",
            "Train Epoch: 11 [95968/250000 (38%)]\tAverage Train Loss: 0.050995\n",
            "Train Epoch: 11 [143968/250000 (58%)]\tAverage Train Loss: 0.053891\n",
            "Train Epoch: 11 [191968/250000 (77%)]\tAverage Train Loss: 0.057128\n",
            "Train Epoch: 11 [239968/250000 (96%)]\tAverage Train Loss: 0.057261\n",
            "Train Epoch: 11 [124992/250000 (100%)]\tAverage Train Loss: 0.013655\n",
            "\n",
            "Epoch: 11\n",
            "Average Test Loss: 0.0175\n",
            "Test Accuracy: 88.52 %\n",
            "\n",
            "Train Epoch: 12 [47968/250000 (19%)]\tAverage Train Loss: 0.044970\n",
            "Train Epoch: 12 [95968/250000 (38%)]\tAverage Train Loss: 0.047981\n",
            "Train Epoch: 12 [143968/250000 (58%)]\tAverage Train Loss: 0.050275\n",
            "Train Epoch: 12 [191968/250000 (77%)]\tAverage Train Loss: 0.057960\n",
            "Train Epoch: 12 [239968/250000 (96%)]\tAverage Train Loss: 0.048869\n",
            "Train Epoch: 12 [124992/250000 (100%)]\tAverage Train Loss: 0.008917\n",
            "\n",
            "Epoch: 12\n",
            "Average Test Loss: 0.0165\n",
            "Test Accuracy: 89.58 %\n",
            "\n",
            "Train Epoch: 13 [47968/250000 (19%)]\tAverage Train Loss: 0.042567\n",
            "Train Epoch: 13 [95968/250000 (38%)]\tAverage Train Loss: 0.040457\n",
            "Train Epoch: 13 [143968/250000 (58%)]\tAverage Train Loss: 0.045204\n",
            "Train Epoch: 13 [191968/250000 (77%)]\tAverage Train Loss: 0.053935\n",
            "Train Epoch: 13 [239968/250000 (96%)]\tAverage Train Loss: 0.042947\n",
            "Train Epoch: 13 [124992/250000 (100%)]\tAverage Train Loss: 0.020081\n",
            "\n",
            "Epoch: 13\n",
            "Average Test Loss: 0.0147\n",
            "Test Accuracy: 88.93 %\n",
            "\n",
            "Train Epoch: 14 [47968/250000 (19%)]\tAverage Train Loss: 0.033289\n",
            "Train Epoch: 14 [95968/250000 (38%)]\tAverage Train Loss: 0.036283\n",
            "Train Epoch: 14 [143968/250000 (58%)]\tAverage Train Loss: 0.043648\n",
            "Train Epoch: 14 [191968/250000 (77%)]\tAverage Train Loss: 0.041945\n",
            "Train Epoch: 14 [239968/250000 (96%)]\tAverage Train Loss: 0.041603\n",
            "Train Epoch: 14 [124992/250000 (100%)]\tAverage Train Loss: 0.008264\n",
            "\n",
            "Epoch: 14\n",
            "Average Test Loss: 0.0154\n",
            "Test Accuracy: 89.63 %\n",
            "\n",
            "Train Epoch: 15 [47968/250000 (19%)]\tAverage Train Loss: 0.034664\n",
            "Train Epoch: 15 [95968/250000 (38%)]\tAverage Train Loss: 0.039811\n",
            "Train Epoch: 15 [143968/250000 (58%)]\tAverage Train Loss: 0.041821\n",
            "Train Epoch: 15 [191968/250000 (77%)]\tAverage Train Loss: 0.038713\n",
            "Train Epoch: 15 [239968/250000 (96%)]\tAverage Train Loss: 0.040112\n",
            "Train Epoch: 15 [124992/250000 (100%)]\tAverage Train Loss: 0.008131\n",
            "\n",
            "Epoch: 15\n",
            "Average Test Loss: 0.0165\n",
            "Test Accuracy: 89.91 %\n",
            "\n",
            "Train Epoch: 16 [47968/250000 (19%)]\tAverage Train Loss: 0.038331\n",
            "Train Epoch: 16 [95968/250000 (38%)]\tAverage Train Loss: 0.036104\n",
            "Train Epoch: 16 [143968/250000 (58%)]\tAverage Train Loss: 0.035122\n",
            "Train Epoch: 16 [191968/250000 (77%)]\tAverage Train Loss: 0.039170\n",
            "Train Epoch: 16 [239968/250000 (96%)]\tAverage Train Loss: 0.040015\n",
            "Train Epoch: 16 [124992/250000 (100%)]\tAverage Train Loss: 0.009627\n",
            "\n",
            "Epoch: 16\n",
            "Average Test Loss: 0.0158\n",
            "Test Accuracy: 89.76 %\n",
            "\n",
            "Train Epoch: 17 [47968/250000 (19%)]\tAverage Train Loss: 0.030534\n",
            "Train Epoch: 17 [95968/250000 (38%)]\tAverage Train Loss: 0.038413\n",
            "Train Epoch: 17 [143968/250000 (58%)]\tAverage Train Loss: 0.032697\n",
            "Train Epoch: 17 [191968/250000 (77%)]\tAverage Train Loss: 0.034295\n",
            "Train Epoch: 17 [239968/250000 (96%)]\tAverage Train Loss: 0.036191\n",
            "Train Epoch: 17 [124992/250000 (100%)]\tAverage Train Loss: 0.008161\n",
            "\n",
            "Epoch: 17\n",
            "Average Test Loss: 0.0175\n",
            "Test Accuracy: 89.44 %\n",
            "\n",
            "Train Epoch: 18 [47968/250000 (19%)]\tAverage Train Loss: 0.031995\n",
            "Train Epoch: 18 [95968/250000 (38%)]\tAverage Train Loss: 0.034032\n",
            "Train Epoch: 18 [143968/250000 (58%)]\tAverage Train Loss: 0.030093\n",
            "Train Epoch: 18 [191968/250000 (77%)]\tAverage Train Loss: 0.034394\n",
            "Train Epoch: 18 [239968/250000 (96%)]\tAverage Train Loss: 0.034794\n",
            "Train Epoch: 18 [124992/250000 (100%)]\tAverage Train Loss: 0.008353\n",
            "\n",
            "Epoch: 18\n",
            "Average Test Loss: 0.0175\n",
            "Test Accuracy: 89.16 %\n",
            "\n",
            "Train Epoch: 19 [47968/250000 (19%)]\tAverage Train Loss: 0.026009\n",
            "Train Epoch: 19 [95968/250000 (38%)]\tAverage Train Loss: 0.033186\n",
            "Train Epoch: 19 [143968/250000 (58%)]\tAverage Train Loss: 0.029076\n",
            "Train Epoch: 19 [191968/250000 (77%)]\tAverage Train Loss: 0.036108\n",
            "Train Epoch: 19 [239968/250000 (96%)]\tAverage Train Loss: 0.033075\n",
            "Train Epoch: 19 [124992/250000 (100%)]\tAverage Train Loss: 0.004317\n",
            "\n",
            "Epoch: 19\n",
            "Average Test Loss: 0.0214\n",
            "Test Accuracy: 89.75 %\n",
            "\n",
            "Train Epoch: 20 [47968/250000 (19%)]\tAverage Train Loss: 0.026578\n",
            "Train Epoch: 20 [95968/250000 (38%)]\tAverage Train Loss: 0.036232\n",
            "Train Epoch: 20 [143968/250000 (58%)]\tAverage Train Loss: 0.026013\n",
            "Train Epoch: 20 [191968/250000 (77%)]\tAverage Train Loss: 0.030955\n",
            "Train Epoch: 20 [239968/250000 (96%)]\tAverage Train Loss: 0.032550\n",
            "Train Epoch: 20 [124992/250000 (100%)]\tAverage Train Loss: 0.005561\n",
            "\n",
            "Epoch: 20\n",
            "Average Test Loss: 0.0175\n",
            "Test Accuracy: 90.33 %\n",
            "\n",
            "Train Epoch: 21 [47968/250000 (19%)]\tAverage Train Loss: 0.023813\n",
            "Train Epoch: 21 [95968/250000 (38%)]\tAverage Train Loss: 0.029376\n",
            "Train Epoch: 21 [143968/250000 (58%)]\tAverage Train Loss: 0.033552\n",
            "Train Epoch: 21 [191968/250000 (77%)]\tAverage Train Loss: 0.028732\n",
            "Train Epoch: 21 [239968/250000 (96%)]\tAverage Train Loss: 0.033375\n",
            "Train Epoch: 21 [124992/250000 (100%)]\tAverage Train Loss: 0.005142\n",
            "\n",
            "Epoch: 21\n",
            "Average Test Loss: 0.0175\n",
            "Test Accuracy: 90.19 %\n",
            "\n",
            "Train Epoch: 22 [47968/250000 (19%)]\tAverage Train Loss: 0.032663\n",
            "Train Epoch: 22 [95968/250000 (38%)]\tAverage Train Loss: 0.026069\n",
            "Train Epoch: 22 [143968/250000 (58%)]\tAverage Train Loss: 0.026761\n",
            "Train Epoch: 22 [191968/250000 (77%)]\tAverage Train Loss: 0.030596\n",
            "Train Epoch: 22 [239968/250000 (96%)]\tAverage Train Loss: 0.028285\n",
            "Train Epoch: 22 [124992/250000 (100%)]\tAverage Train Loss: 0.006306\n",
            "\n",
            "Epoch: 22\n",
            "Average Test Loss: 0.0197\n",
            "Test Accuracy: 90.18 %\n",
            "\n",
            "Train Epoch: 23 [47968/250000 (19%)]\tAverage Train Loss: 0.024345\n",
            "Train Epoch: 23 [95968/250000 (38%)]\tAverage Train Loss: 0.037980\n",
            "Train Epoch: 23 [143968/250000 (58%)]\tAverage Train Loss: 0.025365\n",
            "Train Epoch: 23 [191968/250000 (77%)]\tAverage Train Loss: 0.022989\n",
            "Train Epoch: 23 [239968/250000 (96%)]\tAverage Train Loss: 0.026925\n",
            "Train Epoch: 23 [124992/250000 (100%)]\tAverage Train Loss: 0.005661\n",
            "\n",
            "Epoch: 23\n",
            "Average Test Loss: 0.0179\n",
            "Test Accuracy: 90.04 %\n",
            "\n",
            "Train Epoch: 24 [47968/250000 (19%)]\tAverage Train Loss: 0.022050\n",
            "Train Epoch: 24 [95968/250000 (38%)]\tAverage Train Loss: 0.027028\n",
            "Train Epoch: 24 [143968/250000 (58%)]\tAverage Train Loss: 0.023534\n",
            "Train Epoch: 24 [191968/250000 (77%)]\tAverage Train Loss: 0.031173\n",
            "Train Epoch: 24 [239968/250000 (96%)]\tAverage Train Loss: 0.028791\n",
            "Train Epoch: 24 [124992/250000 (100%)]\tAverage Train Loss: 0.006112\n",
            "\n",
            "Epoch: 24\n",
            "Average Test Loss: 0.0179\n",
            "Test Accuracy: 89.95 %\n",
            "\n",
            "Train Epoch: 25 [47968/250000 (19%)]\tAverage Train Loss: 0.020725\n",
            "Train Epoch: 25 [95968/250000 (38%)]\tAverage Train Loss: 0.024494\n",
            "Train Epoch: 25 [143968/250000 (58%)]\tAverage Train Loss: 0.025352\n",
            "Train Epoch: 25 [191968/250000 (77%)]\tAverage Train Loss: 0.028855\n",
            "Train Epoch: 25 [239968/250000 (96%)]\tAverage Train Loss: 0.024610\n",
            "Train Epoch: 25 [124992/250000 (100%)]\tAverage Train Loss: 0.004421\n",
            "\n",
            "Epoch: 25\n",
            "Average Test Loss: 0.0217\n",
            "Test Accuracy: 90.00 %\n",
            "\n",
            "Train Epoch: 26 [47968/250000 (19%)]\tAverage Train Loss: 0.021115\n",
            "Train Epoch: 26 [95968/250000 (38%)]\tAverage Train Loss: 0.021908\n",
            "Train Epoch: 26 [143968/250000 (58%)]\tAverage Train Loss: 0.019380\n",
            "Train Epoch: 26 [191968/250000 (77%)]\tAverage Train Loss: 0.036402\n",
            "Train Epoch: 26 [239968/250000 (96%)]\tAverage Train Loss: 0.028236\n",
            "Train Epoch: 26 [124992/250000 (100%)]\tAverage Train Loss: 0.003076\n",
            "\n",
            "Epoch: 26\n",
            "Average Test Loss: 0.0194\n",
            "Test Accuracy: 89.97 %\n",
            "\n",
            "Train Epoch: 27 [47968/250000 (19%)]\tAverage Train Loss: 0.020749\n",
            "Train Epoch: 27 [95968/250000 (38%)]\tAverage Train Loss: 0.033316\n",
            "Train Epoch: 27 [143968/250000 (58%)]\tAverage Train Loss: 0.023120\n",
            "Train Epoch: 27 [191968/250000 (77%)]\tAverage Train Loss: 0.021359\n",
            "Train Epoch: 27 [239968/250000 (96%)]\tAverage Train Loss: 0.027346\n",
            "Train Epoch: 27 [124992/250000 (100%)]\tAverage Train Loss: 0.006083\n",
            "\n",
            "Epoch: 27\n",
            "Average Test Loss: 0.0176\n",
            "Test Accuracy: 89.77 %\n",
            "\n",
            "Train Epoch: 28 [47968/250000 (19%)]\tAverage Train Loss: 0.027379\n",
            "Train Epoch: 28 [95968/250000 (38%)]\tAverage Train Loss: 0.022592\n",
            "Train Epoch: 28 [143968/250000 (58%)]\tAverage Train Loss: 0.025804\n",
            "Train Epoch: 28 [191968/250000 (77%)]\tAverage Train Loss: 0.017495\n",
            "Train Epoch: 28 [239968/250000 (96%)]\tAverage Train Loss: 0.032281\n",
            "Train Epoch: 28 [124992/250000 (100%)]\tAverage Train Loss: 0.008923\n",
            "\n",
            "Epoch: 28\n",
            "Average Test Loss: 0.0185\n",
            "Test Accuracy: 89.87 %\n",
            "\n",
            "Train Epoch: 29 [47968/250000 (19%)]\tAverage Train Loss: 0.021615\n",
            "Train Epoch: 29 [95968/250000 (38%)]\tAverage Train Loss: 0.020035\n",
            "Train Epoch: 29 [143968/250000 (58%)]\tAverage Train Loss: 0.044006\n",
            "Train Epoch: 29 [191968/250000 (77%)]\tAverage Train Loss: 0.018050\n",
            "Train Epoch: 29 [239968/250000 (96%)]\tAverage Train Loss: 0.018384\n",
            "Train Epoch: 29 [124992/250000 (100%)]\tAverage Train Loss: 0.003174\n",
            "\n",
            "Epoch: 29\n",
            "Average Test Loss: 0.0222\n",
            "Test Accuracy: 89.51 %\n",
            "\n",
            "Train Epoch: 30 [47968/250000 (19%)]\tAverage Train Loss: 0.023455\n",
            "Train Epoch: 30 [95968/250000 (38%)]\tAverage Train Loss: 0.022338\n",
            "Train Epoch: 30 [143968/250000 (58%)]\tAverage Train Loss: 0.020971\n",
            "Train Epoch: 30 [191968/250000 (77%)]\tAverage Train Loss: 0.027280\n",
            "Train Epoch: 30 [239968/250000 (96%)]\tAverage Train Loss: 0.019469\n",
            "Train Epoch: 30 [124992/250000 (100%)]\tAverage Train Loss: 0.003586\n",
            "\n",
            "Epoch: 30\n",
            "Average Test Loss: 0.0200\n",
            "Test Accuracy: 90.28 %\n",
            "\n",
            "Train Epoch: 31 [47968/250000 (19%)]\tAverage Train Loss: 0.018787\n",
            "Train Epoch: 31 [95968/250000 (38%)]\tAverage Train Loss: 0.032156\n",
            "Train Epoch: 31 [143968/250000 (58%)]\tAverage Train Loss: 0.015756\n",
            "Train Epoch: 31 [191968/250000 (77%)]\tAverage Train Loss: 0.019579\n",
            "Train Epoch: 31 [239968/250000 (96%)]\tAverage Train Loss: 0.025509\n",
            "Train Epoch: 31 [124992/250000 (100%)]\tAverage Train Loss: 0.003273\n",
            "\n",
            "Epoch: 31\n",
            "Average Test Loss: 0.0232\n",
            "Test Accuracy: 89.88 %\n",
            "\n",
            "Train Epoch: 32 [47968/250000 (19%)]\tAverage Train Loss: 0.026027\n",
            "Train Epoch: 32 [95968/250000 (38%)]\tAverage Train Loss: 0.021788\n",
            "Train Epoch: 32 [143968/250000 (58%)]\tAverage Train Loss: 0.025136\n",
            "Train Epoch: 32 [191968/250000 (77%)]\tAverage Train Loss: 0.020563\n",
            "Train Epoch: 32 [239968/250000 (96%)]\tAverage Train Loss: 0.022160\n",
            "Train Epoch: 32 [124992/250000 (100%)]\tAverage Train Loss: 0.003927\n",
            "\n",
            "Epoch: 32\n",
            "Average Test Loss: 0.0212\n",
            "Test Accuracy: 90.05 %\n",
            "\n",
            "Train Epoch: 33 [47968/250000 (19%)]\tAverage Train Loss: 0.016045\n",
            "Train Epoch: 33 [95968/250000 (38%)]\tAverage Train Loss: 0.020431\n",
            "Train Epoch: 33 [143968/250000 (58%)]\tAverage Train Loss: 0.021303\n",
            "Train Epoch: 33 [191968/250000 (77%)]\tAverage Train Loss: 0.023041\n",
            "Train Epoch: 33 [239968/250000 (96%)]\tAverage Train Loss: 0.021327\n",
            "Train Epoch: 33 [124992/250000 (100%)]\tAverage Train Loss: 0.003105\n",
            "\n",
            "Epoch: 33\n",
            "Average Test Loss: 0.0231\n",
            "Test Accuracy: 90.01 %\n",
            "\n",
            "Train Epoch: 34 [47968/250000 (19%)]\tAverage Train Loss: 0.018714\n",
            "Train Epoch: 34 [95968/250000 (38%)]\tAverage Train Loss: 0.026258\n",
            "Train Epoch: 34 [143968/250000 (58%)]\tAverage Train Loss: 0.019434\n",
            "Train Epoch: 34 [191968/250000 (77%)]\tAverage Train Loss: 0.028054\n",
            "Train Epoch: 34 [239968/250000 (96%)]\tAverage Train Loss: 0.018049\n",
            "Train Epoch: 34 [124992/250000 (100%)]\tAverage Train Loss: 0.014335\n",
            "\n",
            "Epoch: 34\n",
            "Average Test Loss: 0.0176\n",
            "Test Accuracy: 89.25 %\n",
            "\n",
            "Train Epoch: 35 [47968/250000 (19%)]\tAverage Train Loss: 0.012000\n",
            "Train Epoch: 35 [95968/250000 (38%)]\tAverage Train Loss: 0.034144\n",
            "Train Epoch: 35 [143968/250000 (58%)]\tAverage Train Loss: 0.020742\n",
            "Train Epoch: 35 [191968/250000 (77%)]\tAverage Train Loss: 0.018124\n",
            "Train Epoch: 35 [239968/250000 (96%)]\tAverage Train Loss: 0.015492\n",
            "Train Epoch: 35 [124992/250000 (100%)]\tAverage Train Loss: 0.004002\n",
            "\n",
            "Epoch: 35\n",
            "Average Test Loss: 0.0206\n",
            "Test Accuracy: 89.81 %\n",
            "\n",
            "Train Epoch: 36 [47968/250000 (19%)]\tAverage Train Loss: 0.014882\n",
            "Train Epoch: 36 [95968/250000 (38%)]\tAverage Train Loss: 0.022329\n",
            "Train Epoch: 36 [143968/250000 (58%)]\tAverage Train Loss: 0.019295\n",
            "Train Epoch: 36 [191968/250000 (77%)]\tAverage Train Loss: 0.019047\n",
            "Train Epoch: 36 [239968/250000 (96%)]\tAverage Train Loss: 0.020151\n",
            "Train Epoch: 36 [124992/250000 (100%)]\tAverage Train Loss: 0.006962\n",
            "\n",
            "Epoch: 36\n",
            "Average Test Loss: 0.0239\n",
            "Test Accuracy: 90.19 %\n",
            "\n",
            "Train Epoch: 37 [47968/250000 (19%)]\tAverage Train Loss: 0.019455\n",
            "Train Epoch: 37 [95968/250000 (38%)]\tAverage Train Loss: 0.022907\n",
            "Train Epoch: 37 [143968/250000 (58%)]\tAverage Train Loss: 0.013906\n",
            "Train Epoch: 37 [191968/250000 (77%)]\tAverage Train Loss: 0.018035\n",
            "Train Epoch: 37 [239968/250000 (96%)]\tAverage Train Loss: 0.023329\n",
            "Train Epoch: 37 [124992/250000 (100%)]\tAverage Train Loss: 0.003078\n",
            "\n",
            "Epoch: 37\n",
            "Average Test Loss: 0.0239\n",
            "Test Accuracy: 89.81 %\n",
            "\n",
            "Train Epoch: 38 [47968/250000 (19%)]\tAverage Train Loss: 0.019074\n",
            "Train Epoch: 38 [95968/250000 (38%)]\tAverage Train Loss: 0.016873\n",
            "Train Epoch: 38 [143968/250000 (58%)]\tAverage Train Loss: 0.022428\n",
            "Train Epoch: 38 [191968/250000 (77%)]\tAverage Train Loss: 0.019500\n",
            "Train Epoch: 38 [239968/250000 (96%)]\tAverage Train Loss: 0.017509\n",
            "Train Epoch: 38 [124992/250000 (100%)]\tAverage Train Loss: 0.003521\n",
            "\n",
            "Epoch: 38\n",
            "Average Test Loss: 0.0301\n",
            "Test Accuracy: 89.35 %\n",
            "\n",
            "Train Epoch: 39 [47968/250000 (19%)]\tAverage Train Loss: 0.031924\n",
            "Train Epoch: 39 [95968/250000 (38%)]\tAverage Train Loss: 0.015170\n",
            "Train Epoch: 39 [143968/250000 (58%)]\tAverage Train Loss: 0.014363\n",
            "Train Epoch: 39 [191968/250000 (77%)]\tAverage Train Loss: 0.020996\n",
            "Train Epoch: 39 [239968/250000 (96%)]\tAverage Train Loss: 0.018054\n",
            "Train Epoch: 39 [124992/250000 (100%)]\tAverage Train Loss: 0.003942\n",
            "\n",
            "Epoch: 39\n",
            "Average Test Loss: 0.0249\n",
            "Test Accuracy: 90.18 %\n",
            "\n",
            "Train Epoch: 40 [47968/250000 (19%)]\tAverage Train Loss: 0.027108\n",
            "Train Epoch: 40 [95968/250000 (38%)]\tAverage Train Loss: 0.015865\n",
            "Train Epoch: 40 [143968/250000 (58%)]\tAverage Train Loss: 0.012957\n",
            "Train Epoch: 40 [191968/250000 (77%)]\tAverage Train Loss: 0.015657\n",
            "Train Epoch: 40 [239968/250000 (96%)]\tAverage Train Loss: 0.021110\n",
            "Train Epoch: 40 [124992/250000 (100%)]\tAverage Train Loss: 0.004413\n",
            "\n",
            "Epoch: 40\n",
            "Average Test Loss: 0.0201\n",
            "Test Accuracy: 90.20 %\n",
            "\n",
            "Train Epoch: 41 [47968/250000 (19%)]\tAverage Train Loss: 0.013909\n",
            "Train Epoch: 41 [95968/250000 (38%)]\tAverage Train Loss: 0.016024\n",
            "Train Epoch: 41 [143968/250000 (58%)]\tAverage Train Loss: 0.032679\n",
            "Train Epoch: 41 [191968/250000 (77%)]\tAverage Train Loss: 0.014031\n",
            "Train Epoch: 41 [239968/250000 (96%)]\tAverage Train Loss: 0.025712\n",
            "Train Epoch: 41 [124992/250000 (100%)]\tAverage Train Loss: 0.003007\n",
            "\n",
            "Epoch: 41\n",
            "Average Test Loss: 0.0230\n",
            "Test Accuracy: 89.89 %\n",
            "\n",
            "Train Epoch: 42 [47968/250000 (19%)]\tAverage Train Loss: 0.009416\n",
            "Train Epoch: 42 [95968/250000 (38%)]\tAverage Train Loss: 0.018725\n",
            "Train Epoch: 42 [143968/250000 (58%)]\tAverage Train Loss: 0.013962\n",
            "Train Epoch: 42 [191968/250000 (77%)]\tAverage Train Loss: 0.019841\n",
            "Train Epoch: 42 [239968/250000 (96%)]\tAverage Train Loss: 0.020593\n",
            "Train Epoch: 42 [124992/250000 (100%)]\tAverage Train Loss: 0.005997\n",
            "\n",
            "Epoch: 42\n",
            "Average Test Loss: 0.0195\n",
            "Test Accuracy: 89.38 %\n",
            "\n",
            "Train Epoch: 43 [47968/250000 (19%)]\tAverage Train Loss: 0.014632\n",
            "Train Epoch: 43 [95968/250000 (38%)]\tAverage Train Loss: 0.015517\n",
            "Train Epoch: 43 [143968/250000 (58%)]\tAverage Train Loss: 0.016035\n",
            "Train Epoch: 43 [191968/250000 (77%)]\tAverage Train Loss: 0.016764\n",
            "Train Epoch: 43 [239968/250000 (96%)]\tAverage Train Loss: 0.020471\n",
            "Train Epoch: 43 [124992/250000 (100%)]\tAverage Train Loss: 0.003119\n",
            "\n",
            "Epoch: 43\n",
            "Average Test Loss: 0.0241\n",
            "Test Accuracy: 89.73 %\n",
            "\n",
            "Train Epoch: 44 [47968/250000 (19%)]\tAverage Train Loss: 0.013704\n",
            "Train Epoch: 44 [95968/250000 (38%)]\tAverage Train Loss: 0.017070\n",
            "Train Epoch: 44 [143968/250000 (58%)]\tAverage Train Loss: 0.013743\n",
            "Train Epoch: 44 [191968/250000 (77%)]\tAverage Train Loss: 0.017162\n",
            "Train Epoch: 44 [239968/250000 (96%)]\tAverage Train Loss: 0.018986\n",
            "Train Epoch: 44 [124992/250000 (100%)]\tAverage Train Loss: 0.006889\n",
            "\n",
            "Epoch: 44\n",
            "Average Test Loss: 0.0251\n",
            "Test Accuracy: 89.83 %\n",
            "\n",
            "Train Epoch: 45 [47968/250000 (19%)]\tAverage Train Loss: 0.012297\n",
            "Train Epoch: 45 [95968/250000 (38%)]\tAverage Train Loss: 0.023848\n",
            "Train Epoch: 45 [143968/250000 (58%)]\tAverage Train Loss: 0.016185\n",
            "Train Epoch: 45 [191968/250000 (77%)]\tAverage Train Loss: 0.027695\n",
            "Train Epoch: 45 [239968/250000 (96%)]\tAverage Train Loss: 0.014055\n",
            "Train Epoch: 45 [124992/250000 (100%)]\tAverage Train Loss: 0.002055\n",
            "\n",
            "Epoch: 45\n",
            "Average Test Loss: 0.0267\n",
            "Test Accuracy: 90.20 %\n",
            "\n",
            "Train Epoch: 46 [47968/250000 (19%)]\tAverage Train Loss: 0.010883\n",
            "Train Epoch: 46 [95968/250000 (38%)]\tAverage Train Loss: 0.018680\n",
            "Train Epoch: 46 [143968/250000 (58%)]\tAverage Train Loss: 0.020550\n",
            "Train Epoch: 46 [191968/250000 (77%)]\tAverage Train Loss: 0.015066\n",
            "Train Epoch: 46 [239968/250000 (96%)]\tAverage Train Loss: 0.017055\n",
            "Train Epoch: 46 [124992/250000 (100%)]\tAverage Train Loss: 0.002640\n",
            "\n",
            "Epoch: 46\n",
            "Average Test Loss: 0.0252\n",
            "Test Accuracy: 89.93 %\n",
            "\n",
            "Train Epoch: 47 [47968/250000 (19%)]\tAverage Train Loss: 0.021419\n",
            "Train Epoch: 47 [95968/250000 (38%)]\tAverage Train Loss: 0.014998\n",
            "Train Epoch: 47 [143968/250000 (58%)]\tAverage Train Loss: 0.014855\n",
            "Train Epoch: 47 [191968/250000 (77%)]\tAverage Train Loss: 0.012904\n",
            "Train Epoch: 47 [239968/250000 (96%)]\tAverage Train Loss: 0.015621\n",
            "Train Epoch: 47 [124992/250000 (100%)]\tAverage Train Loss: 0.003193\n",
            "\n",
            "Epoch: 47\n",
            "Average Test Loss: 0.0285\n",
            "Test Accuracy: 89.95 %\n",
            "\n",
            "Train Epoch: 48 [47968/250000 (19%)]\tAverage Train Loss: 0.023703\n",
            "Train Epoch: 48 [95968/250000 (38%)]\tAverage Train Loss: 0.013050\n",
            "Train Epoch: 48 [143968/250000 (58%)]\tAverage Train Loss: 0.021887\n",
            "Train Epoch: 48 [191968/250000 (77%)]\tAverage Train Loss: 0.014820\n",
            "Train Epoch: 48 [239968/250000 (96%)]\tAverage Train Loss: 0.015698\n",
            "Train Epoch: 48 [124992/250000 (100%)]\tAverage Train Loss: 0.003180\n",
            "\n",
            "Epoch: 48\n",
            "Average Test Loss: 0.0221\n",
            "Test Accuracy: 90.45 %\n",
            "\n",
            "Train Epoch: 49 [47968/250000 (19%)]\tAverage Train Loss: 0.020631\n",
            "Train Epoch: 49 [95968/250000 (38%)]\tAverage Train Loss: 0.020432\n",
            "Train Epoch: 49 [143968/250000 (58%)]\tAverage Train Loss: 0.012579\n",
            "Train Epoch: 49 [191968/250000 (77%)]\tAverage Train Loss: 0.017619\n",
            "Train Epoch: 49 [239968/250000 (96%)]\tAverage Train Loss: 0.014083\n",
            "Train Epoch: 49 [124992/250000 (100%)]\tAverage Train Loss: 0.002505\n",
            "\n",
            "Epoch: 49\n",
            "Average Test Loss: 0.0291\n",
            "Test Accuracy: 89.61 %\n",
            "\n",
            "Train Epoch: 50 [47968/250000 (19%)]\tAverage Train Loss: 0.024268\n",
            "Train Epoch: 50 [95968/250000 (38%)]\tAverage Train Loss: 0.011108\n",
            "Train Epoch: 50 [143968/250000 (58%)]\tAverage Train Loss: 0.014951\n",
            "Train Epoch: 50 [191968/250000 (77%)]\tAverage Train Loss: 0.019243\n",
            "Train Epoch: 50 [239968/250000 (96%)]\tAverage Train Loss: 0.022842\n",
            "Train Epoch: 50 [124992/250000 (100%)]\tAverage Train Loss: 0.002953\n",
            "\n",
            "Epoch: 50\n",
            "Average Test Loss: 0.0329\n",
            "Test Accuracy: 90.48 %\n",
            "\n"
          ],
          "name": "stdout"
        }
      ]
    },
    {
      "cell_type": "code",
      "metadata": {
        "id": "eeNlX8dbt5tK"
      },
      "source": [
        ""
      ],
      "execution_count": 14,
      "outputs": []
    }
  ]
}
