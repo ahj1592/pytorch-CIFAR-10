{
  "nbformat": 4,
  "nbformat_minor": 0,
  "metadata": {
    "colab": {
      "name": "EMNIST(CNN)",
      "provenance": [],
      "collapsed_sections": []
    },
    "kernelspec": {
      "name": "python3",
      "display_name": "Python 3"
    },
    "language_info": {
      "name": "python"
    },
    "widgets": {
      "application/vnd.jupyter.widget-state+json": {
        "1b3aff9b472f42058a7de93bfeb3c652": {
          "model_module": "@jupyter-widgets/controls",
          "model_name": "HBoxModel",
          "state": {
            "_view_name": "HBoxView",
            "_dom_classes": [],
            "_model_name": "HBoxModel",
            "_view_module": "@jupyter-widgets/controls",
            "_model_module_version": "1.5.0",
            "_view_count": null,
            "_view_module_version": "1.5.0",
            "box_style": "",
            "layout": "IPY_MODEL_a89a050f5411482886355641e85abc7a",
            "_model_module": "@jupyter-widgets/controls",
            "children": [
              "IPY_MODEL_b3454e301895484da0626f80fee1981f",
              "IPY_MODEL_75adf25a1f624d10b641f8ba5518a3d5"
            ]
          }
        },
        "a89a050f5411482886355641e85abc7a": {
          "model_module": "@jupyter-widgets/base",
          "model_name": "LayoutModel",
          "state": {
            "_view_name": "LayoutView",
            "grid_template_rows": null,
            "right": null,
            "justify_content": null,
            "_view_module": "@jupyter-widgets/base",
            "overflow": null,
            "_model_module_version": "1.2.0",
            "_view_count": null,
            "flex_flow": null,
            "width": null,
            "min_width": null,
            "border": null,
            "align_items": null,
            "bottom": null,
            "_model_module": "@jupyter-widgets/base",
            "top": null,
            "grid_column": null,
            "overflow_y": null,
            "overflow_x": null,
            "grid_auto_flow": null,
            "grid_area": null,
            "grid_template_columns": null,
            "flex": null,
            "_model_name": "LayoutModel",
            "justify_items": null,
            "grid_row": null,
            "max_height": null,
            "align_content": null,
            "visibility": null,
            "align_self": null,
            "height": null,
            "min_height": null,
            "padding": null,
            "grid_auto_rows": null,
            "grid_gap": null,
            "max_width": null,
            "order": null,
            "_view_module_version": "1.2.0",
            "grid_template_areas": null,
            "object_position": null,
            "object_fit": null,
            "grid_auto_columns": null,
            "margin": null,
            "display": null,
            "left": null
          }
        },
        "b3454e301895484da0626f80fee1981f": {
          "model_module": "@jupyter-widgets/controls",
          "model_name": "FloatProgressModel",
          "state": {
            "_view_name": "ProgressView",
            "style": "IPY_MODEL_39f917e10d59413bb52eb8854edb33b4",
            "_dom_classes": [],
            "description": "",
            "_model_name": "FloatProgressModel",
            "bar_style": "success",
            "max": 561753746,
            "_view_module": "@jupyter-widgets/controls",
            "_model_module_version": "1.5.0",
            "value": 561753746,
            "_view_count": null,
            "_view_module_version": "1.5.0",
            "orientation": "horizontal",
            "min": 0,
            "description_tooltip": null,
            "_model_module": "@jupyter-widgets/controls",
            "layout": "IPY_MODEL_44d92af1691d48d79ea91df9ff79cbd1"
          }
        },
        "75adf25a1f624d10b641f8ba5518a3d5": {
          "model_module": "@jupyter-widgets/controls",
          "model_name": "HTMLModel",
          "state": {
            "_view_name": "HTMLView",
            "style": "IPY_MODEL_22fa767a37564e13ab78eb71e1d194c9",
            "_dom_classes": [],
            "description": "",
            "_model_name": "HTMLModel",
            "placeholder": "​",
            "_view_module": "@jupyter-widgets/controls",
            "_model_module_version": "1.5.0",
            "value": " 561754112/? [03:47&lt;00:00, 2468968.91it/s]",
            "_view_count": null,
            "_view_module_version": "1.5.0",
            "description_tooltip": null,
            "_model_module": "@jupyter-widgets/controls",
            "layout": "IPY_MODEL_76b81205973a45d59956fbac879320b4"
          }
        },
        "39f917e10d59413bb52eb8854edb33b4": {
          "model_module": "@jupyter-widgets/controls",
          "model_name": "ProgressStyleModel",
          "state": {
            "_view_name": "StyleView",
            "_model_name": "ProgressStyleModel",
            "description_width": "initial",
            "_view_module": "@jupyter-widgets/base",
            "_model_module_version": "1.5.0",
            "_view_count": null,
            "_view_module_version": "1.2.0",
            "bar_color": null,
            "_model_module": "@jupyter-widgets/controls"
          }
        },
        "44d92af1691d48d79ea91df9ff79cbd1": {
          "model_module": "@jupyter-widgets/base",
          "model_name": "LayoutModel",
          "state": {
            "_view_name": "LayoutView",
            "grid_template_rows": null,
            "right": null,
            "justify_content": null,
            "_view_module": "@jupyter-widgets/base",
            "overflow": null,
            "_model_module_version": "1.2.0",
            "_view_count": null,
            "flex_flow": null,
            "width": null,
            "min_width": null,
            "border": null,
            "align_items": null,
            "bottom": null,
            "_model_module": "@jupyter-widgets/base",
            "top": null,
            "grid_column": null,
            "overflow_y": null,
            "overflow_x": null,
            "grid_auto_flow": null,
            "grid_area": null,
            "grid_template_columns": null,
            "flex": null,
            "_model_name": "LayoutModel",
            "justify_items": null,
            "grid_row": null,
            "max_height": null,
            "align_content": null,
            "visibility": null,
            "align_self": null,
            "height": null,
            "min_height": null,
            "padding": null,
            "grid_auto_rows": null,
            "grid_gap": null,
            "max_width": null,
            "order": null,
            "_view_module_version": "1.2.0",
            "grid_template_areas": null,
            "object_position": null,
            "object_fit": null,
            "grid_auto_columns": null,
            "margin": null,
            "display": null,
            "left": null
          }
        },
        "22fa767a37564e13ab78eb71e1d194c9": {
          "model_module": "@jupyter-widgets/controls",
          "model_name": "DescriptionStyleModel",
          "state": {
            "_view_name": "StyleView",
            "_model_name": "DescriptionStyleModel",
            "description_width": "",
            "_view_module": "@jupyter-widgets/base",
            "_model_module_version": "1.5.0",
            "_view_count": null,
            "_view_module_version": "1.2.0",
            "_model_module": "@jupyter-widgets/controls"
          }
        },
        "76b81205973a45d59956fbac879320b4": {
          "model_module": "@jupyter-widgets/base",
          "model_name": "LayoutModel",
          "state": {
            "_view_name": "LayoutView",
            "grid_template_rows": null,
            "right": null,
            "justify_content": null,
            "_view_module": "@jupyter-widgets/base",
            "overflow": null,
            "_model_module_version": "1.2.0",
            "_view_count": null,
            "flex_flow": null,
            "width": null,
            "min_width": null,
            "border": null,
            "align_items": null,
            "bottom": null,
            "_model_module": "@jupyter-widgets/base",
            "top": null,
            "grid_column": null,
            "overflow_y": null,
            "overflow_x": null,
            "grid_auto_flow": null,
            "grid_area": null,
            "grid_template_columns": null,
            "flex": null,
            "_model_name": "LayoutModel",
            "justify_items": null,
            "grid_row": null,
            "max_height": null,
            "align_content": null,
            "visibility": null,
            "align_self": null,
            "height": null,
            "min_height": null,
            "padding": null,
            "grid_auto_rows": null,
            "grid_gap": null,
            "max_width": null,
            "order": null,
            "_view_module_version": "1.2.0",
            "grid_template_areas": null,
            "object_position": null,
            "object_fit": null,
            "grid_auto_columns": null,
            "margin": null,
            "display": null,
            "left": null
          }
        }
      }
    },
    "accelerator": "GPU"
  },
  "cells": [
    {
      "cell_type": "markdown",
      "metadata": {
        "id": "nkyjSu_V6MEu"
      },
      "source": [
        "# Import requirements"
      ]
    },
    {
      "cell_type": "code",
      "metadata": {
        "colab": {
          "base_uri": "https://localhost:8080/"
        },
        "id": "NFRjq3jxScCr",
        "outputId": "ed1c0ac9-f0ca-455c-96e6-63e73d742ad7"
      },
      "source": [
        "import os\n",
        "import random\n",
        "import numpy as np\n",
        "from tqdm import tqdm\n",
        "\n",
        "import matplotlib.pyplot as plt\n",
        "import seaborn as sns\n",
        "\n",
        "import torch\n",
        "import torch.nn as nn\n",
        "import torch.nn.functional as F\n",
        "from torchvision import transforms, datasets\n",
        "\n",
        "if torch.cuda.is_available():\n",
        "    DEVICE = torch.device('cuda')\n",
        "else:\n",
        "    DEVICE = torch.device('cpu')\n",
        "print(f'Device: {DEVICE}')\n",
        "\n",
        "os.environ['CUDA_LAUNCH_BLOCKING'] = \"1\"\n",
        "os.environ[\"CUDA_VISIBLE_DEVICES\"] = \"0\""
      ],
      "execution_count": 1,
      "outputs": [
        {
          "output_type": "stream",
          "text": [
            "Device: cuda\n"
          ],
          "name": "stdout"
        }
      ]
    },
    {
      "cell_type": "markdown",
      "metadata": {
        "id": "kO45Icj16BO3"
      },
      "source": [
        "# Data Augmentation Using `transforms`"
      ]
    },
    {
      "cell_type": "code",
      "metadata": {
        "colab": {
          "base_uri": "https://localhost:8080/",
          "height": 152,
          "referenced_widgets": [
            "1b3aff9b472f42058a7de93bfeb3c652",
            "a89a050f5411482886355641e85abc7a",
            "b3454e301895484da0626f80fee1981f",
            "75adf25a1f624d10b641f8ba5518a3d5",
            "39f917e10d59413bb52eb8854edb33b4",
            "44d92af1691d48d79ea91df9ff79cbd1",
            "22fa767a37564e13ab78eb71e1d194c9",
            "76b81205973a45d59956fbac879320b4"
          ]
        },
        "id": "AMwtNrQySvYW",
        "outputId": "0693cb66-81f4-469e-915f-48a5dcb09daa"
      },
      "source": [
        "train_dataset = datasets.EMNIST(root='../data/EMNIST',\n",
        "                                 train=True,\n",
        "                                 download=True,\n",
        "                                 split = 'letters',\n",
        "                                 transform=transforms.ToTensor(),\n",
        "                                 \n",
        "                                )\n",
        "test_dataset = datasets.EMNIST(root='../data/EMNIST',\n",
        "                                train=False,\n",
        "                                download=True,\n",
        "                                split = 'letters',\n",
        "                                transform=transforms.ToTensor(),\n",
        "                                )"
      ],
      "execution_count": 2,
      "outputs": [
        {
          "output_type": "stream",
          "text": [
            "Downloading https://www.itl.nist.gov/iaui/vip/cs_links/EMNIST/gzip.zip to ../data/EMNIST/EMNIST/raw/gzip.zip\n"
          ],
          "name": "stdout"
        },
        {
          "output_type": "display_data",
          "data": {
            "application/vnd.jupyter.widget-view+json": {
              "model_id": "1b3aff9b472f42058a7de93bfeb3c652",
              "version_minor": 0,
              "version_major": 2
            },
            "text/plain": [
              "HBox(children=(FloatProgress(value=0.0, max=561753746.0), HTML(value='')))"
            ]
          },
          "metadata": {
            "tags": []
          }
        },
        {
          "output_type": "stream",
          "text": [
            "\n",
            "Extracting ../data/EMNIST/EMNIST/raw/gzip.zip to ../data/EMNIST/EMNIST/raw\n"
          ],
          "name": "stdout"
        },
        {
          "output_type": "stream",
          "text": [
            "/usr/local/lib/python3.7/dist-packages/torchvision/datasets/mnist.py:498: UserWarning: The given NumPy array is not writeable, and PyTorch does not support non-writeable tensors. This means you can write to the underlying (supposedly non-writeable) NumPy array using the tensor. You may want to copy the array to protect its data or make it writeable before converting it to a tensor. This type of warning will be suppressed for the rest of this program. (Triggered internally at  /pytorch/torch/csrc/utils/tensor_numpy.cpp:180.)\n",
            "  return torch.from_numpy(parsed.astype(m[2], copy=False)).view(*s)\n"
          ],
          "name": "stderr"
        }
      ]
    },
    {
      "cell_type": "code",
      "metadata": {
        "colab": {
          "base_uri": "https://localhost:8080/"
        },
        "id": "40_ikEoPGZd_",
        "outputId": "299adf4a-5990-4f27-f3ce-bfbf9bdc6d48"
      },
      "source": [
        "for image, label in train_dataset:\n",
        "    print(image.shape)\n",
        "    print(label)\n",
        "    break"
      ],
      "execution_count": 3,
      "outputs": [
        {
          "output_type": "stream",
          "text": [
            "torch.Size([1, 28, 28])\n",
            "23\n"
          ],
          "name": "stdout"
        }
      ]
    },
    {
      "cell_type": "code",
      "metadata": {
        "id": "R3m3hj9nUcio"
      },
      "source": [
        "BATCH_SIZE = 32\n",
        "\n",
        "train_loader = torch.utils.data.DataLoader(\n",
        "    dataset=train_dataset, \n",
        "    batch_size=BATCH_SIZE,\n",
        "    shuffle=True\n",
        ")\n",
        "\n",
        "test_loader = torch.utils.data.DataLoader(\n",
        "    dataset=test_dataset,\n",
        "    batch_size=BATCH_SIZE,\n",
        "    shuffle=False,\n",
        ")"
      ],
      "execution_count": 4,
      "outputs": []
    },
    {
      "cell_type": "markdown",
      "metadata": {
        "id": "Gg37zH3Z6VxK"
      },
      "source": [
        "# Define the Convolution Neural Network (CNN)"
      ]
    },
    {
      "cell_type": "code",
      "metadata": {
        "id": "k3jcHCcA_0lb"
      },
      "source": [
        "class ConvNet(nn.Module):\n",
        "    def __init__(self):\n",
        "        super(ConvNet, self).__init__()\n",
        "        # input shape = (1, 28, 28)\n",
        "        self.conv = nn.Sequential(\n",
        "            nn.Conv2d(1, 64, 3, padding=1, bias=False), # (28, 28)\n",
        "            nn.BatchNorm2d(64),\n",
        "            nn.ReLU(),\n",
        "            nn.Conv2d(64, 64, 3, padding=1, bias=False), # (28, 28)\n",
        "            nn.BatchNorm2d(64),\n",
        "            nn.ReLU(),\n",
        "            nn.MaxPool2d(2, 2), # (14, 14)\n",
        "            \n",
        "            nn.Conv2d(64, 128, 3, padding=1, bias=False), # (14, 14)\n",
        "            nn.BatchNorm2d(128),\n",
        "            nn.ReLU(),\n",
        "            nn.Conv2d(128, 128, 3, padding=1, bias=False), # (14, 14)\n",
        "            nn.BatchNorm2d(128),\n",
        "            nn.ReLU(),\n",
        "            nn.MaxPool2d(2, 2), # (7, 7)\n",
        "        )\n",
        "\n",
        "\n",
        "        self.clssify = nn.Sequential(\n",
        "            nn.Linear(7*7*128, 1024),\n",
        "            nn.ReLU(),\n",
        "            nn.Dropout(0.5),\n",
        "            nn.Linear(1024, 26),\n",
        "        )\n",
        "\n",
        "    def forward(self, x):\n",
        "        x = self.conv(x)\n",
        "        x = x.view(-1, 7*7*128)\n",
        "        x = self.clssify(x)\n",
        "        return x"
      ],
      "execution_count": 10,
      "outputs": []
    },
    {
      "cell_type": "markdown",
      "metadata": {
        "id": "Durloa9S6hPO"
      },
      "source": [
        "# Define the train, evaluation"
      ]
    },
    {
      "cell_type": "code",
      "metadata": {
        "id": "ouAyIUJ9Wt5a"
      },
      "source": [
        "def train(model, train_loader, optimizer, log_interval):\n",
        "    model.train()\n",
        "    train_loss = 0\n",
        "    correct = 0\n",
        "\n",
        "    for batch_idx, (image, label) in enumerate(train_loader):\n",
        "        image = image.to(DEVICE)\n",
        "        label = label.to(DEVICE)\n",
        "        label -= 1\n",
        "\n",
        "        optimizer.zero_grad()\n",
        "        output = model(image)\n",
        "        loss = criterion(output, label)\n",
        "        train_loss += loss.item()\n",
        "        loss.backward()\n",
        "        optimizer.step()\n",
        "\n",
        "        if (batch_idx + 1) % log_interval == 0:\n",
        "            pct = 100 * batch_idx / len(train_loader) # percent\n",
        "            train_loss /= log_interval\n",
        "            print(f'Train Epoch: {Epoch} [{batch_idx * len(image)}/{len(train_loader.dataset)} ({pct:.0f}%)]\\tAverage Train Loss: {train_loss:.6f}')\n",
        "            train_loss = 0\n",
        "\n",
        "\n",
        "def evaluate(model, test_loader):\n",
        "    model.eval()\n",
        "    test_loss = 0\n",
        "    correct = 0\n",
        "\n",
        "    with torch.no_grad():\n",
        "        for image, label in test_loader:\n",
        "            image = image.to(DEVICE)\n",
        "            label = label.to(DEVICE)\n",
        "            label -= 1\n",
        "            \n",
        "            output = model(image)\n",
        "            test_loss += criterion(output, label).item()\n",
        "            pred = output.argmax(dim=1, keepdim=True)\n",
        "            correct += pred.eq(label.view_as(pred)).sum().item()\n",
        "    test_loss /= len(test_loader.dataset)\n",
        "    test_accuracy = 100 * correct / len(test_loader.dataset)\n",
        "\n",
        "    return test_loss, test_accuracy"
      ],
      "execution_count": 6,
      "outputs": []
    },
    {
      "cell_type": "markdown",
      "metadata": {
        "id": "xrjIlYb16ltY"
      },
      "source": [
        "# set seeds"
      ]
    },
    {
      "cell_type": "code",
      "metadata": {
        "id": "eG7t0-5vMzyi"
      },
      "source": [
        "def fix_seeds(seed = 42, use_torch=False):\n",
        "    # fix the seed for reproducibility \n",
        "    os.environ['PYTHONHASHSEED'] = str(seed)\n",
        "    random.seed(seed)\n",
        "    np.random.seed(seed)\n",
        "\n",
        "    if use_torch: \n",
        "        torch.manual_seed(seed) \n",
        "        torch.cuda.manual_seed(seed)\n",
        "        torch.backends.cudnn.deterministic = True"
      ],
      "execution_count": 7,
      "outputs": []
    },
    {
      "cell_type": "markdown",
      "metadata": {
        "id": "s1aOKVvtM7SV"
      },
      "source": [
        "# initialize the weights"
      ]
    },
    {
      "cell_type": "code",
      "metadata": {
        "id": "h7bduOeURG9-"
      },
      "source": [
        "def init_weights(m):\n",
        "    # initialize the weight, bias\n",
        "    if isinstance(m, nn.Conv2d):\n",
        "        torch.nn.init.kaiming_uniform_(m.weight.data)\n",
        "        if m.bias is not None:\n",
        "            torch.nn.init.normal_(m.bias.data)\n",
        "    elif isinstance(m, nn.BatchNorm2d):\n",
        "        torch.nn.init.normal_(m.weight.data, mean=1, std=0.02)\n",
        "        torch.nn.init.constant_(m.bias.data, 0)\n",
        "    elif isinstance(m, nn.Linear):\n",
        "        torch.nn.init.kaiming_uniform_(m.weight.data)\n",
        "        torch.nn.init.normal_(m.bias.data)"
      ],
      "execution_count": 8,
      "outputs": []
    },
    {
      "cell_type": "markdown",
      "metadata": {
        "id": "bJ_GaCMiM_A0"
      },
      "source": [
        "# Train & Test the model"
      ]
    },
    {
      "cell_type": "code",
      "metadata": {
        "colab": {
          "base_uri": "https://localhost:8080/"
        },
        "id": "K1cUvyo7PJHV",
        "outputId": "7637c041-5d37-4d4a-dc27-7619c47fd6f2"
      },
      "source": [
        "len(train_loader.dataset)"
      ],
      "execution_count": 13,
      "outputs": [
        {
          "output_type": "execute_result",
          "data": {
            "text/plain": [
              "124800"
            ]
          },
          "metadata": {
            "tags": []
          },
          "execution_count": 13
        }
      ]
    },
    {
      "cell_type": "code",
      "metadata": {
        "colab": {
          "base_uri": "https://localhost:8080/"
        },
        "id": "zvfG337EbK51",
        "outputId": "eda03c5a-cca4-4c7d-875a-1d6e2c587354"
      },
      "source": [
        "SEED = 42\n",
        "EPOCHS = 20\n",
        "#DEVICE = torch.device('cpu')\n",
        "\n",
        "\n",
        "fix_seeds(seed=SEED, use_torch=True)\n",
        "model = ConvNet().to(device=DEVICE)\n",
        "model.apply(init_weights)\n",
        "\n",
        "optimizer = torch.optim.Adam(model.parameters(), lr=0.001)\n",
        "scheduler = torch.optim.lr_scheduler.ReduceLROnPlateau(optimizer, 'min', patience=5)\n",
        "criterion = nn.CrossEntropyLoss()\n",
        "\n",
        "\n",
        "for Epoch in range(1, EPOCHS + 1):\n",
        "    train(model, train_loader, optimizer, log_interval=len(train_loader) * 0.2)\n",
        "    test_loss, test_acc = evaluate(model, test_loader)\n",
        "    scheduler.step(test_loss)\n",
        "\n",
        "    print(f'\\nEpoch: {Epoch}')\n",
        "    print(f'Average Test Loss: {test_loss:.4f}')\n",
        "    print(f'Test Accuracy: {test_acc:.2f} %\\n')\n",
        "    #torch.save(model, f'./models/model_{Epoch:02d}.pt')"
      ],
      "execution_count": 15,
      "outputs": [
        {
          "output_type": "stream",
          "text": [
            "Train Epoch: 1 [24928/124800 (20%)]\tAverage Train Loss: 1.281469\n",
            "Train Epoch: 1 [49888/124800 (40%)]\tAverage Train Loss: 0.567666\n",
            "Train Epoch: 1 [74848/124800 (60%)]\tAverage Train Loss: 0.454784\n",
            "Train Epoch: 1 [99808/124800 (80%)]\tAverage Train Loss: 0.393729\n",
            "Train Epoch: 1 [124768/124800 (100%)]\tAverage Train Loss: 0.360165\n",
            "\n",
            "Epoch: 1\n",
            "Average Test Loss: 0.0068\n",
            "Test Accuracy: 92.76 %\n",
            "\n",
            "Train Epoch: 2 [24928/124800 (20%)]\tAverage Train Loss: 0.318757\n",
            "Train Epoch: 2 [49888/124800 (40%)]\tAverage Train Loss: 0.298382\n",
            "Train Epoch: 2 [74848/124800 (60%)]\tAverage Train Loss: 0.278921\n",
            "Train Epoch: 2 [99808/124800 (80%)]\tAverage Train Loss: 0.263882\n",
            "Train Epoch: 2 [124768/124800 (100%)]\tAverage Train Loss: 0.251011\n",
            "\n",
            "Epoch: 2\n",
            "Average Test Loss: 0.0058\n",
            "Test Accuracy: 93.82 %\n",
            "\n",
            "Train Epoch: 3 [24928/124800 (20%)]\tAverage Train Loss: 0.219814\n",
            "Train Epoch: 3 [49888/124800 (40%)]\tAverage Train Loss: 0.218117\n",
            "Train Epoch: 3 [74848/124800 (60%)]\tAverage Train Loss: 0.220862\n",
            "Train Epoch: 3 [99808/124800 (80%)]\tAverage Train Loss: 0.217914\n",
            "Train Epoch: 3 [124768/124800 (100%)]\tAverage Train Loss: 0.211989\n",
            "\n",
            "Epoch: 3\n",
            "Average Test Loss: 0.0056\n",
            "Test Accuracy: 94.12 %\n",
            "\n",
            "Train Epoch: 4 [24928/124800 (20%)]\tAverage Train Loss: 0.182396\n",
            "Train Epoch: 4 [49888/124800 (40%)]\tAverage Train Loss: 0.188324\n",
            "Train Epoch: 4 [74848/124800 (60%)]\tAverage Train Loss: 0.185010\n",
            "Train Epoch: 4 [99808/124800 (80%)]\tAverage Train Loss: 0.183551\n",
            "Train Epoch: 4 [124768/124800 (100%)]\tAverage Train Loss: 0.185642\n",
            "\n",
            "Epoch: 4\n",
            "Average Test Loss: 0.0054\n",
            "Test Accuracy: 94.26 %\n",
            "\n",
            "Train Epoch: 5 [24928/124800 (20%)]\tAverage Train Loss: 0.159663\n",
            "Train Epoch: 5 [49888/124800 (40%)]\tAverage Train Loss: 0.163772\n",
            "Train Epoch: 5 [74848/124800 (60%)]\tAverage Train Loss: 0.164362\n",
            "Train Epoch: 5 [99808/124800 (80%)]\tAverage Train Loss: 0.163258\n",
            "Train Epoch: 5 [124768/124800 (100%)]\tAverage Train Loss: 0.162149\n",
            "\n",
            "Epoch: 5\n",
            "Average Test Loss: 0.0050\n",
            "Test Accuracy: 94.70 %\n",
            "\n",
            "Train Epoch: 6 [24928/124800 (20%)]\tAverage Train Loss: 0.136296\n",
            "Train Epoch: 6 [49888/124800 (40%)]\tAverage Train Loss: 0.142903\n",
            "Train Epoch: 6 [74848/124800 (60%)]\tAverage Train Loss: 0.143817\n",
            "Train Epoch: 6 [99808/124800 (80%)]\tAverage Train Loss: 0.147556\n",
            "Train Epoch: 6 [124768/124800 (100%)]\tAverage Train Loss: 0.149770\n",
            "\n",
            "Epoch: 6\n",
            "Average Test Loss: 0.0050\n",
            "Test Accuracy: 94.51 %\n",
            "\n",
            "Train Epoch: 7 [24928/124800 (20%)]\tAverage Train Loss: 0.125694\n",
            "Train Epoch: 7 [49888/124800 (40%)]\tAverage Train Loss: 0.132080\n",
            "Train Epoch: 7 [74848/124800 (60%)]\tAverage Train Loss: 0.131685\n",
            "Train Epoch: 7 [99808/124800 (80%)]\tAverage Train Loss: 0.132313\n",
            "Train Epoch: 7 [124768/124800 (100%)]\tAverage Train Loss: 0.131597\n",
            "\n",
            "Epoch: 7\n",
            "Average Test Loss: 0.0055\n",
            "Test Accuracy: 94.65 %\n",
            "\n",
            "Train Epoch: 8 [24928/124800 (20%)]\tAverage Train Loss: 0.112595\n",
            "Train Epoch: 8 [49888/124800 (40%)]\tAverage Train Loss: 0.120188\n",
            "Train Epoch: 8 [74848/124800 (60%)]\tAverage Train Loss: 0.119796\n",
            "Train Epoch: 8 [99808/124800 (80%)]\tAverage Train Loss: 0.128501\n",
            "Train Epoch: 8 [124768/124800 (100%)]\tAverage Train Loss: 0.122598\n",
            "\n",
            "Epoch: 8\n",
            "Average Test Loss: 0.0056\n",
            "Test Accuracy: 94.47 %\n",
            "\n",
            "Train Epoch: 9 [24928/124800 (20%)]\tAverage Train Loss: 0.109530\n",
            "Train Epoch: 9 [49888/124800 (40%)]\tAverage Train Loss: 0.106972\n",
            "Train Epoch: 9 [74848/124800 (60%)]\tAverage Train Loss: 0.112614\n",
            "Train Epoch: 9 [99808/124800 (80%)]\tAverage Train Loss: 0.112743\n",
            "Train Epoch: 9 [124768/124800 (100%)]\tAverage Train Loss: 0.116013\n",
            "\n",
            "Epoch: 9\n",
            "Average Test Loss: 0.0054\n",
            "Test Accuracy: 95.06 %\n",
            "\n",
            "Train Epoch: 10 [24928/124800 (20%)]\tAverage Train Loss: 0.100572\n",
            "Train Epoch: 10 [49888/124800 (40%)]\tAverage Train Loss: 0.100192\n",
            "Train Epoch: 10 [74848/124800 (60%)]\tAverage Train Loss: 0.104540\n",
            "Train Epoch: 10 [99808/124800 (80%)]\tAverage Train Loss: 0.105621\n",
            "Train Epoch: 10 [124768/124800 (100%)]\tAverage Train Loss: 0.105968\n",
            "\n",
            "Epoch: 10\n",
            "Average Test Loss: 0.0056\n",
            "Test Accuracy: 94.99 %\n",
            "\n",
            "Train Epoch: 11 [24928/124800 (20%)]\tAverage Train Loss: 0.087533\n",
            "Train Epoch: 11 [49888/124800 (40%)]\tAverage Train Loss: 0.091625\n",
            "Train Epoch: 11 [74848/124800 (60%)]\tAverage Train Loss: 0.102594\n",
            "Train Epoch: 11 [99808/124800 (80%)]\tAverage Train Loss: 0.105020\n",
            "Train Epoch: 11 [124768/124800 (100%)]\tAverage Train Loss: 0.103199\n",
            "\n",
            "Epoch: 11\n",
            "Average Test Loss: 0.0054\n",
            "Test Accuracy: 94.93 %\n",
            "\n",
            "Train Epoch: 12 [24928/124800 (20%)]\tAverage Train Loss: 0.071830\n",
            "Train Epoch: 12 [49888/124800 (40%)]\tAverage Train Loss: 0.068081\n",
            "Train Epoch: 12 [74848/124800 (60%)]\tAverage Train Loss: 0.068988\n",
            "Train Epoch: 12 [99808/124800 (80%)]\tAverage Train Loss: 0.067835\n",
            "Train Epoch: 12 [124768/124800 (100%)]\tAverage Train Loss: 0.068078\n",
            "\n",
            "Epoch: 12\n",
            "Average Test Loss: 0.0054\n",
            "Test Accuracy: 95.28 %\n",
            "\n",
            "Train Epoch: 13 [24928/124800 (20%)]\tAverage Train Loss: 0.067799\n",
            "Train Epoch: 13 [49888/124800 (40%)]\tAverage Train Loss: 0.060881\n",
            "Train Epoch: 13 [74848/124800 (60%)]\tAverage Train Loss: 0.058553\n",
            "Train Epoch: 13 [99808/124800 (80%)]\tAverage Train Loss: 0.058705\n",
            "Train Epoch: 13 [124768/124800 (100%)]\tAverage Train Loss: 0.058313\n",
            "\n",
            "Epoch: 13\n",
            "Average Test Loss: 0.0057\n",
            "Test Accuracy: 95.30 %\n",
            "\n",
            "Train Epoch: 14 [24928/124800 (20%)]\tAverage Train Loss: 0.056075\n",
            "Train Epoch: 14 [49888/124800 (40%)]\tAverage Train Loss: 0.050824\n",
            "Train Epoch: 14 [74848/124800 (60%)]\tAverage Train Loss: 0.057228\n",
            "Train Epoch: 14 [99808/124800 (80%)]\tAverage Train Loss: 0.057997\n",
            "Train Epoch: 14 [124768/124800 (100%)]\tAverage Train Loss: 0.057452\n",
            "\n",
            "Epoch: 14\n",
            "Average Test Loss: 0.0057\n",
            "Test Accuracy: 95.31 %\n",
            "\n",
            "Train Epoch: 15 [24928/124800 (20%)]\tAverage Train Loss: 0.054260\n",
            "Train Epoch: 15 [49888/124800 (40%)]\tAverage Train Loss: 0.052170\n",
            "Train Epoch: 15 [74848/124800 (60%)]\tAverage Train Loss: 0.053538\n",
            "Train Epoch: 15 [99808/124800 (80%)]\tAverage Train Loss: 0.052333\n",
            "Train Epoch: 15 [124768/124800 (100%)]\tAverage Train Loss: 0.054065\n",
            "\n",
            "Epoch: 15\n",
            "Average Test Loss: 0.0059\n",
            "Test Accuracy: 95.21 %\n",
            "\n",
            "Train Epoch: 16 [24928/124800 (20%)]\tAverage Train Loss: 0.050077\n",
            "Train Epoch: 16 [49888/124800 (40%)]\tAverage Train Loss: 0.049100\n",
            "Train Epoch: 16 [74848/124800 (60%)]\tAverage Train Loss: 0.050720\n",
            "Train Epoch: 16 [99808/124800 (80%)]\tAverage Train Loss: 0.049387\n",
            "Train Epoch: 16 [124768/124800 (100%)]\tAverage Train Loss: 0.050947\n",
            "\n",
            "Epoch: 16\n",
            "Average Test Loss: 0.0061\n",
            "Test Accuracy: 95.24 %\n",
            "\n",
            "Train Epoch: 17 [24928/124800 (20%)]\tAverage Train Loss: 0.047067\n",
            "Train Epoch: 17 [49888/124800 (40%)]\tAverage Train Loss: 0.048203\n",
            "Train Epoch: 17 [74848/124800 (60%)]\tAverage Train Loss: 0.049631\n",
            "Train Epoch: 17 [99808/124800 (80%)]\tAverage Train Loss: 0.049164\n",
            "Train Epoch: 17 [124768/124800 (100%)]\tAverage Train Loss: 0.047250\n",
            "\n",
            "Epoch: 17\n",
            "Average Test Loss: 0.0062\n",
            "Test Accuracy: 95.24 %\n",
            "\n",
            "Train Epoch: 18 [24928/124800 (20%)]\tAverage Train Loss: 0.046462\n",
            "Train Epoch: 18 [49888/124800 (40%)]\tAverage Train Loss: 0.044502\n",
            "Train Epoch: 18 [74848/124800 (60%)]\tAverage Train Loss: 0.045121\n",
            "Train Epoch: 18 [99808/124800 (80%)]\tAverage Train Loss: 0.043896\n",
            "Train Epoch: 18 [124768/124800 (100%)]\tAverage Train Loss: 0.045947\n",
            "\n",
            "Epoch: 18\n",
            "Average Test Loss: 0.0062\n",
            "Test Accuracy: 95.29 %\n",
            "\n",
            "Train Epoch: 19 [24928/124800 (20%)]\tAverage Train Loss: 0.043280\n",
            "Train Epoch: 19 [49888/124800 (40%)]\tAverage Train Loss: 0.044899\n",
            "Train Epoch: 19 [74848/124800 (60%)]\tAverage Train Loss: 0.043038\n",
            "Train Epoch: 19 [99808/124800 (80%)]\tAverage Train Loss: 0.047077\n",
            "Train Epoch: 19 [124768/124800 (100%)]\tAverage Train Loss: 0.042420\n",
            "\n",
            "Epoch: 19\n",
            "Average Test Loss: 0.0063\n",
            "Test Accuracy: 95.31 %\n",
            "\n",
            "Train Epoch: 20 [24928/124800 (20%)]\tAverage Train Loss: 0.043801\n",
            "Train Epoch: 20 [49888/124800 (40%)]\tAverage Train Loss: 0.044733\n",
            "Train Epoch: 20 [74848/124800 (60%)]\tAverage Train Loss: 0.044084\n",
            "Train Epoch: 20 [99808/124800 (80%)]\tAverage Train Loss: 0.042251\n",
            "Train Epoch: 20 [124768/124800 (100%)]\tAverage Train Loss: 0.044414\n",
            "\n",
            "Epoch: 20\n",
            "Average Test Loss: 0.0064\n",
            "Test Accuracy: 95.35 %\n",
            "\n"
          ],
          "name": "stdout"
        }
      ]
    },
    {
      "cell_type": "code",
      "metadata": {
        "id": "eeNlX8dbt5tK"
      },
      "source": [
        ""
      ],
      "execution_count": null,
      "outputs": []
    }
  ]
}